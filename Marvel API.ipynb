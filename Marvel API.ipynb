{
 "cells": [
  {
   "cell_type": "markdown",
   "id": "0b40732c",
   "metadata": {
    "id": "0b40732c"
   },
   "source": [
    "# **MARVEL API PROJECT**\n",
    "\n",
    "### ***This project is divided into two parts. The first part connects to the Marvel Developer Portal and retrieves the data while the second part creates an API to store the data retrieved and allows users to interact with them.***\n",
    "\n"
   ]
  },
  {
   "cell_type": "markdown",
   "id": "0wcbX6kGgj34",
   "metadata": {
    "id": "0wcbX6kGgj34"
   },
   "source": [
    "# **Important:**\n",
    "\n",
    "### This notebook contains the documentation for the second part of the project. In addition to this, there is also some in-code documentation in the files api_server.py and client_enhanced.py."
   ]
  },
  {
   "cell_type": "markdown",
   "id": "6e287526",
   "metadata": {
    "id": "6e287526"
   },
   "source": [
    "# **General Remarks for Part 1. of the Project:**\n",
    "\n",
    "### The project contains two solutions. Part 1 is solved first with the creation of multiple functions, each of which solves a specific task of the first part. Thereafter, a class is created in which the respective methods solving the different steps are embedded (2. Approach). This is incase there are any issues with 1. Approach, 2. Approach should be used as backup.\n",
    "\n",
    "#### Given that the Marvel API is just a beta version, unexpected server-side errors might rarely occur. Thus, in case of any errors encountered while running the code below, please ensure that you have tried at least 2-3 times and at a certain point the server-sided error should go away and the respective cell should run just smoothly without another error occuring.\n"
   ]
  },
  {
   "cell_type": "markdown",
   "id": "15654f75",
   "metadata": {
    "id": "15654f75"
   },
   "source": [
    "# Part 1. - 1. Approach"
   ]
  },
  {
   "cell_type": "markdown",
   "id": "746a017b",
   "metadata": {
    "id": "746a017b"
   },
   "source": [
    "### 0. Step - Establish a connection between our code (client side) and the server\n",
    "\n",
    "In order to fulfill this 0. Step we have to send a get request to the Marvel Developer Portal API. We want to get back a 200 as response to see that the connection works without issues.\n",
    "\n",
    "- The API's base endpoint, respectievly URL is: https://gateway.marvel.com/v1/public/\n",
    "- In a first step we will check whether our client and the API are able to successfully connect with eachother.\n",
    "- We want to receive the code 200 back as results from our first request checking whether our client and API are connected and communication is possible.\n",
    "- For that we have to send a get request providing the API_KEY, a timestamp, and a hash as parameters to the API.\n",
    "- We will use the Python library requests in order to create the GET requests.\n",
    "- The payloads we receive from the API are encoded as JSON objects. So, we need the Python library json to deal with these JSON objects.\n",
    "- In order to create the needed hashes we use the Python library called \"hashlib\".\n",
    "- We use the Python libaray called \"time\" in order to create the needed timestamps.\n",
    "    - Important: The method hashlib.md5() only takes encoded strings as argument. So, we use .encode() first. We use UTF-8 (Unicode Transformation Format – 8 Bits). UTF-8 is the most widely used encoding for Unicode characters.\n",
    "    - Furthermore, the hash, sent to the API, needs to be in hexadecimal format. When we have a look at the hash in the example on the Website we can recognize this condition based on the format of the example hash. Therefore, we use .hexdigest() to \"decode\" the received hash into hexadecimal representation. The received digest using .hexdigest() is returned as a string object of double length, containing only hexadecimal digits."
   ]
  },
  {
   "cell_type": "code",
   "execution_count": 1,
   "id": "415cf924",
   "metadata": {
    "colab": {
     "base_uri": "https://localhost:8080/"
    },
    "id": "415cf924",
    "outputId": "84295b68-1295-44ef-ce49-faf974407f78"
   },
   "outputs": [
    {
     "name": "stderr",
     "output_type": "stream",
     "text": [
      "/Users/devyo/Library/Python/3.9/lib/python/site-packages/urllib3/__init__.py:34: NotOpenSSLWarning: urllib3 v2.0 only supports OpenSSL 1.1.1+, currently the 'ssl' module is compiled with 'LibreSSL 2.8.3'. See: https://github.com/urllib3/urllib3/issues/3020\n",
      "  warnings.warn(\n"
     ]
    },
    {
     "name": "stdout",
     "output_type": "stream",
     "text": [
      "<md5 _hashlib.HASH object @ 0x103d94d10>\n",
      "b'=B\\xbd\\x81\\x10\\x10H\\xb73\\xae;Q\\x08\\x18\\xf1\\x9e'\n",
      "3d42bd81101048b733ae3b510818f19e\n"
     ]
    }
   ],
   "source": [
    "# ESTABLISHING CONNECTION WITH THE MARVEL API\n",
    "\n",
    "# Importing necessary libraries\n",
    "import requests  # For making HTTP requests\n",
    "import json  # For handling JSON data\n",
    "import hashlib  # For creating MD5 hash\n",
    "import time  # For getting the current time\n",
    "import random  # For generating random numbers\n",
    "import pandas as pd  # For data manipulation and analysis\n",
    "\n",
    "# Defining API keys\n",
    "API_KEY = \"36193665898712ca70cbf11c17269421\"  # Public API key\n",
    "API_KEY_PRIVATE = \"0147fd261ffdf8d605dbda2d410fc863e4ac79f8\"  # Private API key\n",
    "\n",
    "# Base URL for the Marvel API\n",
    "base_url = \"https://gateway.marvel.com:443/v1/public/\"\n",
    "\n",
    "# Getting the current time in seconds since the Epoch\n",
    "ts = time.time()\n",
    "# Converting the time to string format\n",
    "ts_string = str(ts)\n",
    "\n",
    "# Creating an MD5 hash object from the concatenated string of timestamp, private key and public key\n",
    "# The string is encoded to UTF-8 as required by the hashlib.md5() function\n",
    "result_hash = hashlib.md5((ts_string+API_KEY_PRIVATE+API_KEY).encode(\"UTF-8\"))\n",
    "\n",
    "# Printing the hash object\n",
    "print(result_hash)\n",
    "# Printing the digest of the hash object, which is a string of bytes\n",
    "print(result_hash.digest())\n",
    "\n",
    "# Printing the hexadecimal representation of the hash object\n",
    "# This is the format required for communication with the Marvel API\n",
    "print(result_hash.hexdigest())"
   ]
  },
  {
   "cell_type": "markdown",
   "id": "ca583fdc",
   "metadata": {
    "id": "ca583fdc"
   },
   "source": [
    "### First approach"
   ]
  },
  {
   "cell_type": "code",
   "execution_count": null,
   "id": "697b5d2b",
   "metadata": {},
   "outputs": [],
   "source": [
    "def test_connection(api_key, api_key_private, base_url):\n",
    "    # Getting the current timestamp in seconds\n",
    "    ts = time.time()\n",
    "    # Convert the timestamp to string\n",
    "    ts_string = str(ts)\n",
    "\n",
    "    # Creating an MD5 hash from the concatenated string of timestamp, private key and public key\n",
    "    # The string is encoded to bytes as required by the hashlib.md5() function\n",
    "    result_hash = hashlib.md5((ts_string+api_key_private+api_key).encode())\n",
    "    # Converting the hash object to hexadecimal string\n",
    "    hash_str = str(result_hash.hexdigest())\n",
    "\n",
    "    # Constructing the URL for the API request, including the timestamp, public key and hash as parameters\n",
    "    url = \"https://gateway.marvel.com:443/v1/public/characters?ts=\" + ts_string + \"&apikey=\" + api_key + \"&hash=\" + hash_str\n",
    "\n",
    "    # Sending a GET request to the API and storing the response in test_payload\n",
    "    test_payload = requests.get(url)\n",
    "    # Extracting the status code from the JSON response\n",
    "    status_code = test_payload.json()[\"code\"]\n",
    "\n",
    "    # Returning the status code\n",
    "    return status_code\n",
    "\n",
    "# Testing the connection to the API using the defined function and print the status code\n",
    "status_code = test_connection(API_KEY, API_KEY_PRIVATE, base_url)\n",
    "print(status_code)"
   ]
  },
  {
   "cell_type": "markdown",
   "id": "d04db4d3",
   "metadata": {
    "id": "d04db4d3"
   },
   "source": [
    "### Second approach"
   ]
  },
  {
   "cell_type": "code",
   "execution_count": null,
   "id": "69138cbc",
   "metadata": {},
   "outputs": [],
   "source": [
    "def test_connection_2(api_key, api_key_private, base_url):\n",
    "    # Getting the current timestamp in seconds\n",
    "    ts = time.time()\n",
    "    # Converting the timestamp to string\n",
    "    ts_string = str(ts)\n",
    "\n",
    "    # Creating an MD5 hash from the concatenated string of timestamp, private key and public key\n",
    "    # The string is encoded to bytes as required by the hashlib.md5() function\n",
    "    # Converting the hash object to hexadecimal string\n",
    "    result_hash = str((hashlib.md5((ts_string+api_key_private+api_key).encode())).hexdigest())\n",
    "\n",
    "    # Defining the parameters for the API request\n",
    "    params = {}\n",
    "    params[\"apikey\"] = api_key  # Public API key\n",
    "    params[\"ts\"] = str(time.time())  # Current timestamp\n",
    "    params[\"hash\"] = result_hash  # The MD5 hash\n",
    "    params[\"limit\"] = 1  # Limit the number of results to 1\n",
    "\n",
    "    # Sending a GET request to the API endpoint for characters and store the response in test_payload\n",
    "    test_payload = requests.get(base_url + \"characters\", params = params)\n",
    "\n",
    "    # Extracting the status code from the JSON response\n",
    "    status_code = test_payload.json()[\"code\"]\n",
    "\n",
    "    # Returning the status code\n",
    "    return status_code\n",
    "\n",
    "# Testing the connection to the API using the defined function and print the status code\n",
    "status_code_2 = test_connection_2(API_KEY,API_KEY_PRIVATE, base_url)\n",
    "print(status_code_2)\n",
    "\n",
    "# Printing the type of the status code\n",
    "print(type(status_code_2))"
   ]
  },
  {
   "cell_type": "markdown",
   "id": "85409a7e",
   "metadata": {
    "id": "85409a7e"
   },
   "source": [
    "**The connection between the API and client side code is just fine since code received is 200.**"
   ]
  },
  {
   "cell_type": "markdown",
   "id": "3d75aab0",
   "metadata": {
    "id": "3d75aab0"
   },
   "source": [
    "### 1. Step - Provide a list of 30 Marvel characters\n",
    "\n",
    "- After establishing the connection between the API of the Marvel server and the client code, we now want to retrieve 30 names of Marvel characters."
   ]
  },
  {
   "cell_type": "code",
   "execution_count": 68,
   "id": "e8001a59",
   "metadata": {
    "colab": {
     "base_uri": "https://localhost:8080/",
     "height": 756
    },
    "id": "e8001a59",
    "outputId": "c57ac09f-21b8-4ade-dd71-310ee2d1031e"
   },
   "outputs": [
    {
     "name": "stdout",
     "output_type": "stream",
     "text": [
      "{'code': 200, 'status': 'Ok', 'copyright': '© 2023 MARVEL', 'attributionText': 'Data provided by Marvel. © 2023 MARVEL', 'attributionHTML': '<a href=\"http://marvel.com\">Data provided by Marvel. © 2023 MARVEL</a>', 'etag': '6a84a0d17df2a5aa2f9b84bd7c8573a491ad34fd', 'data': {'offset': 0, 'limit': 30, 'total': 1563, 'count': 30, 'results': [{'id': 1011334, 'name': '3-D Man', 'description': '', 'modified': '2014-04-29T14:18:17-0400', 'thumbnail': {'path': 'http://i.annihil.us/u/prod/marvel/i/mg/c/e0/535fecbbb9784', 'extension': 'jpg'}, 'resourceURI': 'http://gateway.marvel.com/v1/public/characters/1011334', 'comics': {'available': 12, 'collectionURI': 'http://gateway.marvel.com/v1/public/characters/1011334/comics', 'items': [{'resourceURI': 'http://gateway.marvel.com/v1/public/comics/21366', 'name': 'Avengers: The Initiative (2007) #14'}, {'resourceURI': 'http://gateway.marvel.com/v1/public/comics/24571', 'name': 'Avengers: The Initiative (2007) #14 (SPOTLIGHT VARIANT)'}, {'resourceURI': 'http://gateway.marvel.com/v1/public/comics/21546', 'name': 'Avengers: The Initiative (2007) #15'}, {'resourceURI': 'http://gateway.marvel.com/v1/public/comics/21741', 'name': 'Avengers: The Initiative (2007) #16'}, {'resourceURI': 'http://gateway.marvel.com/v1/public/comics/21975', 'name': 'Avengers: The Initiative (2007) #17'}, {'resourceURI': 'http://gateway.marvel.com/v1/public/comics/22299', 'name': 'Avengers: The Initiative (2007) #18'}, {'resourceURI': 'http://gateway.marvel.com/v1/public/comics/22300', 'name': 'Avengers: The Initiative (2007) #18 (ZOMBIE VARIANT)'}, {'resourceURI': 'http://gateway.marvel.com/v1/public/comics/22506', 'name': 'Avengers: The Initiative (2007) #19'}, {'resourceURI': 'http://gateway.marvel.com/v1/public/comics/8500', 'name': 'Deadpool (1997) #44'}, {'resourceURI': 'http://gateway.marvel.com/v1/public/comics/10223', 'name': 'Marvel Premiere (1972) #35'}, {'resourceURI': 'http://gateway.marvel.com/v1/public/comics/10224', 'name': 'Marvel Premiere (1972) #36'}, {'resourceURI': 'http://gateway.marvel.com/v1/public/comics/10225', 'name': 'Marvel Premiere (1972) #37'}], 'returned': 12}, 'series': {'available': 3, 'collectionURI': 'http://gateway.marvel.com/v1/public/characters/1011334/series', 'items': [{'resourceURI': 'http://gateway.marvel.com/v1/public/series/1945', 'name': 'Avengers: The Initiative (2007 - 2010)'}, {'resourceURI': 'http://gateway.marvel.com/v1/public/series/2005', 'name': 'Deadpool (1997 - 2002)'}, {'resourceURI': 'http://gateway.marvel.com/v1/public/series/2045', 'name': 'Marvel Premiere (1972 - 1981)'}], 'returned': 3}, 'stories': {'available': 21, 'collectionURI': 'http://gateway.marvel.com/v1/public/characters/1011334/stories', 'items': [{'resourceURI': 'http://gateway.marvel.com/v1/public/stories/19947', 'name': 'Cover #19947', 'type': 'cover'}, {'resourceURI': 'http://gateway.marvel.com/v1/public/stories/19948', 'name': 'The 3-D Man!', 'type': 'interiorStory'}, {'resourceURI': 'http://gateway.marvel.com/v1/public/stories/19949', 'name': 'Cover #19949', 'type': 'cover'}, {'resourceURI': 'http://gateway.marvel.com/v1/public/stories/19950', 'name': \"The Devil's Music!\", 'type': 'interiorStory'}, {'resourceURI': 'http://gateway.marvel.com/v1/public/stories/19951', 'name': 'Cover #19951', 'type': 'cover'}, {'resourceURI': 'http://gateway.marvel.com/v1/public/stories/19952', 'name': 'Code-Name:  The Cold Warrior!', 'type': 'interiorStory'}, {'resourceURI': 'http://gateway.marvel.com/v1/public/stories/47184', 'name': 'AVENGERS: THE INITIATIVE (2007) #14', 'type': 'cover'}, {'resourceURI': 'http://gateway.marvel.com/v1/public/stories/47185', 'name': 'Avengers: The Initiative (2007) #14 - Int', 'type': 'interiorStory'}, {'resourceURI': 'http://gateway.marvel.com/v1/public/stories/47498', 'name': 'AVENGERS: THE INITIATIVE (2007) #15', 'type': 'cover'}, {'resourceURI': 'http://gateway.marvel.com/v1/public/stories/47499', 'name': 'Avengers: The Initiative (2007) #15 - Int', 'type': 'interiorStory'}, {'resourceURI': 'http://gateway.marvel.com/v1/public/stories/47792', 'name': 'AVENGERS: THE INITIATIVE (2007) #16', 'type': 'cover'}, {'resourceURI': 'http://gateway.marvel.com/v1/public/stories/47793', 'name': 'Avengers: The Initiative (2007) #16 - Int', 'type': 'interiorStory'}, {'resourceURI': 'http://gateway.marvel.com/v1/public/stories/48361', 'name': 'AVENGERS: THE INITIATIVE (2007) #17', 'type': 'cover'}, {'resourceURI': 'http://gateway.marvel.com/v1/public/stories/48362', 'name': 'Avengers: The Initiative (2007) #17 - Int', 'type': 'interiorStory'}, {'resourceURI': 'http://gateway.marvel.com/v1/public/stories/49103', 'name': 'AVENGERS: THE INITIATIVE (2007) #18', 'type': 'cover'}, {'resourceURI': 'http://gateway.marvel.com/v1/public/stories/49104', 'name': 'Avengers: The Initiative (2007) #18 - Int', 'type': 'interiorStory'}, {'resourceURI': 'http://gateway.marvel.com/v1/public/stories/49106', 'name': 'Avengers: The Initiative (2007) #18, Zombie Variant - Int', 'type': 'interiorStory'}, {'resourceURI': 'http://gateway.marvel.com/v1/public/stories/49888', 'name': 'AVENGERS: THE INITIATIVE (2007) #19', 'type': 'cover'}, {'resourceURI': 'http://gateway.marvel.com/v1/public/stories/49889', 'name': 'Avengers: The Initiative (2007) #19 - Int', 'type': 'interiorStory'}, {'resourceURI': 'http://gateway.marvel.com/v1/public/stories/54371', 'name': 'Avengers: The Initiative (2007) #14, Spotlight Variant - Int', 'type': 'interiorStory'}], 'returned': 20}, 'events': {'available': 1, 'collectionURI': 'http://gateway.marvel.com/v1/public/characters/1011334/events', 'items': [{'resourceURI': 'http://gateway.marvel.com/v1/public/events/269', 'name': 'Secret Invasion'}], 'returned': 1}, 'urls': [{'type': 'detail', 'url': 'http://marvel.com/characters/74/3-d_man?utm_campaign=apiRef&utm_source=36193665898712ca70cbf11c17269421'}, {'type': 'wiki', 'url': 'http://marvel.com/universe/3-D_Man_(Chandler)?utm_campaign=apiRef&utm_source=36193665898712ca70cbf11c17269421'}, {'type': 'comiclink', 'url': 'http://marvel.com/comics/characters/1011334/3-d_man?utm_campaign=apiRef&utm_source=36193665898712ca70cbf11c17269421'}]}, {'id': 1017100, 'name': 'A-Bomb (HAS)', 'description': \"Rick Jones has been Hulk's best bud since day one, but now he's more than a friend...he's a teammate! Transformed by a Gamma energy explosion, A-Bomb's thick, armored skin is just as strong and powerful as it is blue. And when he curls into action, he uses it like a giant bowling ball of destruction! \", 'modified': '2013-09-18T15:54:04-0400', 'thumbnail': {'path': 'http://i.annihil.us/u/prod/marvel/i/mg/3/20/5232158de5b16', 'extension': 'jpg'}, 'resourceURI': 'http://gateway.marvel.com/v1/public/characters/1017100', 'comics': {'available': 4, 'collectionURI': 'http://gateway.marvel.com/v1/public/characters/1017100/comics', 'items': [{'resourceURI': 'http://gateway.marvel.com/v1/public/comics/47176', 'name': 'FREE COMIC BOOK DAY 2013 1 (2013) #1'}, {'resourceURI': 'http://gateway.marvel.com/v1/public/comics/40632', 'name': 'Hulk (2008) #53'}, {'resourceURI': 'http://gateway.marvel.com/v1/public/comics/40630', 'name': 'Hulk (2008) #54'}, {'resourceURI': 'http://gateway.marvel.com/v1/public/comics/40628', 'name': 'Hulk (2008) #55'}], 'returned': 4}, 'series': {'available': 2, 'collectionURI': 'http://gateway.marvel.com/v1/public/characters/1017100/series', 'items': [{'resourceURI': 'http://gateway.marvel.com/v1/public/series/17765', 'name': 'FREE COMIC BOOK DAY 2013 1 (2013)'}, {'resourceURI': 'http://gateway.marvel.com/v1/public/series/3374', 'name': 'Hulk (2008 - 2012)'}], 'returned': 2}, 'stories': {'available': 7, 'collectionURI': 'http://gateway.marvel.com/v1/public/characters/1017100/stories', 'items': [{'resourceURI': 'http://gateway.marvel.com/v1/public/stories/92078', 'name': 'Hulk (2008) #55', 'type': 'cover'}, {'resourceURI': 'http://gateway.marvel.com/v1/public/stories/92079', 'name': 'Interior #92079', 'type': 'interiorStory'}, {'resourceURI': 'http://gateway.marvel.com/v1/public/stories/92082', 'name': 'Hulk (2008) #54', 'type': 'cover'}, {'resourceURI': 'http://gateway.marvel.com/v1/public/stories/92083', 'name': 'Interior #92083', 'type': 'interiorStory'}, {'resourceURI': 'http://gateway.marvel.com/v1/public/stories/92086', 'name': 'Hulk (2008) #53', 'type': 'cover'}, {'resourceURI': 'http://gateway.marvel.com/v1/public/stories/92087', 'name': 'Interior #92087', 'type': 'interiorStory'}, {'resourceURI': 'http://gateway.marvel.com/v1/public/stories/105929', 'name': 'cover from Free Comic Book Day 2013 (Avengers/Hulk) (2013) #1', 'type': 'cover'}], 'returned': 7}, 'events': {'available': 0, 'collectionURI': 'http://gateway.marvel.com/v1/public/characters/1017100/events', 'items': [], 'returned': 0}, 'urls': [{'type': 'detail', 'url': 'http://marvel.com/characters/76/a-bomb?utm_campaign=apiRef&utm_source=36193665898712ca70cbf11c17269421'}, {'type': 'comiclink', 'url': 'http://marvel.com/comics/characters/1017100/a-bomb_has?utm_campaign=apiRef&utm_source=36193665898712ca70cbf11c17269421'}]}, {'id': 1009144, 'name': 'A.I.M.', 'description': 'AIM is a terrorist organization bent on destroying the world.', 'modified': '2013-10-17T14:41:30-0400', 'thumbnail': {'path': 'http://i.annihil.us/u/prod/marvel/i/mg/6/20/52602f21f29ec', 'extension': 'jpg'}, 'resourceURI': 'http://gateway.marvel.com/v1/public/characters/1009144', 'comics': {'available': 53, 'collectionURI': 'http://gateway.marvel.com/v1/public/characters/1009144/comics', 'items': [{'resourceURI': 'http://gateway.marvel.com/v1/public/comics/36763', 'name': 'Ant-Man & the Wasp (2010) #3'}, {'resourceURI': 'http://gateway.marvel.com/v1/public/comics/17553', 'name': 'Avengers (1998) #67'}, {'resourceURI': 'http://gateway.marvel.com/v1/public/comics/7340', 'name': 'Avengers (1963) #87'}, {'resourceURI': 'http://gateway.marvel.com/v1/public/comics/4214', 'name': 'Avengers and Power Pack Assemble! (2006) #2'}, {'resourceURI': 'http://gateway.marvel.com/v1/public/comics/63217', 'name': 'Avengers and Power Pack (2017) #3'}, {'resourceURI': 'http://gateway.marvel.com/v1/public/comics/63218', 'name': 'Avengers and Power Pack (2017) #4'}, {'resourceURI': 'http://gateway.marvel.com/v1/public/comics/63219', 'name': 'Avengers and Power Pack (2017) #5'}, {'resourceURI': 'http://gateway.marvel.com/v1/public/comics/63220', 'name': 'Avengers and Power Pack (2017) #6'}, {'resourceURI': 'http://gateway.marvel.com/v1/public/comics/64790', 'name': 'AVENGERS BY BRIAN MICHAEL BENDIS: THE COMPLETE COLLECTION VOL. 2 TPB (Trade Paperback)'}, {'resourceURI': 'http://gateway.marvel.com/v1/public/comics/103371', 'name': 'Avengers Unlimited Infinity Comic (2022) #17'}, {'resourceURI': 'http://gateway.marvel.com/v1/public/comics/1170', 'name': 'Avengers Vol. 2: Red Zone (Trade Paperback)'}, {'resourceURI': 'http://gateway.marvel.com/v1/public/comics/1214', 'name': 'Avengers Vol. II: Red Zone (Trade Paperback)'}, {'resourceURI': 'http://gateway.marvel.com/v1/public/comics/12787', 'name': 'Captain America (1998) #28'}, {'resourceURI': 'http://gateway.marvel.com/v1/public/comics/7513', 'name': 'Captain America (1968) #132'}, {'resourceURI': 'http://gateway.marvel.com/v1/public/comics/7514', 'name': 'Captain America (1968) #133'}, {'resourceURI': 'http://gateway.marvel.com/v1/public/comics/65466', 'name': 'Captain America by Mark Waid, Ron Garney & Andy Kubert (Hardcover)'}, {'resourceURI': 'http://gateway.marvel.com/v1/public/comics/20367', 'name': 'Defenders (1972) #57'}, {'resourceURI': 'http://gateway.marvel.com/v1/public/comics/31068', 'name': 'Incredible Hulks (2010) #606 (VARIANT)'}, {'resourceURI': 'http://gateway.marvel.com/v1/public/comics/46168', 'name': 'Indestructible Hulk (2012) #3'}, {'resourceURI': 'http://gateway.marvel.com/v1/public/comics/43944', 'name': 'Iron Man (2012) #1'}], 'returned': 20}, 'series': {'available': 36, 'collectionURI': 'http://gateway.marvel.com/v1/public/characters/1009144/series', 'items': [{'resourceURI': 'http://gateway.marvel.com/v1/public/series/13082', 'name': 'Ant-Man & the Wasp (2010 - 2011)'}, {'resourceURI': 'http://gateway.marvel.com/v1/public/series/354', 'name': 'Avengers (1998 - 2004)'}, {'resourceURI': 'http://gateway.marvel.com/v1/public/series/1991', 'name': 'Avengers (1963 - 1996)'}, {'resourceURI': 'http://gateway.marvel.com/v1/public/series/23123', 'name': 'Avengers and Power Pack (2017)'}, {'resourceURI': 'http://gateway.marvel.com/v1/public/series/1046', 'name': 'Avengers and Power Pack Assemble! (2006)'}, {'resourceURI': 'http://gateway.marvel.com/v1/public/series/27689', 'name': 'AVENGERS BY BRIAN MICHAEL BENDIS: THE COMPLETE COLLECTION VOL. 2 TPB (2017)'}, {'resourceURI': 'http://gateway.marvel.com/v1/public/series/35600', 'name': 'Avengers Unlimited Infinity Comic (2022 - 2023)'}, {'resourceURI': 'http://gateway.marvel.com/v1/public/series/227', 'name': 'Avengers Vol. 2: Red Zone (2003)'}, {'resourceURI': 'http://gateway.marvel.com/v1/public/series/271', 'name': 'Avengers Vol. II: Red Zone (2003)'}, {'resourceURI': 'http://gateway.marvel.com/v1/public/series/1997', 'name': 'Captain America (1998 - 2002)'}, {'resourceURI': 'http://gateway.marvel.com/v1/public/series/1996', 'name': 'Captain America (1968 - 1996)'}, {'resourceURI': 'http://gateway.marvel.com/v1/public/series/23810', 'name': 'Captain America by Mark Waid, Ron Garney & Andy Kubert (2017)'}, {'resourceURI': 'http://gateway.marvel.com/v1/public/series/3743', 'name': 'Defenders (1972 - 1986)'}, {'resourceURI': 'http://gateway.marvel.com/v1/public/series/8842', 'name': 'Incredible Hulks (2010 - 2011)'}, {'resourceURI': 'http://gateway.marvel.com/v1/public/series/16583', 'name': 'Indestructible Hulk (2012 - 2014)'}, {'resourceURI': 'http://gateway.marvel.com/v1/public/series/16593', 'name': 'Iron Man (2012 - 2014)'}, {'resourceURI': 'http://gateway.marvel.com/v1/public/series/2029', 'name': 'Iron Man (1968 - 1996)'}, {'resourceURI': 'http://gateway.marvel.com/v1/public/series/23915', 'name': 'Iron Man Epic Collection: Doom (2018)'}, {'resourceURI': 'http://gateway.marvel.com/v1/public/series/9718', 'name': 'Marvel Adventures Super Heroes (2010 - 2012)'}, {'resourceURI': 'http://gateway.marvel.com/v1/public/series/189', 'name': 'Marvel Masterworks: Captain America Vol. 1 - 2nd Edition (2003)'}], 'returned': 20}, 'stories': {'available': 57, 'collectionURI': 'http://gateway.marvel.com/v1/public/characters/1009144/stories', 'items': [{'resourceURI': 'http://gateway.marvel.com/v1/public/stories/5800', 'name': 'Avengers and Power Pack Assemble! (2006) #2', 'type': 'cover'}, {'resourceURI': 'http://gateway.marvel.com/v1/public/stories/5801', 'name': '2 of 4 - 4XLS', 'type': 'interiorStory'}, {'resourceURI': 'http://gateway.marvel.com/v1/public/stories/10253', 'name': 'When the Unliving Strike', 'type': 'interiorStory'}, {'resourceURI': 'http://gateway.marvel.com/v1/public/stories/10255', 'name': 'Cover #10255', 'type': 'cover'}, {'resourceURI': 'http://gateway.marvel.com/v1/public/stories/10256', 'name': 'The Enemy Within!', 'type': 'interiorStory'}, {'resourceURI': 'http://gateway.marvel.com/v1/public/stories/10259', 'name': 'Death Before Dishonor!', 'type': 'interiorStory'}, {'resourceURI': 'http://gateway.marvel.com/v1/public/stories/10261', 'name': 'Cover #10261', 'type': 'cover'}, {'resourceURI': 'http://gateway.marvel.com/v1/public/stories/10262', 'name': 'The End of A.I.M.!', 'type': 'interiorStory'}, {'resourceURI': 'http://gateway.marvel.com/v1/public/stories/11921', 'name': 'The Red Skull Lives!', 'type': 'interiorStory'}, {'resourceURI': 'http://gateway.marvel.com/v1/public/stories/11930', 'name': 'He Who Holds the Cosmic Cube', 'type': 'interiorStory'}, {'resourceURI': 'http://gateway.marvel.com/v1/public/stories/11936', 'name': 'The Maddening Mystery of the Inconceivable Adaptoid!', 'type': 'interiorStory'}, {'resourceURI': 'http://gateway.marvel.com/v1/public/stories/11981', 'name': 'If This Be... Modok', 'type': 'interiorStory'}, {'resourceURI': 'http://gateway.marvel.com/v1/public/stories/11984', 'name': 'A Time to Die -- A Time to Live!', 'type': 'interiorStory'}, {'resourceURI': 'http://gateway.marvel.com/v1/public/stories/11995', 'name': 'At the Mercy of the Maggia', 'type': 'interiorStory'}, {'resourceURI': 'http://gateway.marvel.com/v1/public/stories/15243', 'name': 'Look Homeward, Avenger', 'type': 'interiorStory'}, {'resourceURI': 'http://gateway.marvel.com/v1/public/stories/17518', 'name': 'Captain America (1968) #132', 'type': 'cover'}, {'resourceURI': 'http://gateway.marvel.com/v1/public/stories/17519', 'name': 'The Fearful Secret of Bucky Barnes', 'type': 'interiorStory'}, {'resourceURI': 'http://gateway.marvel.com/v1/public/stories/17520', 'name': 'Captain America (1968) #133', 'type': 'cover'}, {'resourceURI': 'http://gateway.marvel.com/v1/public/stories/17521', 'name': 'Madness In the Slums', 'type': 'interiorStory'}, {'resourceURI': 'http://gateway.marvel.com/v1/public/stories/28233', 'name': 'In Sin Airy X', 'type': 'interiorStory'}], 'returned': 20}, 'events': {'available': 0, 'collectionURI': 'http://gateway.marvel.com/v1/public/characters/1009144/events', 'items': [], 'returned': 0}, 'urls': [{'type': 'detail', 'url': 'http://marvel.com/characters/77/aim.?utm_campaign=apiRef&utm_source=36193665898712ca70cbf11c17269421'}, {'type': 'wiki', 'url': 'http://marvel.com/universe/A.I.M.?utm_campaign=apiRef&utm_source=36193665898712ca70cbf11c17269421'}, {'type': 'comiclink', 'url': 'http://marvel.com/comics/characters/1009144/aim.?utm_campaign=apiRef&utm_source=36193665898712ca70cbf11c17269421'}]}, {'id': 1010699, 'name': 'Aaron Stack', 'description': '', 'modified': '1969-12-31T19:00:00-0500', 'thumbnail': {'path': 'http://i.annihil.us/u/prod/marvel/i/mg/b/40/image_not_available', 'extension': 'jpg'}, 'resourceURI': 'http://gateway.marvel.com/v1/public/characters/1010699', 'comics': {'available': 14, 'collectionURI': 'http://gateway.marvel.com/v1/public/characters/1010699/comics', 'items': [{'resourceURI': 'http://gateway.marvel.com/v1/public/comics/40776', 'name': 'Dark Avengers (2012) #177'}, {'resourceURI': 'http://gateway.marvel.com/v1/public/comics/40773', 'name': 'Dark Avengers (2012) #179'}, {'resourceURI': 'http://gateway.marvel.com/v1/public/comics/40774', 'name': 'Dark Avengers (2012) #180'}, {'resourceURI': 'http://gateway.marvel.com/v1/public/comics/40778', 'name': 'Dark Avengers (2012) #181'}, {'resourceURI': 'http://gateway.marvel.com/v1/public/comics/40787', 'name': 'Dark Avengers (2012) #182'}, {'resourceURI': 'http://gateway.marvel.com/v1/public/comics/40786', 'name': 'Dark Avengers (2012) #183'}, {'resourceURI': 'http://gateway.marvel.com/v1/public/comics/38073', 'name': 'Hulk (2008) #43'}, {'resourceURI': 'http://gateway.marvel.com/v1/public/comics/11910', 'name': 'Universe X (2000) #6'}, {'resourceURI': 'http://gateway.marvel.com/v1/public/comics/11911', 'name': 'Universe X (2000) #7'}, {'resourceURI': 'http://gateway.marvel.com/v1/public/comics/11912', 'name': 'Universe X (2000) #8'}, {'resourceURI': 'http://gateway.marvel.com/v1/public/comics/11913', 'name': 'Universe X (2000) #9'}, {'resourceURI': 'http://gateway.marvel.com/v1/public/comics/11903', 'name': 'Universe X (2000) #10'}, {'resourceURI': 'http://gateway.marvel.com/v1/public/comics/11904', 'name': 'Universe X (2000) #11'}, {'resourceURI': 'http://gateway.marvel.com/v1/public/comics/11905', 'name': 'Universe X (2000) #12'}], 'returned': 14}, 'series': {'available': 3, 'collectionURI': 'http://gateway.marvel.com/v1/public/characters/1010699/series', 'items': [{'resourceURI': 'http://gateway.marvel.com/v1/public/series/789', 'name': 'Dark Avengers (2012 - 2013)'}, {'resourceURI': 'http://gateway.marvel.com/v1/public/series/3374', 'name': 'Hulk (2008 - 2012)'}, {'resourceURI': 'http://gateway.marvel.com/v1/public/series/2085', 'name': 'Universe X (2000 - 2001)'}], 'returned': 3}, 'stories': {'available': 27, 'collectionURI': 'http://gateway.marvel.com/v1/public/characters/1010699/stories', 'items': [{'resourceURI': 'http://gateway.marvel.com/v1/public/stories/25634', 'name': 'Universe X (2000) #10', 'type': 'cover'}, {'resourceURI': 'http://gateway.marvel.com/v1/public/stories/25635', 'name': 'Interior #25635', 'type': 'interiorStory'}, {'resourceURI': 'http://gateway.marvel.com/v1/public/stories/25637', 'name': 'Universe X (2000) #12', 'type': 'cover'}, {'resourceURI': 'http://gateway.marvel.com/v1/public/stories/25638', 'name': 'Interior #25638', 'type': 'interiorStory'}, {'resourceURI': 'http://gateway.marvel.com/v1/public/stories/25647', 'name': 'Universe X (2000) #6', 'type': 'cover'}, {'resourceURI': 'http://gateway.marvel.com/v1/public/stories/25648', 'name': 'Interior #25648', 'type': 'interiorStory'}, {'resourceURI': 'http://gateway.marvel.com/v1/public/stories/25649', 'name': 'Universe X (2000) #7', 'type': 'cover'}, {'resourceURI': 'http://gateway.marvel.com/v1/public/stories/25650', 'name': 'Interior #25650', 'type': 'interiorStory'}, {'resourceURI': 'http://gateway.marvel.com/v1/public/stories/25651', 'name': 'Universe X (2000) #8', 'type': 'cover'}, {'resourceURI': 'http://gateway.marvel.com/v1/public/stories/25652', 'name': 'Interior #25652', 'type': 'interiorStory'}, {'resourceURI': 'http://gateway.marvel.com/v1/public/stories/25653', 'name': 'Universe X (2000) #9', 'type': 'cover'}, {'resourceURI': 'http://gateway.marvel.com/v1/public/stories/25654', 'name': 'Interior #25654', 'type': 'interiorStory'}, {'resourceURI': 'http://gateway.marvel.com/v1/public/stories/67100', 'name': 'Universe X (2000) #11', 'type': 'cover'}, {'resourceURI': 'http://gateway.marvel.com/v1/public/stories/89190', 'name': 'Hulk (2008) #43', 'type': 'cover'}, {'resourceURI': 'http://gateway.marvel.com/v1/public/stories/90002', 'name': 'Interior #90002', 'type': 'interiorStory'}, {'resourceURI': 'http://gateway.marvel.com/v1/public/stories/92370', 'name': 'Dark Avengers (2012) #179', 'type': 'cover'}, {'resourceURI': 'http://gateway.marvel.com/v1/public/stories/92371', 'name': 'Interior #92371', 'type': 'interiorStory'}, {'resourceURI': 'http://gateway.marvel.com/v1/public/stories/92372', 'name': 'Dark Avengers (2012) #180', 'type': 'cover'}, {'resourceURI': 'http://gateway.marvel.com/v1/public/stories/92373', 'name': 'Interior #92373', 'type': 'interiorStory'}, {'resourceURI': 'http://gateway.marvel.com/v1/public/stories/92376', 'name': 'Dark Avengers (2012) #177', 'type': 'cover'}], 'returned': 20}, 'events': {'available': 0, 'collectionURI': 'http://gateway.marvel.com/v1/public/characters/1010699/events', 'items': [], 'returned': 0}, 'urls': [{'type': 'detail', 'url': 'http://marvel.com/characters/2809/aaron_stack?utm_campaign=apiRef&utm_source=36193665898712ca70cbf11c17269421'}, {'type': 'comiclink', 'url': 'http://marvel.com/comics/characters/1010699/aaron_stack?utm_campaign=apiRef&utm_source=36193665898712ca70cbf11c17269421'}]}, {'id': 1009146, 'name': 'Abomination (Emil Blonsky)', 'description': 'Formerly known as Emil Blonsky, a spy of Soviet Yugoslavian origin working for the KGB, the Abomination gained his powers after receiving a dose of gamma radiation similar to that which transformed Bruce Banner into the incredible Hulk.', 'modified': '2012-03-20T12:32:12-0400', 'thumbnail': {'path': 'http://i.annihil.us/u/prod/marvel/i/mg/9/50/4ce18691cbf04', 'extension': 'jpg'}, 'resourceURI': 'http://gateway.marvel.com/v1/public/characters/1009146', 'comics': {'available': 58, 'collectionURI': 'http://gateway.marvel.com/v1/public/characters/1009146/comics', 'items': [{'resourceURI': 'http://gateway.marvel.com/v1/public/comics/88869', 'name': 'Abominations (1996) #1'}, {'resourceURI': 'http://gateway.marvel.com/v1/public/comics/88870', 'name': 'Abominations (1996) #2'}, {'resourceURI': 'http://gateway.marvel.com/v1/public/comics/88871', 'name': 'Abominations (1996) #3'}, {'resourceURI': 'http://gateway.marvel.com/v1/public/comics/17547', 'name': 'Avengers (1998) #61'}, {'resourceURI': 'http://gateway.marvel.com/v1/public/comics/17548', 'name': 'Avengers (1998) #62'}, {'resourceURI': 'http://gateway.marvel.com/v1/public/comics/1098', 'name': 'Avengers Vol. 1: World Trust (Trade Paperback)'}, {'resourceURI': 'http://gateway.marvel.com/v1/public/comics/8557', 'name': 'Earth X (1999) #7'}, {'resourceURI': 'http://gateway.marvel.com/v1/public/comics/4241', 'name': 'EARTH X TPB [NEW PRINTING] (Trade Paperback)'}, {'resourceURI': 'http://gateway.marvel.com/v1/public/comics/20863', 'name': 'Hulk (2008) #3'}, {'resourceURI': 'http://gateway.marvel.com/v1/public/comics/2499', 'name': 'Hulk: Destruction (2005) #4'}, {'resourceURI': 'http://gateway.marvel.com/v1/public/comics/14424', 'name': 'Hulk (1999) #24'}, {'resourceURI': 'http://gateway.marvel.com/v1/public/comics/14425', 'name': 'Hulk (1999) #25'}, {'resourceURI': 'http://gateway.marvel.com/v1/public/comics/14428', 'name': 'Hulk (1999) #28'}, {'resourceURI': 'http://gateway.marvel.com/v1/public/comics/14450', 'name': 'Hulk (1999) #50'}, {'resourceURI': 'http://gateway.marvel.com/v1/public/comics/14451', 'name': 'Hulk (1999) #51'}, {'resourceURI': 'http://gateway.marvel.com/v1/public/comics/14453', 'name': 'Hulk (1999) #53'}, {'resourceURI': 'http://gateway.marvel.com/v1/public/comics/14454', 'name': 'Hulk (1999) #54'}, {'resourceURI': 'http://gateway.marvel.com/v1/public/comics/8948', 'name': 'Incredible Hulk (1962) #137'}, {'resourceURI': 'http://gateway.marvel.com/v1/public/comics/8982', 'name': 'Incredible Hulk (1962) #171'}, {'resourceURI': 'http://gateway.marvel.com/v1/public/comics/9005', 'name': 'Incredible Hulk (1962) #194'}], 'returned': 20}, 'series': {'available': 28, 'collectionURI': 'http://gateway.marvel.com/v1/public/characters/1009146/series', 'items': [{'resourceURI': 'http://gateway.marvel.com/v1/public/series/30582', 'name': 'Abominations (1996 - Present)'}, {'resourceURI': 'http://gateway.marvel.com/v1/public/series/354', 'name': 'Avengers (1998 - 2004)'}, {'resourceURI': 'http://gateway.marvel.com/v1/public/series/158', 'name': 'Avengers Vol. 1: World Trust (2003)'}, {'resourceURI': 'http://gateway.marvel.com/v1/public/series/378', 'name': 'Earth X (1999 - 2000)'}, {'resourceURI': 'http://gateway.marvel.com/v1/public/series/1806', 'name': 'EARTH X TPB [NEW PRINTING] (2006)'}, {'resourceURI': 'http://gateway.marvel.com/v1/public/series/3374', 'name': 'Hulk (2008 - 2012)'}, {'resourceURI': 'http://gateway.marvel.com/v1/public/series/465', 'name': 'Hulk (1999 - 2008)'}, {'resourceURI': 'http://gateway.marvel.com/v1/public/series/924', 'name': 'Hulk: Destruction (2005)'}, {'resourceURI': 'http://gateway.marvel.com/v1/public/series/2021', 'name': 'Incredible Hulk (1962 - 1999)'}, {'resourceURI': 'http://gateway.marvel.com/v1/public/series/2983', 'name': 'Incredible Hulk Annual (1976 - 1994)'}, {'resourceURI': 'http://gateway.marvel.com/v1/public/series/22424', 'name': 'Incredible Hulk Epic Collection: The Hulk Must Die (2017)'}, {'resourceURI': 'http://gateway.marvel.com/v1/public/series/212', 'name': 'Incredible Hulk Vol. 4: Abominable (2003)'}, {'resourceURI': 'http://gateway.marvel.com/v1/public/series/244', 'name': 'Incredible Hulk Vol. IV: Abominable (2003)'}, {'resourceURI': 'http://gateway.marvel.com/v1/public/series/8842', 'name': 'Incredible Hulks (2010 - 2011)'}, {'resourceURI': 'http://gateway.marvel.com/v1/public/series/2572', 'name': 'Iron Man (1998 - 2004)'}, {'resourceURI': 'http://gateway.marvel.com/v1/public/series/977', 'name': 'Irredeemable Ant-Man (2006 - 2007)'}, {'resourceURI': 'http://gateway.marvel.com/v1/public/series/2423', 'name': 'IRREDEEMABLE ANT-MAN VOL. 1: LOW-LIFE DIGEST (2007)'}, {'resourceURI': 'http://gateway.marvel.com/v1/public/series/3722', 'name': 'Killraven (2002 - 2003)'}, {'resourceURI': 'http://gateway.marvel.com/v1/public/series/2437', 'name': 'KILLRAVEN PREMIERE HC (2007)'}, {'resourceURI': 'http://gateway.marvel.com/v1/public/series/32108', 'name': 'Maestro: World War M (2022)'}], 'returned': 20}, 'stories': {'available': 68, 'collectionURI': 'http://gateway.marvel.com/v1/public/characters/1009146/stories', 'items': [{'resourceURI': 'http://gateway.marvel.com/v1/public/stories/4946', 'name': '4 of 4 - 4XLS', 'type': 'cover'}, {'resourceURI': 'http://gateway.marvel.com/v1/public/stories/5496', 'name': 'Irredeemable Ant-Man (2006) #1', 'type': 'cover'}, {'resourceURI': 'http://gateway.marvel.com/v1/public/stories/12370', 'name': 'Cover #12370', 'type': 'cover'}, {'resourceURI': 'http://gateway.marvel.com/v1/public/stories/12372', 'name': 'Whosoever Harms the Hulk..!', 'type': 'interiorStory'}, {'resourceURI': 'http://gateway.marvel.com/v1/public/stories/18419', 'name': '[none]', 'type': 'cover'}, {'resourceURI': 'http://gateway.marvel.com/v1/public/stories/18420', 'name': 'The Stars Mine Enemy', 'type': 'interiorStory'}, {'resourceURI': 'http://gateway.marvel.com/v1/public/stories/18488', 'name': 'Incredible Hulk (1962) #171', 'type': 'cover'}, {'resourceURI': 'http://gateway.marvel.com/v1/public/stories/18489', 'name': 'Revenge', 'type': ''}, {'resourceURI': 'http://gateway.marvel.com/v1/public/stories/18534', 'name': 'Incredible Hulk (1962) #194', 'type': 'cover'}, {'resourceURI': 'http://gateway.marvel.com/v1/public/stories/18535', 'name': 'The Day of the Locust!', 'type': 'interiorStory'}, {'resourceURI': 'http://gateway.marvel.com/v1/public/stories/18536', 'name': 'Incredible Hulk (1962) #195', 'type': 'cover'}, {'resourceURI': 'http://gateway.marvel.com/v1/public/stories/18537', 'name': 'Warfare In Wonderland!', 'type': 'interiorStory'}, {'resourceURI': 'http://gateway.marvel.com/v1/public/stories/18538', 'name': 'Incredible Hulk (1962) #196', 'type': 'cover'}, {'resourceURI': 'http://gateway.marvel.com/v1/public/stories/18539', 'name': 'The Abomination Proclamation!', 'type': 'interiorStory'}, {'resourceURI': 'http://gateway.marvel.com/v1/public/stories/18546', 'name': 'Incredible Hulk (1962) #200', 'type': 'cover'}, {'resourceURI': 'http://gateway.marvel.com/v1/public/stories/18547', 'name': 'An Intruder In the Mind!', 'type': 'interiorStory'}, {'resourceURI': 'http://gateway.marvel.com/v1/public/stories/18776', 'name': 'Cover #18776', 'type': 'cover'}, {'resourceURI': 'http://gateway.marvel.com/v1/public/stories/18877', 'name': 'Incredible Hulk (1962) #364', 'type': 'cover'}, {'resourceURI': 'http://gateway.marvel.com/v1/public/stories/18878', 'name': 'Countdown Part 4: The Abomination', 'type': 'interiorStory'}, {'resourceURI': 'http://gateway.marvel.com/v1/public/stories/18881', 'name': 'Incredible Hulk (1962) #366', 'type': 'cover'}], 'returned': 20}, 'events': {'available': 1, 'collectionURI': 'http://gateway.marvel.com/v1/public/characters/1009146/events', 'items': [{'resourceURI': 'http://gateway.marvel.com/v1/public/events/296', 'name': 'Chaos War'}], 'returned': 1}, 'urls': [{'type': 'detail', 'url': 'http://marvel.com/characters/81/abomination?utm_campaign=apiRef&utm_source=36193665898712ca70cbf11c17269421'}, {'type': 'wiki', 'url': 'http://marvel.com/universe/Abomination?utm_campaign=apiRef&utm_source=36193665898712ca70cbf11c17269421'}, {'type': 'comiclink', 'url': 'http://marvel.com/comics/characters/1009146/abomination_emil_blonsky?utm_campaign=apiRef&utm_source=36193665898712ca70cbf11c17269421'}]}, {'id': 1016823, 'name': 'Abomination (Ultimate)', 'description': '', 'modified': '2012-07-10T19:11:52-0400', 'thumbnail': {'path': 'http://i.annihil.us/u/prod/marvel/i/mg/b/40/image_not_available', 'extension': 'jpg'}, 'resourceURI': 'http://gateway.marvel.com/v1/public/characters/1016823', 'comics': {'available': 2, 'collectionURI': 'http://gateway.marvel.com/v1/public/characters/1016823/comics', 'items': [{'resourceURI': 'http://gateway.marvel.com/v1/public/comics/40638', 'name': 'Hulk (2008) #50'}, {'resourceURI': 'http://gateway.marvel.com/v1/public/comics/15717', 'name': 'Ultimate X-Men (2001) #26'}], 'returned': 2}, 'series': {'available': 2, 'collectionURI': 'http://gateway.marvel.com/v1/public/characters/1016823/series', 'items': [{'resourceURI': 'http://gateway.marvel.com/v1/public/series/3374', 'name': 'Hulk (2008 - 2012)'}, {'resourceURI': 'http://gateway.marvel.com/v1/public/series/474', 'name': 'Ultimate X-Men (2001 - 2009)'}], 'returned': 2}, 'stories': {'available': 3, 'collectionURI': 'http://gateway.marvel.com/v1/public/characters/1016823/stories', 'items': [{'resourceURI': 'http://gateway.marvel.com/v1/public/stories/31883', 'name': 'Free Preview of THE INCREDIBLE HULK #50', 'type': 'interiorStory'}, {'resourceURI': 'http://gateway.marvel.com/v1/public/stories/92098', 'name': 'Hulk (2008) #50', 'type': 'cover'}, {'resourceURI': 'http://gateway.marvel.com/v1/public/stories/92099', 'name': 'Interior #92099', 'type': 'interiorStory'}], 'returned': 3}, 'events': {'available': 0, 'collectionURI': 'http://gateway.marvel.com/v1/public/characters/1016823/events', 'items': [], 'returned': 0}, 'urls': [{'type': 'detail', 'url': 'http://marvel.com/characters/81/abomination?utm_campaign=apiRef&utm_source=36193665898712ca70cbf11c17269421'}, {'type': 'comiclink', 'url': 'http://marvel.com/comics/characters/1016823/abomination_ultimate?utm_campaign=apiRef&utm_source=36193665898712ca70cbf11c17269421'}]}, {'id': 1009148, 'name': 'Absorbing Man', 'description': '', 'modified': '2013-10-24T14:32:08-0400', 'thumbnail': {'path': 'http://i.annihil.us/u/prod/marvel/i/mg/1/b0/5269678709fb7', 'extension': 'jpg'}, 'resourceURI': 'http://gateway.marvel.com/v1/public/characters/1009148', 'comics': {'available': 99, 'collectionURI': 'http://gateway.marvel.com/v1/public/characters/1009148/comics', 'items': [{'resourceURI': 'http://gateway.marvel.com/v1/public/comics/43507', 'name': 'A+X (2012) #8'}, {'resourceURI': 'http://gateway.marvel.com/v1/public/comics/7045', 'name': 'Avengers (1963) #183'}, {'resourceURI': 'http://gateway.marvel.com/v1/public/comics/7046', 'name': 'Avengers (1963) #184'}, {'resourceURI': 'http://gateway.marvel.com/v1/public/comics/7142', 'name': 'Avengers (1963) #270'}, {'resourceURI': 'http://gateway.marvel.com/v1/public/comics/36481', 'name': 'Avengers Academy (2010) #16'}, {'resourceURI': 'http://gateway.marvel.com/v1/public/comics/36480', 'name': 'Avengers Academy (2010) #17'}, {'resourceURI': 'http://gateway.marvel.com/v1/public/comics/36479', 'name': 'Avengers Academy (2010) #18'}, {'resourceURI': 'http://gateway.marvel.com/v1/public/comics/36484', 'name': 'Avengers Academy (2010) #19'}, {'resourceURI': 'http://gateway.marvel.com/v1/public/comics/17776', 'name': 'Avengers Annual (1967) #20'}, {'resourceURI': 'http://gateway.marvel.com/v1/public/comics/63662', 'name': 'Black Bolt (2017) #3'}, {'resourceURI': 'http://gateway.marvel.com/v1/public/comics/64278', 'name': 'Black Bolt (2017) #4'}, {'resourceURI': 'http://gateway.marvel.com/v1/public/comics/66533', 'name': 'Black Bolt (2017) #11'}, {'resourceURI': 'http://gateway.marvel.com/v1/public/comics/65327', 'name': 'Black Bolt Vol. 1: Hard Time (Trade Paperback)'}, {'resourceURI': 'http://gateway.marvel.com/v1/public/comics/12783', 'name': 'Captain America (1998) #24'}, {'resourceURI': 'http://gateway.marvel.com/v1/public/comics/20427', 'name': 'Dazzler (1981) #18'}, {'resourceURI': 'http://gateway.marvel.com/v1/public/comics/20428', 'name': 'Dazzler (1981) #19'}, {'resourceURI': 'http://gateway.marvel.com/v1/public/comics/8499', 'name': 'Deadpool (1997) #43'}, {'resourceURI': 'http://gateway.marvel.com/v1/public/comics/15541', 'name': 'Fantastic Four (1998) #22'}, {'resourceURI': 'http://gateway.marvel.com/v1/public/comics/13151', 'name': 'Fantastic Four (1961) #330'}, {'resourceURI': 'http://gateway.marvel.com/v1/public/comics/41433', 'name': 'Fear Itself (2010) #2 (3rd Printing Variant)'}], 'returned': 20}, 'series': {'available': 50, 'collectionURI': 'http://gateway.marvel.com/v1/public/characters/1009148/series', 'items': [{'resourceURI': 'http://gateway.marvel.com/v1/public/series/16450', 'name': 'A+X (2012 - 2014)'}, {'resourceURI': 'http://gateway.marvel.com/v1/public/series/1991', 'name': 'Avengers (1963 - 1996)'}, {'resourceURI': 'http://gateway.marvel.com/v1/public/series/9086', 'name': 'Avengers Academy (2010 - 2012)'}, {'resourceURI': 'http://gateway.marvel.com/v1/public/series/1988', 'name': 'Avengers Annual (1967 - 1994)'}, {'resourceURI': 'http://gateway.marvel.com/v1/public/series/23121', 'name': 'Black Bolt (2017 - 2018)'}, {'resourceURI': 'http://gateway.marvel.com/v1/public/series/23778', 'name': 'Black Bolt Vol. 1: Hard Time (2017)'}, {'resourceURI': 'http://gateway.marvel.com/v1/public/series/1997', 'name': 'Captain America (1998 - 2002)'}, {'resourceURI': 'http://gateway.marvel.com/v1/public/series/3745', 'name': 'Dazzler (1981 - 1986)'}, {'resourceURI': 'http://gateway.marvel.com/v1/public/series/2005', 'name': 'Deadpool (1997 - 2002)'}, {'resourceURI': 'http://gateway.marvel.com/v1/public/series/421', 'name': 'Fantastic Four (1998 - 2012)'}, {'resourceURI': 'http://gateway.marvel.com/v1/public/series/2121', 'name': 'Fantastic Four (1961 - 1998)'}, {'resourceURI': 'http://gateway.marvel.com/v1/public/series/13691', 'name': 'Fear Itself (2010 - 2011)'}, {'resourceURI': 'http://gateway.marvel.com/v1/public/series/13857', 'name': 'Fear Itself: Fellowship of Fear (2011)'}, {'resourceURI': 'http://gateway.marvel.com/v1/public/series/13827', 'name': 'Fear Itself: The Worthy (2011)'}, {'resourceURI': 'http://gateway.marvel.com/v1/public/series/31372', 'name': 'Gamma Flight (2021)'}, {'resourceURI': 'http://gateway.marvel.com/v1/public/series/20084', 'name': 'Heroes for Hire (1997 - 1999)'}, {'resourceURI': 'http://gateway.marvel.com/v1/public/series/465', 'name': 'Hulk (1999 - 2008)'}, {'resourceURI': 'http://gateway.marvel.com/v1/public/series/20552', 'name': 'Illuminati (2015 - 2016)'}, {'resourceURI': 'http://gateway.marvel.com/v1/public/series/24278', 'name': 'Immortal Hulk (2018 - 2021)'}, {'resourceURI': 'http://gateway.marvel.com/v1/public/series/24891', 'name': 'Immortal Hulk Vol. 2: The Green Door (2019)'}], 'returned': 20}, 'stories': {'available': 111, 'collectionURI': 'http://gateway.marvel.com/v1/public/characters/1009148/stories', 'items': [{'resourceURI': 'http://gateway.marvel.com/v1/public/stories/4988', 'name': '1 of 1', 'type': 'cover'}, {'resourceURI': 'http://gateway.marvel.com/v1/public/stories/7866', 'name': 'Punisher War Journal (2006) #4', 'type': 'cover'}, {'resourceURI': 'http://gateway.marvel.com/v1/public/stories/10997', 'name': 'Journey Into Mystery (1952) #114', 'type': 'cover'}, {'resourceURI': 'http://gateway.marvel.com/v1/public/stories/10998', 'name': 'The Stronger I Am, the Sooner I Die', 'type': 'interiorStory'}, {'resourceURI': 'http://gateway.marvel.com/v1/public/stories/11000', 'name': 'Journey Into Mystery (1952) #115', 'type': 'cover'}, {'resourceURI': 'http://gateway.marvel.com/v1/public/stories/11001', 'name': 'The Vengeance of the Thunder God', 'type': 'interiorStory'}, {'resourceURI': 'http://gateway.marvel.com/v1/public/stories/11022', 'name': 'Journey Into Mystery (1952) #120', 'type': 'cover'}, {'resourceURI': 'http://gateway.marvel.com/v1/public/stories/11023', 'name': 'With My Hammer In Hand', 'type': 'interiorStory'}, {'resourceURI': 'http://gateway.marvel.com/v1/public/stories/11025', 'name': 'Journey Into Mystery (1952) #121', 'type': 'cover'}, {'resourceURI': 'http://gateway.marvel.com/v1/public/stories/11026', 'name': 'The Power!  The Passion!  The Pride!', 'type': 'interiorStory'}, {'resourceURI': 'http://gateway.marvel.com/v1/public/stories/11028', 'name': 'Journey Into Mystery (1952) #122', 'type': 'cover'}, {'resourceURI': 'http://gateway.marvel.com/v1/public/stories/11029', 'name': 'Where Mortals Fear To Tread!', 'type': 'interiorStory'}, {'resourceURI': 'http://gateway.marvel.com/v1/public/stories/11031', 'name': 'Journey Into Mystery (1952) #123', 'type': 'cover'}, {'resourceURI': 'http://gateway.marvel.com/v1/public/stories/11032', 'name': 'While a Universe Trembles', 'type': 'interiorStory'}, {'resourceURI': 'http://gateway.marvel.com/v1/public/stories/12951', 'name': 'Fantastic Four (1961) #330', 'type': 'cover'}, {'resourceURI': 'http://gateway.marvel.com/v1/public/stories/12952', 'name': 'Good Dreams!', 'type': 'interiorStory'}, {'resourceURI': 'http://gateway.marvel.com/v1/public/stories/14628', 'name': 'Avengers (1963) #183', 'type': 'cover'}, {'resourceURI': 'http://gateway.marvel.com/v1/public/stories/14630', 'name': 'Avengers (1963) #184', 'type': 'cover'}, {'resourceURI': 'http://gateway.marvel.com/v1/public/stories/14823', 'name': 'Avengers (1963) #270', 'type': 'cover'}, {'resourceURI': 'http://gateway.marvel.com/v1/public/stories/16688', 'name': 'Thor (1966) #206', 'type': 'cover'}], 'returned': 20}, 'events': {'available': 5, 'collectionURI': 'http://gateway.marvel.com/v1/public/characters/1009148/events', 'items': [{'resourceURI': 'http://gateway.marvel.com/v1/public/events/116', 'name': 'Acts of Vengeance!'}, {'resourceURI': 'http://gateway.marvel.com/v1/public/events/238', 'name': 'Civil War'}, {'resourceURI': 'http://gateway.marvel.com/v1/public/events/302', 'name': 'Fear Itself'}, {'resourceURI': 'http://gateway.marvel.com/v1/public/events/270', 'name': 'Secret Wars'}, {'resourceURI': 'http://gateway.marvel.com/v1/public/events/273', 'name': 'Siege'}], 'returned': 5}, 'urls': [{'type': 'detail', 'url': 'http://marvel.com/characters/84/absorbing_man?utm_campaign=apiRef&utm_source=36193665898712ca70cbf11c17269421'}, {'type': 'wiki', 'url': 'http://marvel.com/universe/Absorbing_Man?utm_campaign=apiRef&utm_source=36193665898712ca70cbf11c17269421'}, {'type': 'comiclink', 'url': 'http://marvel.com/comics/characters/1009148/absorbing_man?utm_campaign=apiRef&utm_source=36193665898712ca70cbf11c17269421'}]}, {'id': 1009149, 'name': 'Abyss', 'description': '', 'modified': '2014-04-29T14:10:43-0400', 'thumbnail': {'path': 'http://i.annihil.us/u/prod/marvel/i/mg/9/30/535feab462a64', 'extension': 'jpg'}, 'resourceURI': 'http://gateway.marvel.com/v1/public/characters/1009149', 'comics': {'available': 8, 'collectionURI': 'http://gateway.marvel.com/v1/public/characters/1009149/comics', 'items': [{'resourceURI': 'http://gateway.marvel.com/v1/public/comics/13943', 'name': 'Uncanny X-Men (1981) #402'}, {'resourceURI': 'http://gateway.marvel.com/v1/public/comics/13945', 'name': 'Uncanny X-Men (1981) #404'}, {'resourceURI': 'http://gateway.marvel.com/v1/public/comics/13946', 'name': 'Uncanny X-Men (1981) #405'}, {'resourceURI': 'http://gateway.marvel.com/v1/public/comics/13947', 'name': 'Uncanny X-Men (1981) #406'}, {'resourceURI': 'http://gateway.marvel.com/v1/public/comics/13970', 'name': 'Uncanny X-Men (1981) #429'}, {'resourceURI': 'http://gateway.marvel.com/v1/public/comics/13972', 'name': 'Uncanny X-Men (1981) #431'}, {'resourceURI': 'http://gateway.marvel.com/v1/public/comics/12386', 'name': 'X-Men: Alpha (1995) #1'}, {'resourceURI': 'http://gateway.marvel.com/v1/public/comics/2539', 'name': 'X-Men: The Complete Age of Apocalypse Epic Book 2 (Trade Paperback)'}], 'returned': 8}, 'series': {'available': 3, 'collectionURI': 'http://gateway.marvel.com/v1/public/characters/1009149/series', 'items': [{'resourceURI': 'http://gateway.marvel.com/v1/public/series/2258', 'name': 'Uncanny X-Men (1981 - 2011)'}, {'resourceURI': 'http://gateway.marvel.com/v1/public/series/2104', 'name': 'X-Men: Alpha (1995)'}, {'resourceURI': 'http://gateway.marvel.com/v1/public/series/1583', 'name': 'X-Men: The Complete Age of Apocalypse Epic Book 2 (2005)'}], 'returned': 3}, 'stories': {'available': 8, 'collectionURI': 'http://gateway.marvel.com/v1/public/characters/1009149/stories', 'items': [{'resourceURI': 'http://gateway.marvel.com/v1/public/stories/26281', 'name': 'A Beginning', 'type': 'interiorStory'}, {'resourceURI': 'http://gateway.marvel.com/v1/public/stories/28352', 'name': 'Utility of Myth', 'type': 'interiorStory'}, {'resourceURI': 'http://gateway.marvel.com/v1/public/stories/28356', 'name': 'Army Ants', 'type': 'interiorStory'}, {'resourceURI': 'http://gateway.marvel.com/v1/public/stories/28358', 'name': 'Ballroom Blitzkrieg', 'type': 'interiorStory'}, {'resourceURI': 'http://gateway.marvel.com/v1/public/stories/28360', 'name': 'Staring Contests are for Suckers', 'type': 'interiorStory'}, {'resourceURI': 'http://gateway.marvel.com/v1/public/stories/28407', 'name': 'The Draco Part One: Sins of the Father', 'type': 'interiorStory'}, {'resourceURI': 'http://gateway.marvel.com/v1/public/stories/28411', 'name': 'The Draco Part Three', 'type': 'interiorStory'}, {'resourceURI': 'http://gateway.marvel.com/v1/public/stories/28413', 'name': 'The Draco Part Four', 'type': 'interiorStory'}], 'returned': 8}, 'events': {'available': 1, 'collectionURI': 'http://gateway.marvel.com/v1/public/characters/1009149/events', 'items': [{'resourceURI': 'http://gateway.marvel.com/v1/public/events/227', 'name': 'Age of Apocalypse'}], 'returned': 1}, 'urls': [{'type': 'detail', 'url': 'http://marvel.com/comics/characters/1009149/abyss?utm_campaign=apiRef&utm_source=36193665898712ca70cbf11c17269421'}, {'type': 'wiki', 'url': 'http://marvel.com/universe/Abyss_(alien)?utm_campaign=apiRef&utm_source=36193665898712ca70cbf11c17269421'}, {'type': 'comiclink', 'url': 'http://marvel.com/comics/characters/1009149/abyss?utm_campaign=apiRef&utm_source=36193665898712ca70cbf11c17269421'}]}, {'id': 1010903, 'name': 'Abyss (Age of Apocalypse)', 'description': '', 'modified': '1969-12-31T19:00:00-0500', 'thumbnail': {'path': 'http://i.annihil.us/u/prod/marvel/i/mg/3/80/4c00358ec7548', 'extension': 'jpg'}, 'resourceURI': 'http://gateway.marvel.com/v1/public/characters/1010903', 'comics': {'available': 3, 'collectionURI': 'http://gateway.marvel.com/v1/public/characters/1010903/comics', 'items': [{'resourceURI': 'http://gateway.marvel.com/v1/public/comics/18099', 'name': 'Weapon X (1995) #1'}, {'resourceURI': 'http://gateway.marvel.com/v1/public/comics/12386', 'name': 'X-Men: Alpha (1995) #1'}, {'resourceURI': 'http://gateway.marvel.com/v1/public/comics/2539', 'name': 'X-Men: The Complete Age of Apocalypse Epic Book 2 (Trade Paperback)'}], 'returned': 3}, 'series': {'available': 3, 'collectionURI': 'http://gateway.marvel.com/v1/public/characters/1010903/series', 'items': [{'resourceURI': 'http://gateway.marvel.com/v1/public/series/3635', 'name': 'Weapon X (1995)'}, {'resourceURI': 'http://gateway.marvel.com/v1/public/series/2104', 'name': 'X-Men: Alpha (1995)'}, {'resourceURI': 'http://gateway.marvel.com/v1/public/series/1583', 'name': 'X-Men: The Complete Age of Apocalypse Epic Book 2 (2005)'}], 'returned': 3}, 'stories': {'available': 2, 'collectionURI': 'http://gateway.marvel.com/v1/public/characters/1010903/stories', 'items': [{'resourceURI': 'http://gateway.marvel.com/v1/public/stories/26280', 'name': 'X-Men: Alpha (1994) #1', 'type': 'cover'}, {'resourceURI': 'http://gateway.marvel.com/v1/public/stories/38448', 'name': 'X-Facts', 'type': ''}], 'returned': 2}, 'events': {'available': 1, 'collectionURI': 'http://gateway.marvel.com/v1/public/characters/1010903/events', 'items': [{'resourceURI': 'http://gateway.marvel.com/v1/public/events/227', 'name': 'Age of Apocalypse'}], 'returned': 1}, 'urls': [{'type': 'detail', 'url': 'http://marvel.com/characters/85/abyss?utm_campaign=apiRef&utm_source=36193665898712ca70cbf11c17269421'}, {'type': 'wiki', 'url': 'http://marvel.com/universe/Abyss_(Age_of_Apocalypse)?utm_campaign=apiRef&utm_source=36193665898712ca70cbf11c17269421'}, {'type': 'comiclink', 'url': 'http://marvel.com/comics/characters/1010903/abyss_age_of_apocalypse?utm_campaign=apiRef&utm_source=36193665898712ca70cbf11c17269421'}]}, {'id': 1011266, 'name': 'Adam Destine', 'description': '', 'modified': '1969-12-31T19:00:00-0500', 'thumbnail': {'path': 'http://i.annihil.us/u/prod/marvel/i/mg/b/40/image_not_available', 'extension': 'jpg'}, 'resourceURI': 'http://gateway.marvel.com/v1/public/characters/1011266', 'comics': {'available': 0, 'collectionURI': 'http://gateway.marvel.com/v1/public/characters/1011266/comics', 'items': [], 'returned': 0}, 'series': {'available': 0, 'collectionURI': 'http://gateway.marvel.com/v1/public/characters/1011266/series', 'items': [], 'returned': 0}, 'stories': {'available': 0, 'collectionURI': 'http://gateway.marvel.com/v1/public/characters/1011266/stories', 'items': [], 'returned': 0}, 'events': {'available': 0, 'collectionURI': 'http://gateway.marvel.com/v1/public/characters/1011266/events', 'items': [], 'returned': 0}, 'urls': [{'type': 'detail', 'url': 'http://marvel.com/characters/2902/adam_destine?utm_campaign=apiRef&utm_source=36193665898712ca70cbf11c17269421'}, {'type': 'wiki', 'url': 'http://marvel.com/universe/Destine,_Adam?utm_campaign=apiRef&utm_source=36193665898712ca70cbf11c17269421'}, {'type': 'comiclink', 'url': 'http://marvel.com/comics/characters/1011266/adam_destine?utm_campaign=apiRef&utm_source=36193665898712ca70cbf11c17269421'}]}, {'id': 1010354, 'name': 'Adam Warlock', 'description': 'Adam Warlock is an artificially created human who was born in a cocoon at a scientific complex called The Beehive.', 'modified': '2013-08-07T13:49:06-0400', 'thumbnail': {'path': 'http://i.annihil.us/u/prod/marvel/i/mg/a/f0/5202887448860', 'extension': 'jpg'}, 'resourceURI': 'http://gateway.marvel.com/v1/public/characters/1010354', 'comics': {'available': 200, 'collectionURI': 'http://gateway.marvel.com/v1/public/characters/1010354/comics', 'items': [{'resourceURI': 'http://gateway.marvel.com/v1/public/comics/105140', 'name': 'Adam Warlock Omnibus (Trade Paperback)'}, {'resourceURI': 'http://gateway.marvel.com/v1/public/comics/105920', 'name': 'Adam Warlock: Strange Tales Facsimile Edition (2023) #178'}, {'resourceURI': 'http://gateway.marvel.com/v1/public/comics/62151', 'name': 'All-New Guardians of the Galaxy Vol. 3: Infinity Quest (Trade Paperback)'}, {'resourceURI': 'http://gateway.marvel.com/v1/public/comics/17271', 'name': 'Annihilation: Conquest (2007) #1'}, {'resourceURI': 'http://gateway.marvel.com/v1/public/comics/17405', 'name': 'Annihilation: Conquest (2007) #2'}, {'resourceURI': 'http://gateway.marvel.com/v1/public/comics/17645', 'name': 'Annihilation: Conquest (2007) #3'}, {'resourceURI': 'http://gateway.marvel.com/v1/public/comics/20686', 'name': 'Annihilation: Conquest (2007) #4'}, {'resourceURI': 'http://gateway.marvel.com/v1/public/comics/20885', 'name': 'Annihilation: Conquest (2007) #5'}, {'resourceURI': 'http://gateway.marvel.com/v1/public/comics/21016', 'name': 'Annihilation: Conquest (2007) #6'}, {'resourceURI': 'http://gateway.marvel.com/v1/public/comics/12412', 'name': 'Avengers Forever (1998) #9'}, {'resourceURI': 'http://gateway.marvel.com/v1/public/comics/1033', 'name': 'Avengers Legends Vol. I: Avengers Forever (Trade Paperback)'}, {'resourceURI': 'http://gateway.marvel.com/v1/public/comics/20731', 'name': 'CLANDESTINE CLASSIC PREMIERE HC (Trade Paperback)'}, {'resourceURI': 'http://gateway.marvel.com/v1/public/comics/20187', 'name': 'Doctor Strange, Sorcerer Supreme (1988) #27'}, {'resourceURI': 'http://gateway.marvel.com/v1/public/comics/20193', 'name': 'Doctor Strange, Sorcerer Supreme (1988) #32'}, {'resourceURI': 'http://gateway.marvel.com/v1/public/comics/20197', 'name': 'Doctor Strange, Sorcerer Supreme (1988) #36'}, {'resourceURI': 'http://gateway.marvel.com/v1/public/comics/8552', 'name': 'Earth X (1999) #2'}, {'resourceURI': 'http://gateway.marvel.com/v1/public/comics/8550', 'name': 'Earth X (1999) #11'}, {'resourceURI': 'http://gateway.marvel.com/v1/public/comics/4241', 'name': 'EARTH X TPB [NEW PRINTING] (Trade Paperback)'}, {'resourceURI': 'http://gateway.marvel.com/v1/public/comics/12975', 'name': 'Fantastic Four (1961) #172'}, {'resourceURI': 'http://gateway.marvel.com/v1/public/comics/13195', 'name': 'Fantastic Four (1961) #370'}], 'returned': 20}, 'series': {'available': 88, 'collectionURI': 'http://gateway.marvel.com/v1/public/characters/1010354/series', 'items': [{'resourceURI': 'http://gateway.marvel.com/v1/public/series/36369', 'name': 'Adam Warlock Omnibus (2023)'}, {'resourceURI': 'http://gateway.marvel.com/v1/public/series/36621', 'name': 'Adam Warlock: Strange Tales Facsimile Edition (2023)'}, {'resourceURI': 'http://gateway.marvel.com/v1/public/series/23058', 'name': 'All-New Guardians of the Galaxy (2017)'}, {'resourceURI': 'http://gateway.marvel.com/v1/public/series/22778', 'name': 'All-New Guardians of the Galaxy Vol. 3: Infinity Quest (2018)'}, {'resourceURI': 'http://gateway.marvel.com/v1/public/series/3061', 'name': 'Annihilation: Conquest (2007)'}, {'resourceURI': 'http://gateway.marvel.com/v1/public/series/2111', 'name': 'Avengers Forever (1998 - 1999)'}, {'resourceURI': 'http://gateway.marvel.com/v1/public/series/93', 'name': 'Avengers Legends Vol. I: Avengers Forever (2002)'}, {'resourceURI': 'http://gateway.marvel.com/v1/public/series/3874', 'name': 'CLANDESTINE CLASSIC PREMIERE HC (2008)'}, {'resourceURI': 'http://gateway.marvel.com/v1/public/series/3741', 'name': 'Doctor Strange, Sorcerer Supreme (1988 - 1996)'}, {'resourceURI': 'http://gateway.marvel.com/v1/public/series/378', 'name': 'Earth X (1999 - 2000)'}, {'resourceURI': 'http://gateway.marvel.com/v1/public/series/1806', 'name': 'EARTH X TPB [NEW PRINTING] (2006)'}, {'resourceURI': 'http://gateway.marvel.com/v1/public/series/2121', 'name': 'Fantastic Four (1961 - 1998)'}, {'resourceURI': 'http://gateway.marvel.com/v1/public/series/4885', 'name': 'Guardians of the Galaxy (2008 - 2010)'}, {'resourceURI': 'http://gateway.marvel.com/v1/public/series/27554', 'name': 'Guardians Of The Galaxy Annual (2019)'}, {'resourceURI': 'http://gateway.marvel.com/v1/public/series/26496', 'name': 'Guardians Of The Galaxy Vol. 2: Faithless (2020)'}, {'resourceURI': 'http://gateway.marvel.com/v1/public/series/22422', 'name': 'GUARDIANS OF THE GALAXY: ROAD TO ANNIHILATION VOL. 2 TPB (2017)'}, {'resourceURI': 'http://gateway.marvel.com/v1/public/series/37451', 'name': \"Guardians of the Galaxy: Somebody's Got to Do It Infinity Comic (2023)\"}, {'resourceURI': 'http://gateway.marvel.com/v1/public/series/2021', 'name': 'Incredible Hulk (1962 - 1999)'}, {'resourceURI': 'http://gateway.marvel.com/v1/public/series/2983', 'name': 'Incredible Hulk Annual (1976 - 1994)'}, {'resourceURI': 'http://gateway.marvel.com/v1/public/series/26307', 'name': 'Infinity By Starlin & Hickman (2019)'}], 'returned': 20}, 'stories': {'available': 229, 'collectionURI': 'http://gateway.marvel.com/v1/public/characters/1010354/stories', 'items': [{'resourceURI': 'http://gateway.marvel.com/v1/public/stories/1412', 'name': 'Cover #1412', 'type': 'cover'}, {'resourceURI': 'http://gateway.marvel.com/v1/public/stories/1602', 'name': 'Cover #1602', 'type': 'cover'}, {'resourceURI': 'http://gateway.marvel.com/v1/public/stories/1800', 'name': 'Cover #1800', 'type': 'cover'}, {'resourceURI': 'http://gateway.marvel.com/v1/public/stories/1842', 'name': 'Cover #1842', 'type': 'cover'}, {'resourceURI': 'http://gateway.marvel.com/v1/public/stories/3758', 'name': 'WARLOCK (2004) #3', 'type': 'cover'}, {'resourceURI': 'http://gateway.marvel.com/v1/public/stories/3760', 'name': 'WARLOCK (2004) #1', 'type': 'cover'}, {'resourceURI': 'http://gateway.marvel.com/v1/public/stories/3762', 'name': 'WARLOCK (2004) #2', 'type': 'cover'}, {'resourceURI': 'http://gateway.marvel.com/v1/public/stories/3764', 'name': 'WARLOCK (2004) #4', 'type': 'cover'}, {'resourceURI': 'http://gateway.marvel.com/v1/public/stories/12568', 'name': 'Fantastic Four (1961) #172', 'type': 'cover'}, {'resourceURI': 'http://gateway.marvel.com/v1/public/stories/12569', 'name': 'Cry, the Bedeviled Planet!', 'type': 'interiorStory'}, {'resourceURI': 'http://gateway.marvel.com/v1/public/stories/13121', 'name': 'Forever Evil', 'type': 'interiorStory'}, {'resourceURI': 'http://gateway.marvel.com/v1/public/stories/18500', 'name': 'Incredible Hulk (1962) #177', 'type': 'cover'}, {'resourceURI': 'http://gateway.marvel.com/v1/public/stories/18501', 'name': 'Peril of the Paired Planets', 'type': ''}, {'resourceURI': 'http://gateway.marvel.com/v1/public/stories/18503', 'name': 'Triumph On Terra-Two', 'type': ''}, {'resourceURI': 'http://gateway.marvel.com/v1/public/stories/19847', 'name': 'Cover #19847', 'type': 'cover'}, {'resourceURI': 'http://gateway.marvel.com/v1/public/stories/19848', 'name': 'Performance', 'type': 'interiorStory'}, {'resourceURI': 'http://gateway.marvel.com/v1/public/stories/19859', 'name': 'Days of Future Present Part 4', 'type': 'cover'}, {'resourceURI': 'http://gateway.marvel.com/v1/public/stories/19860', 'name': 'You Must Remember This', 'type': 'interiorStory'}, {'resourceURI': 'http://gateway.marvel.com/v1/public/stories/19883', 'name': 'The Adventures of Lockheed the Space Dragon and His Pet Girl, Kitty', 'type': 'interiorStory'}, {'resourceURI': 'http://gateway.marvel.com/v1/public/stories/19884', 'name': 'The Saga of Storm: Goddess of Thunder', 'type': 'cover'}], 'returned': 20}, 'events': {'available': 8, 'collectionURI': 'http://gateway.marvel.com/v1/public/characters/1010354/events', 'items': [{'resourceURI': 'http://gateway.marvel.com/v1/public/events/293', 'name': 'Annihilation: Conquest'}, {'resourceURI': 'http://gateway.marvel.com/v1/public/events/233', 'name': 'Atlantis Attacks'}, {'resourceURI': 'http://gateway.marvel.com/v1/public/events/235', 'name': 'Blood and Thunder'}, {'resourceURI': 'http://gateway.marvel.com/v1/public/events/240', 'name': 'Days of Future Present'}, {'resourceURI': 'http://gateway.marvel.com/v1/public/events/29', 'name': 'Infinity War'}, {'resourceURI': 'http://gateway.marvel.com/v1/public/events/263', 'name': 'Mutant Massacre'}, {'resourceURI': 'http://gateway.marvel.com/v1/public/events/271', 'name': 'Secret Wars II'}, {'resourceURI': 'http://gateway.marvel.com/v1/public/events/280', 'name': 'X-Tinction Agenda'}], 'returned': 8}, 'urls': [{'type': 'detail', 'url': 'http://marvel.com/comics/characters/1010354/adam_warlock?utm_campaign=apiRef&utm_source=36193665898712ca70cbf11c17269421'}, {'type': 'wiki', 'url': 'http://marvel.com/universe/Warlock,_Adam?utm_campaign=apiRef&utm_source=36193665898712ca70cbf11c17269421'}, {'type': 'comiclink', 'url': 'http://marvel.com/comics/characters/1010354/adam_warlock?utm_campaign=apiRef&utm_source=36193665898712ca70cbf11c17269421'}]}, {'id': 1010846, 'name': 'Aegis (Trey Rollins)', 'description': '', 'modified': '1969-12-31T19:00:00-0500', 'thumbnail': {'path': 'http://i.annihil.us/u/prod/marvel/i/mg/5/e0/4c0035c9c425d', 'extension': 'gif'}, 'resourceURI': 'http://gateway.marvel.com/v1/public/characters/1010846', 'comics': {'available': 0, 'collectionURI': 'http://gateway.marvel.com/v1/public/characters/1010846/comics', 'items': [], 'returned': 0}, 'series': {'available': 0, 'collectionURI': 'http://gateway.marvel.com/v1/public/characters/1010846/series', 'items': [], 'returned': 0}, 'stories': {'available': 0, 'collectionURI': 'http://gateway.marvel.com/v1/public/characters/1010846/stories', 'items': [], 'returned': 0}, 'events': {'available': 0, 'collectionURI': 'http://gateway.marvel.com/v1/public/characters/1010846/events', 'items': [], 'returned': 0}, 'urls': [{'type': 'detail', 'url': 'http://marvel.com/characters/95/aegis?utm_campaign=apiRef&utm_source=36193665898712ca70cbf11c17269421'}, {'type': 'wiki', 'url': 'http://marvel.com/universe/Aegis_%28Trey_Rollins%29?utm_campaign=apiRef&utm_source=36193665898712ca70cbf11c17269421'}, {'type': 'comiclink', 'url': 'http://marvel.com/comics/characters/1010846/aegis_trey_rollins?utm_campaign=apiRef&utm_source=36193665898712ca70cbf11c17269421'}]}, {'id': 1017851, 'name': 'Aero (Aero)', 'description': '', 'modified': '2021-08-27T17:52:34-0400', 'thumbnail': {'path': 'http://i.annihil.us/u/prod/marvel/i/mg/b/40/image_not_available', 'extension': 'jpg'}, 'resourceURI': 'http://gateway.marvel.com/v1/public/characters/1017851', 'comics': {'available': 29, 'collectionURI': 'http://gateway.marvel.com/v1/public/characters/1017851/comics', 'items': [{'resourceURI': 'http://gateway.marvel.com/v1/public/comics/76349', 'name': 'Aero (2019) #1'}, {'resourceURI': 'http://gateway.marvel.com/v1/public/comics/76350', 'name': 'Aero (2019) #2'}, {'resourceURI': 'http://gateway.marvel.com/v1/public/comics/76351', 'name': 'Aero (2019) #3'}, {'resourceURI': 'http://gateway.marvel.com/v1/public/comics/76352', 'name': 'Aero (2019) #4'}, {'resourceURI': 'http://gateway.marvel.com/v1/public/comics/76353', 'name': 'Aero (2019) #5'}, {'resourceURI': 'http://gateway.marvel.com/v1/public/comics/76354', 'name': 'Aero (2019) #6'}, {'resourceURI': 'http://gateway.marvel.com/v1/public/comics/76355', 'name': 'Aero (2019) #7'}, {'resourceURI': 'http://gateway.marvel.com/v1/public/comics/76356', 'name': 'Aero (2019) #8'}, {'resourceURI': 'http://gateway.marvel.com/v1/public/comics/76357', 'name': 'Aero (2019) #9'}, {'resourceURI': 'http://gateway.marvel.com/v1/public/comics/76358', 'name': 'Aero (2019) #10'}, {'resourceURI': 'http://gateway.marvel.com/v1/public/comics/76359', 'name': 'Aero (2019) #11'}, {'resourceURI': 'http://gateway.marvel.com/v1/public/comics/76360', 'name': 'Aero (2019) #12'}, {'resourceURI': 'http://gateway.marvel.com/v1/public/comics/77001', 'name': 'Agents of Atlas (2019) #1'}, {'resourceURI': 'http://gateway.marvel.com/v1/public/comics/77003', 'name': 'Agents of Atlas (2019) #3'}, {'resourceURI': 'http://gateway.marvel.com/v1/public/comics/77005', 'name': 'Agents of Atlas (2019) #5'}, {'resourceURI': 'http://gateway.marvel.com/v1/public/comics/83989', 'name': 'Atlantis Attacks (2020) #1'}, {'resourceURI': 'http://gateway.marvel.com/v1/public/comics/83993', 'name': 'Atlantis Attacks (2020) #2'}, {'resourceURI': 'http://gateway.marvel.com/v1/public/comics/83994', 'name': 'Atlantis Attacks (2020) #3'}, {'resourceURI': 'http://gateway.marvel.com/v1/public/comics/83995', 'name': 'Atlantis Attacks (2020) #4'}, {'resourceURI': 'http://gateway.marvel.com/v1/public/comics/83996', 'name': 'Atlantis Attacks (2020) #5'}], 'returned': 20}, 'series': {'available': 5, 'collectionURI': 'http://gateway.marvel.com/v1/public/characters/1017851/series', 'items': [{'resourceURI': 'http://gateway.marvel.com/v1/public/series/27392', 'name': 'Aero (2019 - 2020)'}, {'resourceURI': 'http://gateway.marvel.com/v1/public/series/27624', 'name': 'Agents of Atlas (2019)'}, {'resourceURI': 'http://gateway.marvel.com/v1/public/series/29600', 'name': 'Atlantis Attacks (2020)'}, {'resourceURI': 'http://gateway.marvel.com/v1/public/series/31376', 'name': 'King In Black: Black Knight (2021)'}, {'resourceURI': 'http://gateway.marvel.com/v1/public/series/28381', 'name': 'The Marvels (2021 - 2022)'}], 'returned': 5}, 'stories': {'available': 29, 'collectionURI': 'http://gateway.marvel.com/v1/public/characters/1017851/stories', 'items': [{'resourceURI': 'http://gateway.marvel.com/v1/public/stories/169570', 'name': 'cover from Aero (2019) #1', 'type': 'cover'}, {'resourceURI': 'http://gateway.marvel.com/v1/public/stories/169572', 'name': 'cover from Aero (2019) #2', 'type': 'cover'}, {'resourceURI': 'http://gateway.marvel.com/v1/public/stories/169574', 'name': 'cover from Aero (2019) #3', 'type': 'cover'}, {'resourceURI': 'http://gateway.marvel.com/v1/public/stories/169576', 'name': 'cover from Aero (2019) #4', 'type': 'cover'}, {'resourceURI': 'http://gateway.marvel.com/v1/public/stories/169578', 'name': 'cover from Aero (2019) #5', 'type': 'cover'}, {'resourceURI': 'http://gateway.marvel.com/v1/public/stories/169580', 'name': 'cover from Aero (2019) #6', 'type': 'cover'}, {'resourceURI': 'http://gateway.marvel.com/v1/public/stories/169582', 'name': 'cover from Aero (2019) #7', 'type': 'cover'}, {'resourceURI': 'http://gateway.marvel.com/v1/public/stories/169584', 'name': 'cover from Aero (2019) #8', 'type': 'cover'}, {'resourceURI': 'http://gateway.marvel.com/v1/public/stories/169586', 'name': 'cover from Aero (2019) #9', 'type': 'cover'}, {'resourceURI': 'http://gateway.marvel.com/v1/public/stories/169588', 'name': 'cover from Aero (2019) #10', 'type': 'cover'}, {'resourceURI': 'http://gateway.marvel.com/v1/public/stories/169590', 'name': 'cover from Aero (2019) #11', 'type': 'cover'}, {'resourceURI': 'http://gateway.marvel.com/v1/public/stories/169592', 'name': 'cover from Aero (2019) #12', 'type': 'cover'}, {'resourceURI': 'http://gateway.marvel.com/v1/public/stories/170874', 'name': 'cover from New Agents of Atlas (2019) #1', 'type': 'cover'}, {'resourceURI': 'http://gateway.marvel.com/v1/public/stories/170878', 'name': 'cover from New Agents of Atlas (2019) #3', 'type': 'cover'}, {'resourceURI': 'http://gateway.marvel.com/v1/public/stories/170882', 'name': 'cover from New Agents of Atlas (2019) #5', 'type': 'cover'}, {'resourceURI': 'http://gateway.marvel.com/v1/public/stories/178282', 'name': 'cover from The Marvels (2029) #2', 'type': 'cover'}, {'resourceURI': 'http://gateway.marvel.com/v1/public/stories/178288', 'name': 'cover from The Marvels (2029) #4', 'type': 'cover'}, {'resourceURI': 'http://gateway.marvel.com/v1/public/stories/178290', 'name': 'cover from The Marvels (2029) #5', 'type': 'cover'}, {'resourceURI': 'http://gateway.marvel.com/v1/public/stories/178294', 'name': 'cover from The Marvels (2029) #7', 'type': 'cover'}, {'resourceURI': 'http://gateway.marvel.com/v1/public/stories/178296', 'name': 'cover from The Marvels (2029) #8', 'type': 'cover'}], 'returned': 20}, 'events': {'available': 0, 'collectionURI': 'http://gateway.marvel.com/v1/public/characters/1017851/events', 'items': [], 'returned': 0}, 'urls': [{'type': 'detail', 'url': 'http://marvel.com/comics/characters/1017851/aero_aero?utm_campaign=apiRef&utm_source=36193665898712ca70cbf11c17269421'}, {'type': 'comiclink', 'url': 'http://marvel.com/comics/characters/1017851/aero_aero?utm_campaign=apiRef&utm_source=36193665898712ca70cbf11c17269421'}]}, {'id': 1012717, 'name': 'Agatha Harkness', 'description': '', 'modified': '2021-08-06T11:30:56-0400', 'thumbnail': {'path': 'http://i.annihil.us/u/prod/marvel/i/mg/c/a0/4ce5a9bf70e19', 'extension': 'jpg'}, 'resourceURI': 'http://gateway.marvel.com/v1/public/characters/1012717', 'comics': {'available': 23, 'collectionURI': 'http://gateway.marvel.com/v1/public/characters/1012717/comics', 'items': [{'resourceURI': 'http://gateway.marvel.com/v1/public/comics/17751', 'name': 'Avengers (1996) #1'}, {'resourceURI': 'http://gateway.marvel.com/v1/public/comics/17756', 'name': 'Avengers (1996) #2'}, {'resourceURI': 'http://gateway.marvel.com/v1/public/comics/17757', 'name': 'Avengers (1996) #3'}, {'resourceURI': 'http://gateway.marvel.com/v1/public/comics/17758', 'name': 'Avengers (1996) #4'}, {'resourceURI': 'http://gateway.marvel.com/v1/public/comics/17762', 'name': 'Avengers (1996) #8'}, {'resourceURI': 'http://gateway.marvel.com/v1/public/comics/110269', 'name': 'Avengers Annual [CHAOS] (2023) #1'}, {'resourceURI': 'http://gateway.marvel.com/v1/public/comics/21358', 'name': 'Avengers Fairy Tales (2008) #4'}, {'resourceURI': 'http://gateway.marvel.com/v1/public/comics/77235', 'name': 'Captain America (2018) #19'}, {'resourceURI': 'http://gateway.marvel.com/v1/public/comics/95785', 'name': 'Captain Marvel (2019) #39'}, {'resourceURI': 'http://gateway.marvel.com/v1/public/comics/95788', 'name': 'Captain Marvel (2019) #42'}, {'resourceURI': 'http://gateway.marvel.com/v1/public/comics/13304', 'name': 'Fantastic Four (1961) #94'}, {'resourceURI': 'http://gateway.marvel.com/v1/public/comics/101173', 'name': 'Midnight Suns (2022) #5'}, {'resourceURI': 'http://gateway.marvel.com/v1/public/comics/54974', 'name': 'Scarlet Witch (1994) #1'}, {'resourceURI': 'http://gateway.marvel.com/v1/public/comics/57094', 'name': 'Scarlet Witch (2015) #1'}, {'resourceURI': 'http://gateway.marvel.com/v1/public/comics/54977', 'name': 'Scarlet Witch (1994) #3'}, {'resourceURI': 'http://gateway.marvel.com/v1/public/comics/54978', 'name': 'Scarlet Witch (1994) #4'}, {'resourceURI': 'http://gateway.marvel.com/v1/public/comics/60028', 'name': 'Scarlet Witch (2015) #13'}, {'resourceURI': 'http://gateway.marvel.com/v1/public/comics/110287', 'name': 'Spider-Man Annual (2023) #1'}, {'resourceURI': 'http://gateway.marvel.com/v1/public/comics/21182', 'name': 'Ultimate Fantastic Four (2003) #54'}, {'resourceURI': 'http://gateway.marvel.com/v1/public/comics/21332', 'name': 'Ultimate Fantastic Four (2003) #55'}], 'returned': 20}, 'series': {'available': 12, 'collectionURI': 'http://gateway.marvel.com/v1/public/characters/1012717/series', 'items': [{'resourceURI': 'http://gateway.marvel.com/v1/public/series/3621', 'name': 'Avengers (1996 - 1997)'}, {'resourceURI': 'http://gateway.marvel.com/v1/public/series/38734', 'name': 'Avengers Annual [CHAOS] (2023)'}, {'resourceURI': 'http://gateway.marvel.com/v1/public/series/3971', 'name': 'Avengers Fairy Tales (2008)'}, {'resourceURI': 'http://gateway.marvel.com/v1/public/series/24503', 'name': 'Captain America (2018 - 2022)'}, {'resourceURI': 'http://gateway.marvel.com/v1/public/series/26673', 'name': 'Captain Marvel (2019 - 2023)'}, {'resourceURI': 'http://gateway.marvel.com/v1/public/series/2121', 'name': 'Fantastic Four (1961 - 1998)'}, {'resourceURI': 'http://gateway.marvel.com/v1/public/series/34645', 'name': 'Midnight Suns (2022 - 2023)'}, {'resourceURI': 'http://gateway.marvel.com/v1/public/series/20338', 'name': 'Scarlet Witch (1994)'}, {'resourceURI': 'http://gateway.marvel.com/v1/public/series/20854', 'name': 'Scarlet Witch (2015 - 2017)'}, {'resourceURI': 'http://gateway.marvel.com/v1/public/series/37695', 'name': 'Spider-Man Annual (2023)'}, {'resourceURI': 'http://gateway.marvel.com/v1/public/series/702', 'name': 'Ultimate Fantastic Four (2003 - 2009)'}, {'resourceURI': 'http://gateway.marvel.com/v1/public/series/3655', 'name': 'Vision and the Scarlet Witch (1985 - 1986)'}], 'returned': 12}, 'stories': {'available': 28, 'collectionURI': 'http://gateway.marvel.com/v1/public/characters/1012717/stories', 'items': [{'resourceURI': 'http://gateway.marvel.com/v1/public/stories/13503', 'name': 'The Return of the Frightful Four', 'type': 'interiorStory'}, {'resourceURI': 'http://gateway.marvel.com/v1/public/stories/37673', 'name': 'Avengers (1996) #1', 'type': 'cover'}, {'resourceURI': 'http://gateway.marvel.com/v1/public/stories/37688', 'name': 'Avengers (1996) #2', 'type': 'cover'}, {'resourceURI': 'http://gateway.marvel.com/v1/public/stories/37690', 'name': 'Avengers (1996) #3', 'type': 'cover'}, {'resourceURI': 'http://gateway.marvel.com/v1/public/stories/37693', 'name': 'Avengers (1996) #4', 'type': 'cover'}, {'resourceURI': 'http://gateway.marvel.com/v1/public/stories/37701', 'name': 'Avengers (1996) #8', 'type': 'cover'}, {'resourceURI': 'http://gateway.marvel.com/v1/public/stories/39320', 'name': 'VISION AND THE SCARLET WITCH (1985) #12', 'type': 'cover'}, {'resourceURI': 'http://gateway.marvel.com/v1/public/stories/39325', 'name': 'Ancestors', 'type': 'interiorStory'}, {'resourceURI': 'http://gateway.marvel.com/v1/public/stories/46790', 'name': 'Ultimate Fantastic Four (2003) #54', 'type': 'cover'}, {'resourceURI': 'http://gateway.marvel.com/v1/public/stories/46791', 'name': 'Namor War 1 of 4', 'type': 'interiorStory'}, {'resourceURI': 'http://gateway.marvel.com/v1/public/stories/47112', 'name': 'Ultimate Fantastic Four (2003) #55', 'type': 'cover'}, {'resourceURI': 'http://gateway.marvel.com/v1/public/stories/47113', 'name': 'Namor War 2 of 4', 'type': 'interiorStory'}, {'resourceURI': 'http://gateway.marvel.com/v1/public/stories/47169', 'name': 'Avengers Fairy Tales (2008) #4', 'type': 'cover'}, {'resourceURI': 'http://gateway.marvel.com/v1/public/stories/47170', 'name': 'The Wizard of Oz', 'type': 'interiorStory'}, {'resourceURI': 'http://gateway.marvel.com/v1/public/stories/47425', 'name': 'Ultimate Fantastic Four (2003) #56', 'type': 'cover'}, {'resourceURI': 'http://gateway.marvel.com/v1/public/stories/47426', 'name': '3 of 4 - Salem Seven', 'type': 'interiorStory'}, {'resourceURI': 'http://gateway.marvel.com/v1/public/stories/125005', 'name': 'cover from Scarlet Witch (2016) #1', 'type': 'cover'}, {'resourceURI': 'http://gateway.marvel.com/v1/public/stories/130587', 'name': 'cover from Scarlet Witch (2015) #13', 'type': 'cover'}, {'resourceURI': 'http://gateway.marvel.com/v1/public/stories/135317', 'name': 'interior to Scarlet Witch (1994) #1', 'type': 'interiorStory'}, {'resourceURI': 'http://gateway.marvel.com/v1/public/stories/135321', 'name': 'interior to Scarlet Witch (1994) #3', 'type': 'interiorStory'}], 'returned': 20}, 'events': {'available': 0, 'collectionURI': 'http://gateway.marvel.com/v1/public/characters/1012717/events', 'items': [], 'returned': 0}, 'urls': [{'type': 'detail', 'url': 'http://marvel.com/comics/characters/1012717/agatha_harkness?utm_campaign=apiRef&utm_source=36193665898712ca70cbf11c17269421'}, {'type': 'wiki', 'url': 'http://marvel.com/universe/Agatha%20Harkness?utm_campaign=apiRef&utm_source=36193665898712ca70cbf11c17269421'}, {'type': 'comiclink', 'url': 'http://marvel.com/comics/characters/1012717/agatha_harkness?utm_campaign=apiRef&utm_source=36193665898712ca70cbf11c17269421'}]}, {'id': 1011297, 'name': 'Agent Brand', 'description': '', 'modified': '2013-10-24T13:09:30-0400', 'thumbnail': {'path': 'http://i.annihil.us/u/prod/marvel/i/mg/4/60/52695285d6e7e', 'extension': 'jpg'}, 'resourceURI': 'http://gateway.marvel.com/v1/public/characters/1011297', 'comics': {'available': 30, 'collectionURI': 'http://gateway.marvel.com/v1/public/characters/1011297/comics', 'items': [{'resourceURI': 'http://gateway.marvel.com/v1/public/comics/6120', 'name': 'Astonishing X-Men (2004) #21'}, {'resourceURI': 'http://gateway.marvel.com/v1/public/comics/6309', 'name': 'Astonishing X-Men (2004) #22'}, {'resourceURI': 'http://gateway.marvel.com/v1/public/comics/16119', 'name': 'Astonishing X-Men (2004) #23'}, {'resourceURI': 'http://gateway.marvel.com/v1/public/comics/17353', 'name': 'Astonishing X-Men (2004) #24'}, {'resourceURI': 'http://gateway.marvel.com/v1/public/comics/24503', 'name': 'Astonishing X-Men (2004) #32'}, {'resourceURI': 'http://gateway.marvel.com/v1/public/comics/24504', 'name': 'Astonishing X-Men (2004) #33'}, {'resourceURI': 'http://gateway.marvel.com/v1/public/comics/38318', 'name': 'Astonishing X-Men (2004) #38'}, {'resourceURI': 'http://gateway.marvel.com/v1/public/comics/38319', 'name': 'Astonishing X-Men (2004) #40'}, {'resourceURI': 'http://gateway.marvel.com/v1/public/comics/40024', 'name': 'Astonishing X-Men (2004) #40 (I Am Captain America Variant)'}, {'resourceURI': 'http://gateway.marvel.com/v1/public/comics/45950', 'name': 'Cable and X-Force (2012) #8'}, {'resourceURI': 'http://gateway.marvel.com/v1/public/comics/39890', 'name': 'Heralds (Trade Paperback)'}, {'resourceURI': 'http://gateway.marvel.com/v1/public/comics/90340', 'name': 'S.W.O.R.D. (2020) #1'}, {'resourceURI': 'http://gateway.marvel.com/v1/public/comics/26232', 'name': 'S.W.O.R.D. (2009) #2'}, {'resourceURI': 'http://gateway.marvel.com/v1/public/comics/90341', 'name': 'S.W.O.R.D. (2020) #2'}, {'resourceURI': 'http://gateway.marvel.com/v1/public/comics/90342', 'name': 'S.W.O.R.D. (2020) #3'}, {'resourceURI': 'http://gateway.marvel.com/v1/public/comics/26233', 'name': 'S.W.O.R.D. (2009) #3'}, {'resourceURI': 'http://gateway.marvel.com/v1/public/comics/90343', 'name': 'S.W.O.R.D. (2020) #4'}, {'resourceURI': 'http://gateway.marvel.com/v1/public/comics/26234', 'name': 'S.W.O.R.D. (2009) #4'}, {'resourceURI': 'http://gateway.marvel.com/v1/public/comics/90344', 'name': 'S.W.O.R.D. (2020) #5'}, {'resourceURI': 'http://gateway.marvel.com/v1/public/comics/30518', 'name': 'S.W.O.R.D. (2009) #5'}], 'returned': 20}, 'series': {'available': 7, 'collectionURI': 'http://gateway.marvel.com/v1/public/characters/1011297/series', 'items': [{'resourceURI': 'http://gateway.marvel.com/v1/public/series/744', 'name': 'Astonishing X-Men (2004 - 2013)'}, {'resourceURI': 'http://gateway.marvel.com/v1/public/series/16907', 'name': 'Cable and X-Force (2012 - 2014)'}, {'resourceURI': 'http://gateway.marvel.com/v1/public/series/13065', 'name': 'Heralds (2010)'}, {'resourceURI': 'http://gateway.marvel.com/v1/public/series/8233', 'name': 'S.W.O.R.D. (2009 - 2010)'}, {'resourceURI': 'http://gateway.marvel.com/v1/public/series/31083', 'name': 'S.W.O.R.D. (2020 - 2021)'}, {'resourceURI': 'http://gateway.marvel.com/v1/public/series/22551', 'name': 'The Mighty Captain Marvel (2017 - 2018)'}, {'resourceURI': 'http://gateway.marvel.com/v1/public/series/32962', 'name': 'X-Men Red (2022 - Present)'}], 'returned': 7}, 'stories': {'available': 34, 'collectionURI': 'http://gateway.marvel.com/v1/public/characters/1011297/stories', 'items': [{'resourceURI': 'http://gateway.marvel.com/v1/public/stories/3353', 'name': 'Interior #3353', 'type': 'interiorStory'}, {'resourceURI': 'http://gateway.marvel.com/v1/public/stories/7670', 'name': 'ASTONISHING X-MEN (2004) #21', 'type': 'cover'}, {'resourceURI': 'http://gateway.marvel.com/v1/public/stories/8144', 'name': 'ASTONISHING X-MEN (2004) #22', 'type': 'cover'}, {'resourceURI': 'http://gateway.marvel.com/v1/public/stories/32919', 'name': 'ASTONISHING X-MEN (2004) #23', 'type': 'cover'}, {'resourceURI': 'http://gateway.marvel.com/v1/public/stories/36374', 'name': 'ASTONISHING X-MEN (2004) #24', 'type': 'cover'}, {'resourceURI': 'http://gateway.marvel.com/v1/public/stories/54039', 'name': 'ASTONISHING X-MEN (2004) #32', 'type': 'cover'}, {'resourceURI': 'http://gateway.marvel.com/v1/public/stories/54041', 'name': 'ASTONISHING X-MEN (2004) #33', 'type': 'cover'}, {'resourceURI': 'http://gateway.marvel.com/v1/public/stories/57763', 'name': 'S.W.O.R.D. (2009) #2', 'type': 'cover'}, {'resourceURI': 'http://gateway.marvel.com/v1/public/stories/57765', 'name': 'S.W.O.R.D. (2009) #3', 'type': 'cover'}, {'resourceURI': 'http://gateway.marvel.com/v1/public/stories/57767', 'name': 'S.W.O.R.D. (2009) #4', 'type': 'cover'}, {'resourceURI': 'http://gateway.marvel.com/v1/public/stories/69862', 'name': 'S.W.O.R.D. (2009) #5', 'type': 'cover'}, {'resourceURI': 'http://gateway.marvel.com/v1/public/stories/89830', 'name': 'ASTONISHING X-MEN (2004) #38', 'type': 'cover'}, {'resourceURI': 'http://gateway.marvel.com/v1/public/stories/89900', 'name': 'Astonishing X-Men (2004) #38', 'type': 'interiorStory'}, {'resourceURI': 'http://gateway.marvel.com/v1/public/stories/90548', 'name': 'Heralds TPB', 'type': 'cover'}, {'resourceURI': 'http://gateway.marvel.com/v1/public/stories/90819', 'name': 'Interior #90819', 'type': 'interiorStory'}, {'resourceURI': 'http://gateway.marvel.com/v1/public/stories/90853', 'name': ' Interior  Astonishing X-Men (2004) #40', 'type': 'interiorStory'}, {'resourceURI': 'http://gateway.marvel.com/v1/public/stories/90944', 'name': 'ASTONISHING X-MEN (2004) #40', 'type': 'cover'}, {'resourceURI': 'http://gateway.marvel.com/v1/public/stories/103418', 'name': 'Cable and X-Force (2012) #8', 'type': 'cover'}, {'resourceURI': 'http://gateway.marvel.com/v1/public/stories/103419', 'name': 'story from Cable and X-Force (2012) #8', 'type': 'interiorStory'}, {'resourceURI': 'http://gateway.marvel.com/v1/public/stories/133289', 'name': 'cover from Captain Marvel (2016) #5', 'type': 'cover'}], 'returned': 20}, 'events': {'available': 0, 'collectionURI': 'http://gateway.marvel.com/v1/public/characters/1011297/events', 'items': [], 'returned': 0}, 'urls': [{'type': 'detail', 'url': 'http://marvel.com/characters/100/agent_brand?utm_campaign=apiRef&utm_source=36193665898712ca70cbf11c17269421'}, {'type': 'wiki', 'url': 'http://marvel.com/universe/Agent_Brand?utm_campaign=apiRef&utm_source=36193665898712ca70cbf11c17269421'}, {'type': 'comiclink', 'url': 'http://marvel.com/comics/characters/1011297/agent_brand?utm_campaign=apiRef&utm_source=36193665898712ca70cbf11c17269421'}]}, {'id': 1011031, 'name': 'Agent X (Nijo)', 'description': \"Originally a partner of the mind-altering assassin Black Swan, Nijo spied on Deadpool as part of the Swan's plan to exact revenge for Deadpool falsely taking credit for the Swan's assassination of the Four Winds crime family, which included Nijo's brother.\", 'modified': '1969-12-31T19:00:00-0500', 'thumbnail': {'path': 'http://i.annihil.us/u/prod/marvel/i/mg/b/40/image_not_available', 'extension': 'jpg'}, 'resourceURI': 'http://gateway.marvel.com/v1/public/characters/1011031', 'comics': {'available': 18, 'collectionURI': 'http://gateway.marvel.com/v1/public/characters/1011031/comics', 'items': [{'resourceURI': 'http://gateway.marvel.com/v1/public/comics/17702', 'name': 'Agent X (2002) #1'}, {'resourceURI': 'http://gateway.marvel.com/v1/public/comics/17709', 'name': 'Agent X (2002) #2'}, {'resourceURI': 'http://gateway.marvel.com/v1/public/comics/17710', 'name': 'Agent X (2002) #3'}, {'resourceURI': 'http://gateway.marvel.com/v1/public/comics/17711', 'name': 'Agent X (2002) #4'}, {'resourceURI': 'http://gateway.marvel.com/v1/public/comics/17712', 'name': 'Agent X (2002) #5'}, {'resourceURI': 'http://gateway.marvel.com/v1/public/comics/17713', 'name': 'Agent X (2002) #6'}, {'resourceURI': 'http://gateway.marvel.com/v1/public/comics/17714', 'name': 'Agent X (2002) #7'}, {'resourceURI': 'http://gateway.marvel.com/v1/public/comics/17715', 'name': 'Agent X (2002) #8'}, {'resourceURI': 'http://gateway.marvel.com/v1/public/comics/17716', 'name': 'Agent X (2002) #9'}, {'resourceURI': 'http://gateway.marvel.com/v1/public/comics/17703', 'name': 'Agent X (2002) #10'}, {'resourceURI': 'http://gateway.marvel.com/v1/public/comics/17704', 'name': 'Agent X (2002) #11'}, {'resourceURI': 'http://gateway.marvel.com/v1/public/comics/17705', 'name': 'Agent X (2002) #12'}, {'resourceURI': 'http://gateway.marvel.com/v1/public/comics/17706', 'name': 'Agent X (2002) #13'}, {'resourceURI': 'http://gateway.marvel.com/v1/public/comics/17707', 'name': 'Agent X (2002) #14'}, {'resourceURI': 'http://gateway.marvel.com/v1/public/comics/394', 'name': 'Agent X (2002) #15'}, {'resourceURI': 'http://gateway.marvel.com/v1/public/comics/1649', 'name': 'Cable & Deadpool (2004) #12'}, {'resourceURI': 'http://gateway.marvel.com/v1/public/comics/21845', 'name': 'Cable & Deadpool (2004) #46 (Zombie Variant)'}, {'resourceURI': 'http://gateway.marvel.com/v1/public/comics/5761', 'name': 'Cable & Deadpool Vol. 2: The Burnt Offering (Trade Paperback)'}], 'returned': 18}, 'series': {'available': 3, 'collectionURI': 'http://gateway.marvel.com/v1/public/characters/1011031/series', 'items': [{'resourceURI': 'http://gateway.marvel.com/v1/public/series/459', 'name': 'Agent X (2002 - 2004)'}, {'resourceURI': 'http://gateway.marvel.com/v1/public/series/693', 'name': 'Cable & Deadpool (2004 - 2008)'}, {'resourceURI': 'http://gateway.marvel.com/v1/public/series/1338', 'name': 'Cable & Deadpool Vol. 2: The Burnt Offering (2007)'}], 'returned': 3}, 'stories': {'available': 23, 'collectionURI': 'http://gateway.marvel.com/v1/public/characters/1011031/stories', 'items': [{'resourceURI': 'http://gateway.marvel.com/v1/public/stories/1135', 'name': 'AGENT X (2002) #15', 'type': 'cover'}, {'resourceURI': 'http://gateway.marvel.com/v1/public/stories/2484', 'name': 'CABLE & DEADPOOL (2004) #12', 'type': 'cover'}, {'resourceURI': 'http://gateway.marvel.com/v1/public/stories/37514', 'name': 'AGENT X (2002) #1', 'type': 'cover'}, {'resourceURI': 'http://gateway.marvel.com/v1/public/stories/37515', 'name': \"Dead Man's Switch Part One\", 'type': 'interiorStory'}, {'resourceURI': 'http://gateway.marvel.com/v1/public/stories/37516', 'name': 'AGENT X (2002) #10', 'type': 'cover'}, {'resourceURI': 'http://gateway.marvel.com/v1/public/stories/37518', 'name': 'AGENT X (2002) #11', 'type': 'cover'}, {'resourceURI': 'http://gateway.marvel.com/v1/public/stories/37521', 'name': 'AGENT X (2002) #13', 'type': 'cover'}, {'resourceURI': 'http://gateway.marvel.com/v1/public/stories/37523', 'name': 'AGENT X (2002) #14', 'type': 'cover'}, {'resourceURI': 'http://gateway.marvel.com/v1/public/stories/37525', 'name': 'AGENT X (2002) #2', 'type': 'cover'}, {'resourceURI': 'http://gateway.marvel.com/v1/public/stories/37526', 'name': \"Dead Man's Switch Part Two\", 'type': 'interiorStory'}, {'resourceURI': 'http://gateway.marvel.com/v1/public/stories/37527', 'name': 'AGENT X (2002) #3', 'type': 'cover'}, {'resourceURI': 'http://gateway.marvel.com/v1/public/stories/37528', 'name': \"Dead Man's Switch Part Three\", 'type': 'interiorStory'}, {'resourceURI': 'http://gateway.marvel.com/v1/public/stories/37529', 'name': 'AGENT X (2002) #4', 'type': 'cover'}, {'resourceURI': 'http://gateway.marvel.com/v1/public/stories/37530', 'name': \"Dead Man's Switch Part Four\", 'type': 'interiorStory'}, {'resourceURI': 'http://gateway.marvel.com/v1/public/stories/37531', 'name': 'AGENT X (2002) #5', 'type': 'cover'}, {'resourceURI': 'http://gateway.marvel.com/v1/public/stories/37532', 'name': \"Dead Man's Switch Part Five\", 'type': 'interiorStory'}, {'resourceURI': 'http://gateway.marvel.com/v1/public/stories/37533', 'name': 'AGENT X (2002) #6', 'type': 'cover'}, {'resourceURI': 'http://gateway.marvel.com/v1/public/stories/37534', 'name': \"Dead Man's Switch Part Six\", 'type': 'interiorStory'}, {'resourceURI': 'http://gateway.marvel.com/v1/public/stories/37535', 'name': 'AGENT X (2002) #7', 'type': 'cover'}, {'resourceURI': 'http://gateway.marvel.com/v1/public/stories/67703', 'name': 'AGENT X (2002) #12', 'type': 'cover'}], 'returned': 20}, 'events': {'available': 0, 'collectionURI': 'http://gateway.marvel.com/v1/public/characters/1011031/events', 'items': [], 'returned': 0}, 'urls': [{'type': 'detail', 'url': 'http://marvel.com/characters/101/agent_x?utm_campaign=apiRef&utm_source=36193665898712ca70cbf11c17269421'}, {'type': 'wiki', 'url': 'http://marvel.com/universe/Agent_X_(Nijo)?utm_campaign=apiRef&utm_source=36193665898712ca70cbf11c17269421'}, {'type': 'comiclink', 'url': 'http://marvel.com/comics/characters/1011031/agent_x_nijo?utm_campaign=apiRef&utm_source=36193665898712ca70cbf11c17269421'}]}, {'id': 1009150, 'name': 'Agent Zero', 'description': '', 'modified': '1969-12-31T19:00:00-0500', 'thumbnail': {'path': 'http://i.annihil.us/u/prod/marvel/i/mg/f/60/4c0042121d790', 'extension': 'jpg'}, 'resourceURI': 'http://gateway.marvel.com/v1/public/characters/1009150', 'comics': {'available': 29, 'collectionURI': 'http://gateway.marvel.com/v1/public/characters/1009150/comics', 'items': [{'resourceURI': 'http://gateway.marvel.com/v1/public/comics/100853', 'name': 'Life of Wolverine Infinity Comic (2022) #6'}, {'resourceURI': 'http://gateway.marvel.com/v1/public/comics/18082', 'name': 'Weapon X (2002) #2'}, {'resourceURI': 'http://gateway.marvel.com/v1/public/comics/18092', 'name': 'Weapon X (2002) #3'}, {'resourceURI': 'http://gateway.marvel.com/v1/public/comics/18074', 'name': 'Weapon X (2002) #12'}, {'resourceURI': 'http://gateway.marvel.com/v1/public/comics/246', 'name': 'Weapon X (2002) #13'}, {'resourceURI': 'http://gateway.marvel.com/v1/public/comics/2204', 'name': 'Weapon X: Days of Future Now (2005) #1'}, {'resourceURI': 'http://gateway.marvel.com/v1/public/comics/2324', 'name': 'Weapon X: Days of Future Now (2005) #2'}, {'resourceURI': 'http://gateway.marvel.com/v1/public/comics/2438', 'name': 'Weapon X: Days of Future Now (2005) #3'}, {'resourceURI': 'http://gateway.marvel.com/v1/public/comics/2439', 'name': 'Weapon X: Days of Future Now (2005) #4'}, {'resourceURI': 'http://gateway.marvel.com/v1/public/comics/3016', 'name': 'Weapon X: Days of Future Now (2005) #5'}, {'resourceURI': 'http://gateway.marvel.com/v1/public/comics/3357', 'name': 'Weapon X: Days of Future Now (Trade Paperback)'}, {'resourceURI': 'http://gateway.marvel.com/v1/public/comics/18408', 'name': 'Weapon X: The Draft – Agent Zero (2002) #1'}, {'resourceURI': 'http://gateway.marvel.com/v1/public/comics/14182', 'name': 'Wolverine (1988) #60'}, {'resourceURI': 'http://gateway.marvel.com/v1/public/comics/14183', 'name': 'Wolverine (1988) #61'}, {'resourceURI': 'http://gateway.marvel.com/v1/public/comics/14184', 'name': 'Wolverine (1988) #62'}, {'resourceURI': 'http://gateway.marvel.com/v1/public/comics/14185', 'name': 'Wolverine (1988) #63'}, {'resourceURI': 'http://gateway.marvel.com/v1/public/comics/14186', 'name': 'Wolverine (1988) #64'}, {'resourceURI': 'http://gateway.marvel.com/v1/public/comics/14189', 'name': 'Wolverine (1988) #67'}, {'resourceURI': 'http://gateway.marvel.com/v1/public/comics/14190', 'name': 'Wolverine (1988) #68'}, {'resourceURI': 'http://gateway.marvel.com/v1/public/comics/14211', 'name': 'Wolverine (1988) #87'}], 'returned': 20}, 'series': {'available': 10, 'collectionURI': 'http://gateway.marvel.com/v1/public/characters/1009150/series', 'items': [{'resourceURI': 'http://gateway.marvel.com/v1/public/series/34445', 'name': 'Life of Wolverine Infinity Comic (2022)'}, {'resourceURI': 'http://gateway.marvel.com/v1/public/series/543', 'name': 'Weapon X (2002 - 2004)'}, {'resourceURI': 'http://gateway.marvel.com/v1/public/series/1478', 'name': 'Weapon X: Days of Future Now (2006)'}, {'resourceURI': 'http://gateway.marvel.com/v1/public/series/869', 'name': 'Weapon X: Days of Future Now (2005)'}, {'resourceURI': 'http://gateway.marvel.com/v1/public/series/3649', 'name': 'Weapon X: The Draft – Agent Zero (2002)'}, {'resourceURI': 'http://gateway.marvel.com/v1/public/series/2262', 'name': 'Wolverine (1988 - 2003)'}, {'resourceURI': 'http://gateway.marvel.com/v1/public/series/84', 'name': 'WOLVERINE/DEADPOOL: WEAPON X TPB (1999)'}, {'resourceURI': 'http://gateway.marvel.com/v1/public/series/3643', 'name': 'X-Man (1995 - 2000)'}, {'resourceURI': 'http://gateway.marvel.com/v1/public/series/2265', 'name': 'X-Men (1991 - 2001)'}, {'resourceURI': 'http://gateway.marvel.com/v1/public/series/3637', 'name': 'X-Men Unlimited (1993 - 2003)'}], 'returned': 10}, 'stories': {'available': 31, 'collectionURI': 'http://gateway.marvel.com/v1/public/characters/1009150/stories', 'items': [{'resourceURI': 'http://gateway.marvel.com/v1/public/stories/1131', 'name': 'WEAPON X (2002) #13', 'type': 'cover'}, {'resourceURI': 'http://gateway.marvel.com/v1/public/stories/4603', 'name': '1 of 5 - 5XLS', 'type': 'interiorStory'}, {'resourceURI': 'http://gateway.marvel.com/v1/public/stories/4605', 'name': '2 of 5 - 5XLS', 'type': 'interiorStory'}, {'resourceURI': 'http://gateway.marvel.com/v1/public/stories/4606', 'name': '3 of 5 - 5XLS', 'type': 'cover'}, {'resourceURI': 'http://gateway.marvel.com/v1/public/stories/4608', 'name': '4 of 5 - 5XLS', 'type': 'cover'}, {'resourceURI': 'http://gateway.marvel.com/v1/public/stories/4610', 'name': '5 of 5 - 5XLS', 'type': 'cover'}, {'resourceURI': 'http://gateway.marvel.com/v1/public/stories/28706', 'name': 'The Hunted Part 2', 'type': 'interiorStory'}, {'resourceURI': 'http://gateway.marvel.com/v1/public/stories/28712', 'name': 'The Hunted Part 5', 'type': 'interiorStory'}, {'resourceURI': 'http://gateway.marvel.com/v1/public/stories/28738', 'name': 'The Logan Files Epilogue', 'type': 'interiorStory'}, {'resourceURI': 'http://gateway.marvel.com/v1/public/stories/28881', 'name': 'Counting Coup', 'type': 'interiorStory'}, {'resourceURI': 'http://gateway.marvel.com/v1/public/stories/28883', 'name': 'Nightmare Quest!', 'type': 'interiorStory'}, {'resourceURI': 'http://gateway.marvel.com/v1/public/stories/28885', 'name': 'Reunion!', 'type': 'interiorStory'}, {'resourceURI': 'http://gateway.marvel.com/v1/public/stories/28887', 'name': 'Bastions of Glory!', 'type': 'interiorStory'}, {'resourceURI': 'http://gateway.marvel.com/v1/public/stories/28889', 'name': 'What Goes Around...', 'type': 'interiorStory'}, {'resourceURI': 'http://gateway.marvel.com/v1/public/stories/28895', 'name': \"Valley O' Death\", 'type': 'interiorStory'}, {'resourceURI': 'http://gateway.marvel.com/v1/public/stories/28897', 'name': 'Epsilon Red', 'type': 'interiorStory'}, {'resourceURI': 'http://gateway.marvel.com/v1/public/stories/28941', 'name': 'Showdown In Lowtown', 'type': 'interiorStory'}, {'resourceURI': 'http://gateway.marvel.com/v1/public/stories/29125', 'name': 'Last Stand', 'type': 'interiorStory'}, {'resourceURI': 'http://gateway.marvel.com/v1/public/stories/29139', 'name': 'Over...Again', 'type': 'interiorStory'}, {'resourceURI': 'http://gateway.marvel.com/v1/public/stories/38511', 'name': 'Second Contact', 'type': 'interiorStory'}], 'returned': 20}, 'events': {'available': 0, 'collectionURI': 'http://gateway.marvel.com/v1/public/characters/1009150/events', 'items': [], 'returned': 0}, 'urls': [{'type': 'detail', 'url': 'http://marvel.com/characters/102/agent_zero?utm_campaign=apiRef&utm_source=36193665898712ca70cbf11c17269421'}, {'type': 'wiki', 'url': 'http://marvel.com/universe/Agent_Zero?utm_campaign=apiRef&utm_source=36193665898712ca70cbf11c17269421'}, {'type': 'comiclink', 'url': 'http://marvel.com/comics/characters/1009150/agent_zero?utm_campaign=apiRef&utm_source=36193665898712ca70cbf11c17269421'}]}, {'id': 1011198, 'name': 'Agents of Atlas', 'description': '', 'modified': '2016-02-03T10:25:22-0500', 'thumbnail': {'path': 'http://i.annihil.us/u/prod/marvel/i/mg/9/a0/4ce18a834b7f5', 'extension': 'jpg'}, 'resourceURI': 'http://gateway.marvel.com/v1/public/characters/1011198', 'comics': {'available': 45, 'collectionURI': 'http://gateway.marvel.com/v1/public/characters/1011198/comics', 'items': [{'resourceURI': 'http://gateway.marvel.com/v1/public/comics/23659', 'name': 'Agents of Atlas (2009) #1'}, {'resourceURI': 'http://gateway.marvel.com/v1/public/comics/4801', 'name': 'Agents of Atlas (2006) #1'}, {'resourceURI': 'http://gateway.marvel.com/v1/public/comics/77001', 'name': 'Agents of Atlas (2019) #1'}, {'resourceURI': 'http://gateway.marvel.com/v1/public/comics/23660', 'name': 'Agents of Atlas (2009) #1 (50/50 COVER)'}, {'resourceURI': 'http://gateway.marvel.com/v1/public/comics/5089', 'name': 'Agents of Atlas (2006) #2'}, {'resourceURI': 'http://gateway.marvel.com/v1/public/comics/23825', 'name': 'Agents of Atlas (2009) #2'}, {'resourceURI': 'http://gateway.marvel.com/v1/public/comics/27402', 'name': 'Agents of Atlas (2009) #2 (BACHALO 2ND PRINTING VARIANT)'}, {'resourceURI': 'http://gateway.marvel.com/v1/public/comics/23824', 'name': 'Agents of Atlas (2009) #2 (MCGUINNESS VARIANT)'}, {'resourceURI': 'http://gateway.marvel.com/v1/public/comics/5241', 'name': 'Agents of Atlas (2006) #3'}, {'resourceURI': 'http://gateway.marvel.com/v1/public/comics/24015', 'name': 'Agents of Atlas (2009) #3'}, {'resourceURI': 'http://gateway.marvel.com/v1/public/comics/24016', 'name': 'Agents of Atlas (2009) #3 (MCGUINNESS VARIANT)'}, {'resourceURI': 'http://gateway.marvel.com/v1/public/comics/24017', 'name': 'Agents of Atlas (2009) #3 (Wolverine Art Appreciation Variant)'}, {'resourceURI': 'http://gateway.marvel.com/v1/public/comics/5404', 'name': 'Agents of Atlas (2006) #4'}, {'resourceURI': 'http://gateway.marvel.com/v1/public/comics/24219', 'name': 'Agents of Atlas (2009) #4'}, {'resourceURI': 'http://gateway.marvel.com/v1/public/comics/24221', 'name': 'Agents of Atlas (2009) #5'}, {'resourceURI': 'http://gateway.marvel.com/v1/public/comics/5665', 'name': 'Agents of Atlas (2006) #5'}, {'resourceURI': 'http://gateway.marvel.com/v1/public/comics/24222', 'name': 'Agents of Atlas (2009) #5 (MCGUINNESS VARIANT)'}, {'resourceURI': 'http://gateway.marvel.com/v1/public/comics/24360', 'name': 'Agents of Atlas (2009) #6'}, {'resourceURI': 'http://gateway.marvel.com/v1/public/comics/5842', 'name': 'Agents of Atlas (2006) #6'}, {'resourceURI': 'http://gateway.marvel.com/v1/public/comics/24361', 'name': 'Agents of Atlas (2009) #7'}], 'returned': 20}, 'series': {'available': 13, 'collectionURI': 'http://gateway.marvel.com/v1/public/characters/1011198/series', 'items': [{'resourceURI': 'http://gateway.marvel.com/v1/public/series/1097', 'name': 'Agents of Atlas (2006 - 2007)'}, {'resourceURI': 'http://gateway.marvel.com/v1/public/series/6807', 'name': 'Agents of Atlas (2009)'}, {'resourceURI': 'http://gateway.marvel.com/v1/public/series/27624', 'name': 'Agents of Atlas (2019)'}, {'resourceURI': 'http://gateway.marvel.com/v1/public/series/1980', 'name': 'AGENTS OF ATLAS PREMIERE HC (2007)'}, {'resourceURI': 'http://gateway.marvel.com/v1/public/series/24134', 'name': 'Agents of Atlas: The Complete Collection Vol. 1 (2018)'}, {'resourceURI': 'http://gateway.marvel.com/v1/public/series/29600', 'name': 'Atlantis Attacks (2020)'}, {'resourceURI': 'http://gateway.marvel.com/v1/public/series/9782', 'name': 'Atlas (2010)'}, {'resourceURI': 'http://gateway.marvel.com/v1/public/series/9181', 'name': 'Avengers Vs. Atlas (2010)'}, {'resourceURI': 'http://gateway.marvel.com/v1/public/series/6415', 'name': 'Dark Reign: New Nation (2008)'}, {'resourceURI': 'http://gateway.marvel.com/v1/public/series/27620', 'name': 'Incoming! (2019)'}, {'resourceURI': 'http://gateway.marvel.com/v1/public/series/27505', 'name': 'War of the Realms: New Agents of Atlas (2019)'}, {'resourceURI': 'http://gateway.marvel.com/v1/public/series/27374', 'name': 'War Of The Realms: New Agents Of Atlas (2019)'}, {'resourceURI': 'http://gateway.marvel.com/v1/public/series/22365', 'name': 'Wolverine: Prehistory (2017)'}], 'returned': 13}, 'stories': {'available': 52, 'collectionURI': 'http://gateway.marvel.com/v1/public/characters/1011198/stories', 'items': [{'resourceURI': 'http://gateway.marvel.com/v1/public/stories/6008', 'name': '1 of 6 - 6 XLS-', 'type': 'cover'}, {'resourceURI': 'http://gateway.marvel.com/v1/public/stories/6009', 'name': '1 of 6 - 6 XLS-', 'type': 'interiorStory'}, {'resourceURI': 'http://gateway.marvel.com/v1/public/stories/6010', 'name': '2 of 6 - 6 XLS -', 'type': 'cover'}, {'resourceURI': 'http://gateway.marvel.com/v1/public/stories/6011', 'name': '2 of 6 - 6 XLS -', 'type': 'interiorStory'}, {'resourceURI': 'http://gateway.marvel.com/v1/public/stories/6012', 'name': '3 of 6 - 6 XLS -', 'type': 'cover'}, {'resourceURI': 'http://gateway.marvel.com/v1/public/stories/6013', 'name': '3 of 6 - 6 XLS -', 'type': 'interiorStory'}, {'resourceURI': 'http://gateway.marvel.com/v1/public/stories/6014', 'name': '4 of 6 - 6 XLS -', 'type': 'cover'}, {'resourceURI': 'http://gateway.marvel.com/v1/public/stories/6015', 'name': '4 of 6 - 6 XLS -', 'type': 'interiorStory'}, {'resourceURI': 'http://gateway.marvel.com/v1/public/stories/6016', 'name': '5 of 6 - 6 XLS -', 'type': 'cover'}, {'resourceURI': 'http://gateway.marvel.com/v1/public/stories/6017', 'name': '5 of 6 - 6 XLS -', 'type': 'interiorStory'}, {'resourceURI': 'http://gateway.marvel.com/v1/public/stories/6018', 'name': '5 of 6 - Story A - 6XLS', 'type': 'cover'}, {'resourceURI': 'http://gateway.marvel.com/v1/public/stories/6019', 'name': '5 of 6 - Story A - 6XLS', 'type': 'interiorStory'}, {'resourceURI': 'http://gateway.marvel.com/v1/public/stories/51050', 'name': '1 of 1', 'type': 'cover'}, {'resourceURI': 'http://gateway.marvel.com/v1/public/stories/52393', 'name': '1 of 3', 'type': 'interiorStory'}, {'resourceURI': 'http://gateway.marvel.com/v1/public/stories/52395', 'name': '1 of 3', 'type': 'interiorStory'}, {'resourceURI': 'http://gateway.marvel.com/v1/public/stories/52861', 'name': '2 of 3', 'type': 'interiorStory'}, {'resourceURI': 'http://gateway.marvel.com/v1/public/stories/52863', 'name': '2 of 3', 'type': 'interiorStory'}, {'resourceURI': 'http://gateway.marvel.com/v1/public/stories/53263', 'name': '3 of 3', 'type': 'interiorStory'}, {'resourceURI': 'http://gateway.marvel.com/v1/public/stories/53265', 'name': '3 of 3', 'type': 'interiorStory'}, {'resourceURI': 'http://gateway.marvel.com/v1/public/stories/53266', 'name': '3 of 3', 'type': 'interiorStory'}], 'returned': 20}, 'events': {'available': 1, 'collectionURI': 'http://gateway.marvel.com/v1/public/characters/1011198/events', 'items': [{'resourceURI': 'http://gateway.marvel.com/v1/public/events/318', 'name': 'Dark Reign'}], 'returned': 1}, 'urls': [{'type': 'detail', 'url': 'http://marvel.com/comics/characters/1011198/agents_of_atlas?utm_campaign=apiRef&utm_source=36193665898712ca70cbf11c17269421'}, {'type': 'wiki', 'url': 'http://marvel.com/universe/Agents_of_Atlas?utm_campaign=apiRef&utm_source=36193665898712ca70cbf11c17269421'}, {'type': 'comiclink', 'url': 'http://marvel.com/comics/characters/1011198/agents_of_atlas?utm_campaign=apiRef&utm_source=36193665898712ca70cbf11c17269421'}]}, {'id': 1011175, 'name': 'Aginar', 'description': '', 'modified': '1969-12-31T19:00:00-0500', 'thumbnail': {'path': 'http://i.annihil.us/u/prod/marvel/i/mg/b/40/image_not_available', 'extension': 'jpg'}, 'resourceURI': 'http://gateway.marvel.com/v1/public/characters/1011175', 'comics': {'available': 0, 'collectionURI': 'http://gateway.marvel.com/v1/public/characters/1011175/comics', 'items': [], 'returned': 0}, 'series': {'available': 0, 'collectionURI': 'http://gateway.marvel.com/v1/public/characters/1011175/series', 'items': [], 'returned': 0}, 'stories': {'available': 0, 'collectionURI': 'http://gateway.marvel.com/v1/public/characters/1011175/stories', 'items': [], 'returned': 0}, 'events': {'available': 0, 'collectionURI': 'http://gateway.marvel.com/v1/public/characters/1011175/events', 'items': [], 'returned': 0}, 'urls': [{'type': 'detail', 'url': 'http://marvel.com/characters/105/aginar?utm_campaign=apiRef&utm_source=36193665898712ca70cbf11c17269421'}, {'type': 'wiki', 'url': 'http://marvel.com/universe/Aginar?utm_campaign=apiRef&utm_source=36193665898712ca70cbf11c17269421'}, {'type': 'comiclink', 'url': 'http://marvel.com/comics/characters/1011175/aginar?utm_campaign=apiRef&utm_source=36193665898712ca70cbf11c17269421'}]}, {'id': 1011136, 'name': 'Air-Walker (Gabriel Lan)', 'description': '', 'modified': '1969-12-31T19:00:00-0500', 'thumbnail': {'path': 'http://i.annihil.us/u/prod/marvel/i/mg/b/40/image_not_available', 'extension': 'jpg'}, 'resourceURI': 'http://gateway.marvel.com/v1/public/characters/1011136', 'comics': {'available': 4, 'collectionURI': 'http://gateway.marvel.com/v1/public/characters/1011136/comics', 'items': [{'resourceURI': 'http://gateway.marvel.com/v1/public/comics/4108', 'name': 'Annihilation: Silver Surfer (2006) #1'}, {'resourceURI': 'http://gateway.marvel.com/v1/public/comics/5589', 'name': 'Heroes Reborn: Iron Man (Trade Paperback)'}, {'resourceURI': 'http://gateway.marvel.com/v1/public/comics/16330', 'name': 'Iron Man (1996) #11'}, {'resourceURI': 'http://gateway.marvel.com/v1/public/comics/16331', 'name': 'Iron Man (1996) #12'}], 'returned': 4}, 'series': {'available': 3, 'collectionURI': 'http://gateway.marvel.com/v1/public/characters/1011136/series', 'items': [{'resourceURI': 'http://gateway.marvel.com/v1/public/series/1078', 'name': 'Annihilation: Silver Surfer (2006)'}, {'resourceURI': 'http://gateway.marvel.com/v1/public/series/1814', 'name': 'Heroes Reborn: Iron Man (2006)'}, {'resourceURI': 'http://gateway.marvel.com/v1/public/series/13577', 'name': 'Iron Man (1996 - 1998)'}], 'returned': 3}, 'stories': {'available': 3, 'collectionURI': 'http://gateway.marvel.com/v1/public/characters/1011136/stories', 'items': [{'resourceURI': 'http://gateway.marvel.com/v1/public/stories/5925', 'name': 'Annihilation: Silver Surfer (2006) #1', 'type': 'cover'}, {'resourceURI': 'http://gateway.marvel.com/v1/public/stories/34082', 'name': 'Magical Mystery Tour', 'type': 'interiorStory'}, {'resourceURI': 'http://gateway.marvel.com/v1/public/stories/34085', 'name': 'Matters of the Heart', 'type': 'interiorStory'}], 'returned': 3}, 'events': {'available': 1, 'collectionURI': 'http://gateway.marvel.com/v1/public/characters/1011136/events', 'items': [{'resourceURI': 'http://gateway.marvel.com/v1/public/events/229', 'name': 'Annihilation'}], 'returned': 1}, 'urls': [{'type': 'detail', 'url': 'http://marvel.com/characters/109/air-walker?utm_campaign=apiRef&utm_source=36193665898712ca70cbf11c17269421'}, {'type': 'wiki', 'url': 'http://marvel.com/universe/Air-Walker_(Gabriel_Lan)?utm_campaign=apiRef&utm_source=36193665898712ca70cbf11c17269421'}, {'type': 'comiclink', 'url': 'http://marvel.com/comics/characters/1011136/air-walker_gabriel_lan?utm_campaign=apiRef&utm_source=36193665898712ca70cbf11c17269421'}]}, {'id': 1011176, 'name': 'Ajak', 'description': '', 'modified': '1969-12-31T19:00:00-0500', 'thumbnail': {'path': 'http://i.annihil.us/u/prod/marvel/i/mg/2/80/4c002f35c5215', 'extension': 'jpg'}, 'resourceURI': 'http://gateway.marvel.com/v1/public/characters/1011176', 'comics': {'available': 4, 'collectionURI': 'http://gateway.marvel.com/v1/public/characters/1011176/comics', 'items': [{'resourceURI': 'http://gateway.marvel.com/v1/public/comics/21175', 'name': 'Incredible Hercules (2008) #117'}, {'resourceURI': 'http://gateway.marvel.com/v1/public/comics/21324', 'name': 'Incredible Hercules (2008) #118'}, {'resourceURI': 'http://gateway.marvel.com/v1/public/comics/21505', 'name': 'Incredible Hercules (2008) #119'}, {'resourceURI': 'http://gateway.marvel.com/v1/public/comics/21707', 'name': 'Incredible Hercules (2008) #120'}], 'returned': 4}, 'series': {'available': 1, 'collectionURI': 'http://gateway.marvel.com/v1/public/characters/1011176/series', 'items': [{'resourceURI': 'http://gateway.marvel.com/v1/public/series/3762', 'name': 'Incredible Hercules (2008 - 2010)'}], 'returned': 1}, 'stories': {'available': 8, 'collectionURI': 'http://gateway.marvel.com/v1/public/characters/1011176/stories', 'items': [{'resourceURI': 'http://gateway.marvel.com/v1/public/stories/46776', 'name': 'Incredible Hercules (2008) #117', 'type': 'cover'}, {'resourceURI': 'http://gateway.marvel.com/v1/public/stories/46777', 'name': 'Interior #46777', 'type': 'interiorStory'}, {'resourceURI': 'http://gateway.marvel.com/v1/public/stories/47097', 'name': 'Incredible Hercules (2008) #118', 'type': 'cover'}, {'resourceURI': 'http://gateway.marvel.com/v1/public/stories/47098', 'name': 'Interior #47098', 'type': 'interiorStory'}, {'resourceURI': 'http://gateway.marvel.com/v1/public/stories/47415', 'name': 'Incredible Hercules (2008) #119', 'type': 'cover'}, {'resourceURI': 'http://gateway.marvel.com/v1/public/stories/47416', 'name': '3 of 4 - Secret Invasion', 'type': 'interiorStory'}, {'resourceURI': 'http://gateway.marvel.com/v1/public/stories/47721', 'name': 'Incredible Hercules (2008) #120', 'type': 'cover'}, {'resourceURI': 'http://gateway.marvel.com/v1/public/stories/47722', 'name': '4 of 4 - Secret Invasion', 'type': 'interiorStory'}], 'returned': 8}, 'events': {'available': 1, 'collectionURI': 'http://gateway.marvel.com/v1/public/characters/1011176/events', 'items': [{'resourceURI': 'http://gateway.marvel.com/v1/public/events/269', 'name': 'Secret Invasion'}], 'returned': 1}, 'urls': [{'type': 'detail', 'url': 'http://marvel.com/characters/111/ajak?utm_campaign=apiRef&utm_source=36193665898712ca70cbf11c17269421'}, {'type': 'wiki', 'url': 'http://marvel.com/universe/Ajak?utm_campaign=apiRef&utm_source=36193665898712ca70cbf11c17269421'}, {'type': 'comiclink', 'url': 'http://marvel.com/comics/characters/1011176/ajak?utm_campaign=apiRef&utm_source=36193665898712ca70cbf11c17269421'}]}, {'id': 1010870, 'name': 'Ajaxis', 'description': '', 'modified': '1969-12-31T19:00:00-0500', 'thumbnail': {'path': 'http://i.annihil.us/u/prod/marvel/i/mg/b/70/4c0035adc7d3a', 'extension': 'jpg'}, 'resourceURI': 'http://gateway.marvel.com/v1/public/characters/1010870', 'comics': {'available': 0, 'collectionURI': 'http://gateway.marvel.com/v1/public/characters/1010870/comics', 'items': [], 'returned': 0}, 'series': {'available': 0, 'collectionURI': 'http://gateway.marvel.com/v1/public/characters/1010870/series', 'items': [], 'returned': 0}, 'stories': {'available': 0, 'collectionURI': 'http://gateway.marvel.com/v1/public/characters/1010870/stories', 'items': [], 'returned': 0}, 'events': {'available': 0, 'collectionURI': 'http://gateway.marvel.com/v1/public/characters/1010870/events', 'items': [], 'returned': 0}, 'urls': [{'type': 'detail', 'url': 'http://marvel.com/characters/113/ajaxis?utm_campaign=apiRef&utm_source=36193665898712ca70cbf11c17269421'}, {'type': 'wiki', 'url': 'http://marvel.com/universe/Ajaxis?utm_campaign=apiRef&utm_source=36193665898712ca70cbf11c17269421'}, {'type': 'comiclink', 'url': 'http://marvel.com/comics/characters/1010870/ajaxis?utm_campaign=apiRef&utm_source=36193665898712ca70cbf11c17269421'}]}, {'id': 1011194, 'name': 'Akemi', 'description': '', 'modified': '1969-12-31T19:00:00-0500', 'thumbnail': {'path': 'http://i.annihil.us/u/prod/marvel/i/mg/b/40/image_not_available', 'extension': 'jpg'}, 'resourceURI': 'http://gateway.marvel.com/v1/public/characters/1011194', 'comics': {'available': 0, 'collectionURI': 'http://gateway.marvel.com/v1/public/characters/1011194/comics', 'items': [], 'returned': 0}, 'series': {'available': 0, 'collectionURI': 'http://gateway.marvel.com/v1/public/characters/1011194/series', 'items': [], 'returned': 0}, 'stories': {'available': 0, 'collectionURI': 'http://gateway.marvel.com/v1/public/characters/1011194/stories', 'items': [], 'returned': 0}, 'events': {'available': 0, 'collectionURI': 'http://gateway.marvel.com/v1/public/characters/1011194/events', 'items': [], 'returned': 0}, 'urls': [{'type': 'detail', 'url': 'http://marvel.com/characters/114/akemi?utm_campaign=apiRef&utm_source=36193665898712ca70cbf11c17269421'}, {'type': 'comiclink', 'url': 'http://marvel.com/comics/characters/1011194/akemi?utm_campaign=apiRef&utm_source=36193665898712ca70cbf11c17269421'}]}, {'id': 1011170, 'name': 'Alain', 'description': '', 'modified': '1969-12-31T19:00:00-0500', 'thumbnail': {'path': 'http://i.annihil.us/u/prod/marvel/i/mg/b/40/image_not_available', 'extension': 'jpg'}, 'resourceURI': 'http://gateway.marvel.com/v1/public/characters/1011170', 'comics': {'available': 0, 'collectionURI': 'http://gateway.marvel.com/v1/public/characters/1011170/comics', 'items': [], 'returned': 0}, 'series': {'available': 0, 'collectionURI': 'http://gateway.marvel.com/v1/public/characters/1011170/series', 'items': [], 'returned': 0}, 'stories': {'available': 0, 'collectionURI': 'http://gateway.marvel.com/v1/public/characters/1011170/stories', 'items': [], 'returned': 0}, 'events': {'available': 0, 'collectionURI': 'http://gateway.marvel.com/v1/public/characters/1011170/events', 'items': [], 'returned': 0}, 'urls': [{'type': 'detail', 'url': 'http://marvel.com/characters/116/alain?utm_campaign=apiRef&utm_source=36193665898712ca70cbf11c17269421'}, {'type': 'wiki', 'url': 'http://marvel.com/universe/Alain?utm_campaign=apiRef&utm_source=36193665898712ca70cbf11c17269421'}, {'type': 'comiclink', 'url': 'http://marvel.com/comics/characters/1011170/alain?utm_campaign=apiRef&utm_source=36193665898712ca70cbf11c17269421'}]}, {'id': 1009240, 'name': 'Albert Cleary', 'description': '', 'modified': '1969-12-31T19:00:00-0500', 'thumbnail': {'path': 'http://i.annihil.us/u/prod/marvel/i/mg/b/40/image_not_available', 'extension': 'jpg'}, 'resourceURI': 'http://gateway.marvel.com/v1/public/characters/1009240', 'comics': {'available': 0, 'collectionURI': 'http://gateway.marvel.com/v1/public/characters/1009240/comics', 'items': [], 'returned': 0}, 'series': {'available': 0, 'collectionURI': 'http://gateway.marvel.com/v1/public/characters/1009240/series', 'items': [], 'returned': 0}, 'stories': {'available': 0, 'collectionURI': 'http://gateway.marvel.com/v1/public/characters/1009240/stories', 'items': [], 'returned': 0}, 'events': {'available': 0, 'collectionURI': 'http://gateway.marvel.com/v1/public/characters/1009240/events', 'items': [], 'returned': 0}, 'urls': [{'type': 'detail', 'url': 'http://marvel.com/characters/2692/albert_cleary?utm_campaign=apiRef&utm_source=36193665898712ca70cbf11c17269421'}, {'type': 'comiclink', 'url': 'http://marvel.com/comics/characters/1009240/albert_cleary?utm_campaign=apiRef&utm_source=36193665898712ca70cbf11c17269421'}]}, {'id': 1011120, 'name': 'Albion', 'description': '', 'modified': '1969-12-31T19:00:00-0500', 'thumbnail': {'path': 'http://i.annihil.us/u/prod/marvel/i/mg/b/40/image_not_available', 'extension': 'jpg'}, 'resourceURI': 'http://gateway.marvel.com/v1/public/characters/1011120', 'comics': {'available': 1, 'collectionURI': 'http://gateway.marvel.com/v1/public/characters/1011120/comics', 'items': [{'resourceURI': 'http://gateway.marvel.com/v1/public/comics/16489', 'name': 'New Excalibur (2005) #23'}], 'returned': 1}, 'series': {'available': 1, 'collectionURI': 'http://gateway.marvel.com/v1/public/characters/1011120/series', 'items': [{'resourceURI': 'http://gateway.marvel.com/v1/public/series/935', 'name': 'New Excalibur (2005 - 2007)'}], 'returned': 1}, 'stories': {'available': 1, 'collectionURI': 'http://gateway.marvel.com/v1/public/characters/1011120/stories', 'items': [{'resourceURI': 'http://gateway.marvel.com/v1/public/stories/33247', 'name': 'NEW EXCALIBUR (2005) #23', 'type': 'cover'}], 'returned': 1}, 'events': {'available': 0, 'collectionURI': 'http://gateway.marvel.com/v1/public/characters/1011120/events', 'items': [], 'returned': 0}, 'urls': [{'type': 'detail', 'url': 'http://marvel.com/characters/118/albion?utm_campaign=apiRef&utm_source=36193665898712ca70cbf11c17269421'}, {'type': 'wiki', 'url': 'http://marvel.com/universe/Albion?utm_campaign=apiRef&utm_source=36193665898712ca70cbf11c17269421'}, {'type': 'comiclink', 'url': 'http://marvel.com/comics/characters/1011120/albion?utm_campaign=apiRef&utm_source=36193665898712ca70cbf11c17269421'}]}, {'id': 1010836, 'name': 'Alex Power', 'description': '', 'modified': '2011-10-27T09:57:58-0400', 'thumbnail': {'path': 'http://i.annihil.us/u/prod/marvel/i/mg/9/50/4ce5a385a2e82', 'extension': 'jpg'}, 'resourceURI': 'http://gateway.marvel.com/v1/public/characters/1010836', 'comics': {'available': 18, 'collectionURI': 'http://gateway.marvel.com/v1/public/characters/1010836/comics', 'items': [{'resourceURI': 'http://gateway.marvel.com/v1/public/comics/78439', 'name': 'Future Foundation (2019) #1'}, {'resourceURI': 'http://gateway.marvel.com/v1/public/comics/79184', 'name': 'Future Foundation (2019) #3'}, {'resourceURI': 'http://gateway.marvel.com/v1/public/comics/79185', 'name': 'Future Foundation (2019) #4'}, {'resourceURI': 'http://gateway.marvel.com/v1/public/comics/79186', 'name': 'Future Foundation (2019) #5'}, {'resourceURI': 'http://gateway.marvel.com/v1/public/comics/17285', 'name': 'Iron Man and Power Pack (2007) #1'}, {'resourceURI': 'http://gateway.marvel.com/v1/public/comics/17417', 'name': 'Iron Man and Power Pack (2007) #2'}, {'resourceURI': 'http://gateway.marvel.com/v1/public/comics/17652', 'name': 'Iron Man and Power Pack (2007) #3'}, {'resourceURI': 'http://gateway.marvel.com/v1/public/comics/20697', 'name': 'Iron Man and Power Pack (2007) #4'}, {'resourceURI': 'http://gateway.marvel.com/v1/public/comics/65092', 'name': 'Power Pack (2017) #63'}, {'resourceURI': 'http://gateway.marvel.com/v1/public/comics/31366', 'name': 'Thor and the Warriors Four (2010) #1'}, {'resourceURI': 'http://gateway.marvel.com/v1/public/comics/31368', 'name': 'Thor and the Warriors Four (2010) #2'}, {'resourceURI': 'http://gateway.marvel.com/v1/public/comics/31370', 'name': 'Thor and the Warriors Four (2010) #3'}, {'resourceURI': 'http://gateway.marvel.com/v1/public/comics/31372', 'name': 'Thor and the Warriors Four (2010) #4'}, {'resourceURI': 'http://gateway.marvel.com/v1/public/comics/2565', 'name': 'X-Men and Power Pack (2005) #1'}, {'resourceURI': 'http://gateway.marvel.com/v1/public/comics/3093', 'name': 'X-Men and Power Pack (2005) #2'}, {'resourceURI': 'http://gateway.marvel.com/v1/public/comics/3207', 'name': 'X-Men and Power Pack (2005) #3'}, {'resourceURI': 'http://gateway.marvel.com/v1/public/comics/3416', 'name': 'X-Men and Power Pack (2005) #4'}, {'resourceURI': 'http://gateway.marvel.com/v1/public/comics/4060', 'name': 'X-Men and Power Pack: The Power of X (Trade Paperback)'}], 'returned': 18}, 'series': {'available': 6, 'collectionURI': 'http://gateway.marvel.com/v1/public/characters/1010836/series', 'items': [{'resourceURI': 'http://gateway.marvel.com/v1/public/series/27824', 'name': 'Future Foundation (2019 - Present)'}, {'resourceURI': 'http://gateway.marvel.com/v1/public/series/3077', 'name': 'Iron Man and Power Pack (2007 - 2008)'}, {'resourceURI': 'http://gateway.marvel.com/v1/public/series/23679', 'name': 'Power Pack (2017)'}, {'resourceURI': 'http://gateway.marvel.com/v1/public/series/9731', 'name': 'Thor and the Warriors Four (2010)'}, {'resourceURI': 'http://gateway.marvel.com/v1/public/series/970', 'name': 'X-Men and Power Pack (2005 - 2006)'}, {'resourceURI': 'http://gateway.marvel.com/v1/public/series/1634', 'name': 'X-Men and Power Pack: The Power of X (2006)'}], 'returned': 6}, 'stories': {'available': 25, 'collectionURI': 'http://gateway.marvel.com/v1/public/characters/1010836/stories', 'items': [{'resourceURI': 'http://gateway.marvel.com/v1/public/stories/5463', 'name': 'X-Men and Power Pack (2005) #1', 'type': 'cover'}, {'resourceURI': 'http://gateway.marvel.com/v1/public/stories/5464', 'name': '1 of 4 - 4XLS', 'type': 'interiorStory'}, {'resourceURI': 'http://gateway.marvel.com/v1/public/stories/5465', 'name': 'X-Men and Power Pack (2005) #2', 'type': 'cover'}, {'resourceURI': 'http://gateway.marvel.com/v1/public/stories/5466', 'name': '2 of 4 - 4XLS', 'type': 'interiorStory'}, {'resourceURI': 'http://gateway.marvel.com/v1/public/stories/5467', 'name': 'X-Men and Power Pack (2005) #3', 'type': 'cover'}, {'resourceURI': 'http://gateway.marvel.com/v1/public/stories/5468', 'name': '3 of 4 - 4XLS', 'type': 'interiorStory'}, {'resourceURI': 'http://gateway.marvel.com/v1/public/stories/5469', 'name': 'X-Men and Power Pack (2005) #4', 'type': 'cover'}, {'resourceURI': 'http://gateway.marvel.com/v1/public/stories/5470', 'name': '4 of 4 - 4XLS', 'type': 'interiorStory'}, {'resourceURI': 'http://gateway.marvel.com/v1/public/stories/36224', 'name': 'Iron Man and Power Pack (2007) #1', 'type': 'cover'}, {'resourceURI': 'http://gateway.marvel.com/v1/public/stories/36225', 'name': '4XLS 1 of 4', 'type': 'interiorStory'}, {'resourceURI': 'http://gateway.marvel.com/v1/public/stories/36519', 'name': 'Iron Man and Power Pack (2007) #2', 'type': 'cover'}, {'resourceURI': 'http://gateway.marvel.com/v1/public/stories/36520', 'name': '4XLS 2 of 4', 'type': 'interiorStory'}, {'resourceURI': 'http://gateway.marvel.com/v1/public/stories/36949', 'name': 'Iron Man and Power Pack (2007) #3', 'type': 'cover'}, {'resourceURI': 'http://gateway.marvel.com/v1/public/stories/36950', 'name': '4XLS 3 of 4', 'type': 'interiorStory'}, {'resourceURI': 'http://gateway.marvel.com/v1/public/stories/44388', 'name': 'Iron Man and Power Pack (2007) #4', 'type': 'cover'}, {'resourceURI': 'http://gateway.marvel.com/v1/public/stories/44389', 'name': '4XLS 4 of 4', 'type': 'interiorStory'}, {'resourceURI': 'http://gateway.marvel.com/v1/public/stories/71416', 'name': 'Thor and the Warriors Four (2010) #1', 'type': 'cover'}, {'resourceURI': 'http://gateway.marvel.com/v1/public/stories/71420', 'name': 'Thor and the Warriors Four (2010) #2', 'type': 'cover'}, {'resourceURI': 'http://gateway.marvel.com/v1/public/stories/71424', 'name': 'Thor and the Warriors Four (2010) #3', 'type': 'cover'}, {'resourceURI': 'http://gateway.marvel.com/v1/public/stories/71428', 'name': 'Thor and the Warriors Four (2010) #4', 'type': 'cover'}], 'returned': 20}, 'events': {'available': 0, 'collectionURI': 'http://gateway.marvel.com/v1/public/characters/1010836/events', 'items': [], 'returned': 0}, 'urls': [{'type': 'detail', 'url': 'http://marvel.com/characters/1387/alex_power?utm_campaign=apiRef&utm_source=36193665898712ca70cbf11c17269421'}, {'type': 'comiclink', 'url': 'http://marvel.com/comics/characters/1010836/alex_power?utm_campaign=apiRef&utm_source=36193665898712ca70cbf11c17269421'}]}, {'id': 1010755, 'name': 'Alex Wilder', 'description': 'Despite being the only one of the Runaways without any superhuman abilities or tech, Alex Wilder became the de facto leader of the group due to his natural leadership skills and intellect, as well as prodigy-level logic and strategy.', 'modified': '1969-12-31T19:00:00-0500', 'thumbnail': {'path': 'http://i.annihil.us/u/prod/marvel/i/mg/2/c0/4c00377144d5a', 'extension': 'jpg'}, 'resourceURI': 'http://gateway.marvel.com/v1/public/characters/1010755', 'comics': {'available': 9, 'collectionURI': 'http://gateway.marvel.com/v1/public/characters/1010755/comics', 'items': [{'resourceURI': 'http://gateway.marvel.com/v1/public/comics/60754', 'name': 'Power Man and Iron Fist (2016) #14'}, {'resourceURI': 'http://gateway.marvel.com/v1/public/comics/15061', 'name': 'Runaways (2003) #1'}, {'resourceURI': 'http://gateway.marvel.com/v1/public/comics/15071', 'name': 'Runaways (2003) #2'}, {'resourceURI': 'http://gateway.marvel.com/v1/public/comics/15072', 'name': 'Runaways (2003) #3'}, {'resourceURI': 'http://gateway.marvel.com/v1/public/comics/15073', 'name': 'Runaways (2003) #4'}, {'resourceURI': 'http://gateway.marvel.com/v1/public/comics/15074', 'name': 'Runaways (2003) #5'}, {'resourceURI': 'http://gateway.marvel.com/v1/public/comics/15075', 'name': 'Runaways (2003) #6'}, {'resourceURI': 'http://gateway.marvel.com/v1/public/comics/70566', 'name': 'Runaways (2017) #17'}, {'resourceURI': 'http://gateway.marvel.com/v1/public/comics/1273', 'name': 'Runaways Vol. 1: Pride & Joy (Digest)'}], 'returned': 9}, 'series': {'available': 4, 'collectionURI': 'http://gateway.marvel.com/v1/public/characters/1010755/series', 'items': [{'resourceURI': 'http://gateway.marvel.com/v1/public/series/21122', 'name': 'Power Man and Iron Fist (2016 - 2017)'}, {'resourceURI': 'http://gateway.marvel.com/v1/public/series/23461', 'name': 'Runaways (2017 - 2021)'}, {'resourceURI': 'http://gateway.marvel.com/v1/public/series/2584', 'name': 'Runaways (2003 - 2004)'}, {'resourceURI': 'http://gateway.marvel.com/v1/public/series/327', 'name': 'Runaways Vol. 1: Pride & Joy (2004)'}], 'returned': 4}, 'stories': {'available': 9, 'collectionURI': 'http://gateway.marvel.com/v1/public/characters/1010755/stories', 'items': [{'resourceURI': 'http://gateway.marvel.com/v1/public/stories/30606', 'name': 'Pride and Joy, Part 1 of 6', 'type': 'interiorStory'}, {'resourceURI': 'http://gateway.marvel.com/v1/public/stories/30622', 'name': 'Cover #30622', 'type': 'cover'}, {'resourceURI': 'http://gateway.marvel.com/v1/public/stories/30623', 'name': 'Pride and Joy, Part 2 of 6', 'type': 'interiorStory'}, {'resourceURI': 'http://gateway.marvel.com/v1/public/stories/30625', 'name': 'Pride and Joy, Part 3 of 6', 'type': 'interiorStory'}, {'resourceURI': 'http://gateway.marvel.com/v1/public/stories/30627', 'name': 'Pride and Joy, Part 4 of 6', 'type': 'interiorStory'}, {'resourceURI': 'http://gateway.marvel.com/v1/public/stories/30629', 'name': 'Pride and Joy, Part 5 of 6', 'type': 'interiorStory'}, {'resourceURI': 'http://gateway.marvel.com/v1/public/stories/30631', 'name': 'Pride and Joy, Part 6 of 6', 'type': 'interiorStory'}, {'resourceURI': 'http://gateway.marvel.com/v1/public/stories/131977', 'name': 'cover from Power Man and Iron Fist (2016) #14', 'type': 'cover'}, {'resourceURI': 'http://gateway.marvel.com/v1/public/stories/156957', 'name': 'cover from Runaways (2017) #17', 'type': 'cover'}], 'returned': 9}, 'events': {'available': 0, 'collectionURI': 'http://gateway.marvel.com/v1/public/characters/1010755/events', 'items': [], 'returned': 0}, 'urls': [{'type': 'detail', 'url': 'http://marvel.com/characters/2820/alex_wilder?utm_campaign=apiRef&utm_source=36193665898712ca70cbf11c17269421'}, {'type': 'wiki', 'url': 'http://marvel.com/universe/Wilder%2C_Alex?utm_campaign=apiRef&utm_source=36193665898712ca70cbf11c17269421'}, {'type': 'comiclink', 'url': 'http://marvel.com/comics/characters/1010755/alex_wilder?utm_campaign=apiRef&utm_source=36193665898712ca70cbf11c17269421'}]}, {'id': 1011214, 'name': 'Alexa Mendez', 'description': '', 'modified': '1969-12-31T19:00:00-0500', 'thumbnail': {'path': 'http://i.annihil.us/u/prod/marvel/i/mg/b/40/image_not_available', 'extension': 'jpg'}, 'resourceURI': 'http://gateway.marvel.com/v1/public/characters/1011214', 'comics': {'available': 0, 'collectionURI': 'http://gateway.marvel.com/v1/public/characters/1011214/comics', 'items': [], 'returned': 0}, 'series': {'available': 0, 'collectionURI': 'http://gateway.marvel.com/v1/public/characters/1011214/series', 'items': [], 'returned': 0}, 'stories': {'available': 0, 'collectionURI': 'http://gateway.marvel.com/v1/public/characters/1011214/stories', 'items': [], 'returned': 0}, 'events': {'available': 0, 'collectionURI': 'http://gateway.marvel.com/v1/public/characters/1011214/events', 'items': [], 'returned': 0}, 'urls': [{'type': 'detail', 'url': 'http://marvel.com/characters/2892/alexa_mendez?utm_campaign=apiRef&utm_source=36193665898712ca70cbf11c17269421'}, {'type': 'comiclink', 'url': 'http://marvel.com/comics/characters/1011214/alexa_mendez?utm_campaign=apiRef&utm_source=36193665898712ca70cbf11c17269421'}]}, {'id': 1009497, 'name': 'Alexander Pierce', 'description': '', 'modified': '1969-12-31T19:00:00-0500', 'thumbnail': {'path': 'http://i.annihil.us/u/prod/marvel/i/mg/b/40/image_not_available', 'extension': 'jpg'}, 'resourceURI': 'http://gateway.marvel.com/v1/public/characters/1009497', 'comics': {'available': 1, 'collectionURI': 'http://gateway.marvel.com/v1/public/characters/1009497/comics', 'items': [{'resourceURI': 'http://gateway.marvel.com/v1/public/comics/26285', 'name': 'Secret Warriors (2009) #12'}], 'returned': 1}, 'series': {'available': 1, 'collectionURI': 'http://gateway.marvel.com/v1/public/characters/1009497/series', 'items': [{'resourceURI': 'http://gateway.marvel.com/v1/public/series/6796', 'name': 'Secret Warriors (2009 - 2011)'}], 'returned': 1}, 'stories': {'available': 1, 'collectionURI': 'http://gateway.marvel.com/v1/public/characters/1009497/stories', 'items': [{'resourceURI': 'http://gateway.marvel.com/v1/public/stories/57873', 'name': 'Secret Warriors (2008) #12', 'type': 'interiorStory'}], 'returned': 1}, 'events': {'available': 0, 'collectionURI': 'http://gateway.marvel.com/v1/public/characters/1009497/events', 'items': [], 'returned': 0}, 'urls': [{'type': 'detail', 'url': 'http://marvel.com/characters/2738/alexander_pierce?utm_campaign=apiRef&utm_source=36193665898712ca70cbf11c17269421'}, {'type': 'comiclink', 'url': 'http://marvel.com/comics/characters/1009497/alexander_pierce?utm_campaign=apiRef&utm_source=36193665898712ca70cbf11c17269421'}]}]}}\n"
     ]
    }
   ],
   "source": [
    "def get_data_of_30_marvel_character(api_key, api_key_private, base_url):\n",
    "\n",
    "    # ts stores the current time (the current timestamp) in seconds\n",
    "    ts = time.time()\n",
    "    ts_string = str(ts)\n",
    "\n",
    "    result_hash = str((hashlib.md5((ts_string+api_key_private+api_key).encode())).hexdigest())\n",
    "\n",
    "    params = {}\n",
    "    params[\"apikey\"] = api_key\n",
    "    params[\"ts\"] = str(time.time())\n",
    "    params[\"hash\"] = result_hash\n",
    "    # we set the limit to 30 because we only want to get back 30 characters, respectively their names\n",
    "    params[\"limit\"] = 30\n",
    "\n",
    "    info_30_character = requests.get(base_url + \"characters\", params = params)\n",
    "    dict_info_30_character = info_30_character.json()\n",
    "\n",
    "    return dict_info_30_character\n",
    "\n",
    "dict_data_about_30_marvel_charcaters = get_data_of_30_marvel_character(API_KEY, API_KEY_PRIVATE, base_url)\n",
    "print(dict_data_about_30_marvel_charcaters)"
   ]
  },
  {
   "cell_type": "markdown",
   "id": "15c21130",
   "metadata": {
    "id": "15c21130"
   },
   "source": [
    "After we have written above a function that provides all the data of 30 marvel characters using the paramter limit = 30, we want now to exctract only the names of these 30 characters out of the received payload. The payload was converted from a JSON object into a Python dictionary using the method .json()."
   ]
  },
  {
   "cell_type": "code",
   "execution_count": 69,
   "id": "7c7b1d68",
   "metadata": {
    "id": "7c7b1d68",
    "outputId": "d5c7c9a4-aa5b-4c85-8bdf-963fe13285fd"
   },
   "outputs": [
    {
     "name": "stdout",
     "output_type": "stream",
     "text": [
      "number of charatcters in the list: 30\n",
      "['3-D Man', 'A-Bomb (HAS)', 'A.I.M.', 'Aaron Stack', 'Abomination (Emil Blonsky)', 'Abomination (Ultimate)', 'Absorbing Man', 'Abyss', 'Abyss (Age of Apocalypse)', 'Adam Destine', 'Adam Warlock', 'Aegis (Trey Rollins)', 'Aero (Aero)', 'Agatha Harkness', 'Agent Brand', 'Agent X (Nijo)', 'Agent Zero', 'Agents of Atlas', 'Aginar', 'Air-Walker (Gabriel Lan)', 'Ajak', 'Ajaxis', 'Akemi', 'Alain', 'Albert Cleary', 'Albion', 'Alex Power', 'Alex Wilder', 'Alexa Mendez', 'Alexander Pierce']\n"
     ]
    }
   ],
   "source": [
    "def extract_the_names_of_the_30_characters():\n",
    "\n",
    "    dict_with_data_of_30_characters = get_data_of_30_marvel_character(API_KEY, API_KEY_PRIVATE, base_url)\n",
    "    \n",
    "    # We check whether data was correctly retrived. Otherwise, we retrive the data again from the Marvel API by calling\n",
    "    # the function \"get_data_of_30_marvel_character(API_KEY, API_KEY_PRIVATE, base_url)\" once more.\n",
    "    if dict_with_data_of_30_characters[\"code\"] == 200:\n",
    "        pass\n",
    "    else:\n",
    "        dict_with_data_of_30_characters = get_data_of_30_marvel_character(API_KEY, API_KEY_PRIVATE, base_url)\n",
    "    \n",
    "    #this list shall be filled with 30 names of Marvel characters and afterward this function shall return the list\n",
    "    list_with_names = []\n",
    "\n",
    "    list_with_data_of_30_marvel_characters = dict_with_data_of_30_characters[\"data\"][\"results\"]\n",
    "\n",
    "    for marvel_charcter in list_with_data_of_30_marvel_characters:\n",
    "        list_with_names.append(marvel_charcter[\"name\"])\n",
    "\n",
    "    return list_with_names\n",
    "\n",
    "list_with_30_marvel_characters = extract_the_names_of_the_30_characters()\n",
    "print(f\"number of charatcters in the list: {len(list_with_30_marvel_characters)}\")\n",
    "print(list_with_30_marvel_characters)"
   ]
  },
  {
   "cell_type": "markdown",
   "id": "9331aa96",
   "metadata": {
    "id": "9331aa96"
   },
   "source": [
    "We also create a function that provides a list with the IDs and the names of the 30 marvel characters retrived from the marvel API."
   ]
  },
  {
   "cell_type": "code",
   "execution_count": 70,
   "id": "4ec13447",
   "metadata": {
    "id": "4ec13447",
    "outputId": "aa6b1dcf-8f5f-45e6-a001-42bff97bd0eb"
   },
   "outputs": [
    {
     "name": "stdout",
     "output_type": "stream",
     "text": [
      "number of characters in the list: 30\n",
      "datatype of the character IDs: <class 'int'>\n",
      "[(1011334, '3-D Man'), (1017100, 'A-Bomb (HAS)'), (1009144, 'A.I.M.'), (1010699, 'Aaron Stack'), (1009146, 'Abomination (Emil Blonsky)'), (1016823, 'Abomination (Ultimate)'), (1009148, 'Absorbing Man'), (1009149, 'Abyss'), (1010903, 'Abyss (Age of Apocalypse)'), (1011266, 'Adam Destine'), (1010354, 'Adam Warlock'), (1010846, 'Aegis (Trey Rollins)'), (1017851, 'Aero (Aero)'), (1012717, 'Agatha Harkness'), (1011297, 'Agent Brand'), (1011031, 'Agent X (Nijo)'), (1009150, 'Agent Zero'), (1011198, 'Agents of Atlas'), (1011175, 'Aginar'), (1011136, 'Air-Walker (Gabriel Lan)'), (1011176, 'Ajak'), (1010870, 'Ajaxis'), (1011194, 'Akemi'), (1011170, 'Alain'), (1009240, 'Albert Cleary'), (1011120, 'Albion'), (1010836, 'Alex Power'), (1010755, 'Alex Wilder'), (1011214, 'Alexa Mendez'), (1009497, 'Alexander Pierce')]\n"
     ]
    }
   ],
   "source": [
    "def extract_the_names_and_ids_of_the_30_characters():\n",
    "\n",
    "    dict_with_data_of_30_characters = get_data_of_30_marvel_character(API_KEY, API_KEY_PRIVATE, base_url)\n",
    "    \n",
    "    # We check whether data was correctly retrived. Otherwise, we retrive the data again from the Marvel API by calling\n",
    "    # the function \"get_data_of_30_marvel_character(API_KEY, API_KEY_PRIVATE, base_url)\" once more.\n",
    "    if dict_with_data_of_30_characters[\"code\"] == 200:\n",
    "        pass\n",
    "    else:\n",
    "        dict_with_data_of_30_characters = get_data_of_30_marvel_character(API_KEY, API_KEY_PRIVATE, base_url)\n",
    "\n",
    "    #this list shall be filled with the IDs and names of 30 Marvel characters and afterward this\n",
    "    #function shall return the list\n",
    "    list_with_IDs_and_names = []\n",
    "\n",
    "    list_with_data_of_30_marvel_characters = dict_with_data_of_30_characters[\"data\"][\"results\"]\n",
    "\n",
    "    for marvel_charcter in list_with_data_of_30_marvel_characters:\n",
    "        # we create a list with 30 tuples inside the list\n",
    "        # each tuple contains the ID and the name of one marvel character we retrievd from the marvel API\n",
    "        list_with_IDs_and_names.append((marvel_charcter[\"id\"], marvel_charcter[\"name\"]))\n",
    "\n",
    "    return list_with_IDs_and_names\n",
    "\n",
    "list_with_30_marvel_characters_IDs_and_names = extract_the_names_and_ids_of_the_30_characters()\n",
    "print(f\"number of characters in the list: {len(list_with_30_marvel_characters_IDs_and_names)}\")\n",
    "print(f\"datatype of the character IDs: {type(list_with_30_marvel_characters_IDs_and_names[0][0])}\")\n",
    "print(list_with_30_marvel_characters_IDs_and_names)"
   ]
  },
  {
   "cell_type": "code",
   "execution_count": 71,
   "id": "c66327aa",
   "metadata": {
    "id": "c66327aa",
    "outputId": "bff55c37-db03-494f-a928-823475715c46"
   },
   "outputs": [
    {
     "name": "stdout",
     "output_type": "stream",
     "text": [
      "['3-D Man', 'A-Bomb (HAS)', 'A.I.M.', 'Aaron Stack', 'Abomination (Emil Blonsky)', 'Abomination (Ultimate)', 'Absorbing Man', 'Abyss', 'Abyss (Age of Apocalypse)', 'Adam Destine', 'Adam Warlock', 'Aegis (Trey Rollins)', 'Aero (Aero)', 'Agatha Harkness', 'Agent Brand', 'Agent X (Nijo)', 'Agent Zero', 'Agents of Atlas', 'Aginar', 'Air-Walker (Gabriel Lan)', 'Ajak', 'Ajaxis', 'Akemi', 'Alain', 'Albert Cleary', 'Albion', 'Alex Power', 'Alex Wilder', 'Alexa Mendez', 'Alexander Pierce']\n"
     ]
    }
   ],
   "source": [
    "# We create a list only contaning the names for each of the 30 characters retrived from the Marvel API\n",
    "# In order to create this list we use list comprehension\n",
    "\n",
    "list_names = [name[1] for name in list_with_30_marvel_characters_IDs_and_names]\n",
    "print(list_names)"
   ]
  },
  {
   "cell_type": "markdown",
   "id": "45f42d9f",
   "metadata": {
    "id": "45f42d9f"
   },
   "source": [
    "### 2. Step - Retrieve the Ids for all the characters in your list (in str form)"
   ]
  },
  {
   "cell_type": "markdown",
   "id": "5a322f87",
   "metadata": {
    "id": "5a322f87"
   },
   "source": [
    "We can use the list we created aboved, contaning the names as well as the IDs of the marvel characters, in order to retrive the IDs in a string format.\n",
    "\n",
    "- Having a look at the current datatype of the IDs, using type(), we recognize that the IDs are currently integers. We can use str() to convert the integers into strings."
   ]
  },
  {
   "cell_type": "code",
   "execution_count": 72,
   "id": "e1fadc6e",
   "metadata": {
    "id": "e1fadc6e",
    "outputId": "aeae9714-f17c-41ea-b035-e51f6a3eda7a"
   },
   "outputs": [
    {
     "name": "stdout",
     "output_type": "stream",
     "text": [
      "30\n",
      "['1011334', '1017100', '1009144', '1010699', '1009146', '1016823', '1009148', '1009149', '1010903', '1011266', '1010354', '1010846', '1017851', '1012717', '1011297', '1011031', '1009150', '1011198', '1011175', '1011136', '1011176', '1010870', '1011194', '1011170', '1009240', '1011120', '1010836', '1010755', '1011214', '1009497']\n",
      "\n",
      "\n",
      "\n",
      "the ID: 1011334      datatype of the ID: <class 'str'>\n",
      "the ID: 1017100      datatype of the ID: <class 'str'>\n",
      "the ID: 1009144      datatype of the ID: <class 'str'>\n",
      "the ID: 1010699      datatype of the ID: <class 'str'>\n",
      "the ID: 1009146      datatype of the ID: <class 'str'>\n",
      "the ID: 1016823      datatype of the ID: <class 'str'>\n",
      "the ID: 1009148      datatype of the ID: <class 'str'>\n",
      "the ID: 1009149      datatype of the ID: <class 'str'>\n",
      "the ID: 1010903      datatype of the ID: <class 'str'>\n",
      "the ID: 1011266      datatype of the ID: <class 'str'>\n",
      "the ID: 1010354      datatype of the ID: <class 'str'>\n",
      "the ID: 1010846      datatype of the ID: <class 'str'>\n",
      "the ID: 1017851      datatype of the ID: <class 'str'>\n",
      "the ID: 1012717      datatype of the ID: <class 'str'>\n",
      "the ID: 1011297      datatype of the ID: <class 'str'>\n",
      "the ID: 1011031      datatype of the ID: <class 'str'>\n",
      "the ID: 1009150      datatype of the ID: <class 'str'>\n",
      "the ID: 1011198      datatype of the ID: <class 'str'>\n",
      "the ID: 1011175      datatype of the ID: <class 'str'>\n",
      "the ID: 1011136      datatype of the ID: <class 'str'>\n",
      "the ID: 1011176      datatype of the ID: <class 'str'>\n",
      "the ID: 1010870      datatype of the ID: <class 'str'>\n",
      "the ID: 1011194      datatype of the ID: <class 'str'>\n",
      "the ID: 1011170      datatype of the ID: <class 'str'>\n",
      "the ID: 1009240      datatype of the ID: <class 'str'>\n",
      "the ID: 1011120      datatype of the ID: <class 'str'>\n",
      "the ID: 1010836      datatype of the ID: <class 'str'>\n",
      "the ID: 1010755      datatype of the ID: <class 'str'>\n",
      "the ID: 1011214      datatype of the ID: <class 'str'>\n",
      "the ID: 1009497      datatype of the ID: <class 'str'>\n"
     ]
    }
   ],
   "source": [
    "def retrive_IDs_of_characters_as_strings():\n",
    "\n",
    "    names_and_IDs_30_characters = extract_the_names_and_ids_of_the_30_characters()\n",
    "    \n",
    "    list_with_30_IDs_str = []\n",
    "\n",
    "    for name_ID_tuple in names_and_IDs_30_characters:\n",
    "        list_with_30_IDs_str.append(str(name_ID_tuple[0]))\n",
    "\n",
    "    return list_with_30_IDs_str\n",
    "\n",
    "list_30_IDs_str_format = retrive_IDs_of_characters_as_strings()\n",
    "print(len(list_30_IDs_str_format))\n",
    "print(list_30_IDs_str_format)\n",
    "\n",
    "print(f\"\\n\\n\")\n",
    "for str_ID in list_30_IDs_str_format:\n",
    "    print(f\"the ID: {str_ID}      datatype of the ID: {type(str_ID)}\")"
   ]
  },
  {
   "cell_type": "code",
   "execution_count": 73,
   "id": "e1bb7112",
   "metadata": {
    "id": "e1bb7112",
    "outputId": "d5665aed-de21-496c-9cd4-ade50468cfaf"
   },
   "outputs": [
    {
     "name": "stdout",
     "output_type": "stream",
     "text": [
      "[1011334, 1017100, 1009144, 1010699, 1009146, 1016823, 1009148, 1009149, 1010903, 1011266, 1010354, 1010846, 1017851, 1012717, 1011297, 1011031, 1009150, 1011198, 1011175, 1011136, 1011176, 1010870, 1011194, 1011170, 1009240, 1011120, 1010836, 1010755, 1011214, 1009497]\n",
      "['1011334', '1017100', '1009144', '1010699', '1009146', '1016823', '1009148', '1009149', '1010903', '1011266', '1010354', '1010846', '1017851', '1012717', '1011297', '1011031', '1009150', '1011198', '1011175', '1011136', '1011176', '1010870', '1011194', '1011170', '1009240', '1011120', '1010836', '1010755', '1011214', '1009497']\n"
     ]
    }
   ],
   "source": [
    "list_30_IDs_str_format\n",
    "\n",
    "id_int_list = []\n",
    "\n",
    "for i in list_30_IDs_str_format:\n",
    "    id_int_list.append(int(i))\n",
    "\n",
    "# integer format IDs\n",
    "print(id_int_list)\n",
    "# string format IDs\n",
    "print(list_30_IDs_str_format)"
   ]
  },
  {
   "cell_type": "markdown",
   "id": "4e8bd3a9",
   "metadata": {
    "id": "4e8bd3a9"
   },
   "source": [
    "### 3. Step - Retrieve the total number of Events available for all the characters in your list (in integer form)"
   ]
  },
  {
   "cell_type": "markdown",
   "id": "1c9172b1",
   "metadata": {
    "id": "1c9172b1"
   },
   "source": [
    "#### 1. Approach\n",
    "\n",
    "We use the IDs of the Marvel characters, we have retrived before, in order to send get requests to the Marvel API and get the needed information for each of these characters, starting here with the **total number of events available** for each character.\n",
    "\n",
    "- In order to only receive the information of one character at the time we use the ID of a respective character to specify of which character we would like to receive the information. That is what is done in the first function below.\n",
    "- In the second function below, we put the received information about the total number of events for each marvel character together into one list."
   ]
  },
  {
   "cell_type": "code",
   "execution_count": 74,
   "id": "73baaf76",
   "metadata": {
    "id": "73baaf76",
    "outputId": "5af537f4-75fd-41b2-9dbb-a5fe3092b7bc"
   },
   "outputs": [
    {
     "name": "stdout",
     "output_type": "stream",
     "text": [
      "[(1011334, '3-D Man', 1), (1017100, 'A-Bomb (HAS)', 0), (1009144, 'A.I.M.', 0), (1010699, 'Aaron Stack', 0), (1009146, 'Abomination (Emil Blonsky)', 1), (1016823, 'Abomination (Ultimate)', 0), (1009148, 'Absorbing Man', 5), (1009149, 'Abyss', 1), (1010903, 'Abyss (Age of Apocalypse)', 1), (1011266, 'Adam Destine', 0), (1010354, 'Adam Warlock', 8), (1010846, 'Aegis (Trey Rollins)', 0), (1017851, 'Aero (Aero)', 0), (1012717, 'Agatha Harkness', 0), (1011297, 'Agent Brand', 0), (1011031, 'Agent X (Nijo)', 0), (1009150, 'Agent Zero', 0), (1011198, 'Agents of Atlas', 1), (1011175, 'Aginar', 0), (1011136, 'Air-Walker (Gabriel Lan)', 1), (1011176, 'Ajak', 1), (1010870, 'Ajaxis', 0), (1011194, 'Akemi', 0), (1011170, 'Alain', 0), (1009240, 'Albert Cleary', 0), (1011120, 'Albion', 0), (1010836, 'Alex Power', 0), (1010755, 'Alex Wilder', 0), (1011214, 'Alexa Mendez', 0), (1009497, 'Alexander Pierce', 0)]\n",
      "\n",
      "\n",
      "\n",
      "30\n",
      "[1, 0, 0, 0, 1, 0, 5, 1, 1, 0, 8, 0, 0, 0, 0, 0, 0, 1, 0, 1, 1, 0, 0, 0, 0, 0, 0, 0, 0, 0]\n"
     ]
    }
   ],
   "source": [
    "### This code block below needs some seconds to get executed because it accesses the Marvel API multuiple times to retrieve data ###\n",
    "\n",
    "def get_data_of_1_marvel_character_base_on_ID_Events(api_key, api_key_private, base_url,\n",
    "                                              marvel_character_ID_and_name):\n",
    "\n",
    "    # ts stores the current time (the current timestamp) in seconds\n",
    "    ts = time.time()\n",
    "    ts_string = str(ts)\n",
    "\n",
    "    result_hash = str((hashlib.md5((ts_string+api_key_private+api_key).encode())).hexdigest())\n",
    "\n",
    "    params = {}\n",
    "    params[\"apikey\"] = api_key\n",
    "    params[\"ts\"] = str(time.time())\n",
    "    params[\"hash\"] = result_hash\n",
    "\n",
    "    # We use the IDs of the Marvel characters to retrive data about the characters with these respective\n",
    "    # IDs assigned from the Marvel API\n",
    "    params[\"id\"] = int(marvel_character_ID_and_name[0])\n",
    "\n",
    "    info_one_character = requests.get(base_url + \"characters\", params = params)\n",
    "    dict_info_one_character = info_one_character.json()\n",
    "\n",
    "    # we want to get the total number of events available back for the respective character\n",
    "    # So, we filter this information out\n",
    "    # But we only filter the information out when there was also the code 200 transmitted\n",
    "    # meaning the connection between our client and the server is just fine.\n",
    "    # That is what we are testing for in the if-else statment structure\n",
    "    # If we do not receive the code 200, there is a server-sided error and we just call the data once again from the API.\n",
    "    # --> the else-part\n",
    "    # --> So, we are basically catching potential server-sided errors without using the try: except: structure\n",
    "    # or the \"raise\" keyword\n",
    "\n",
    "    if dict_info_one_character[\"code\"] == 200:\n",
    "        reduction_1 = dict_info_one_character[\"data\"][\"results\"]\n",
    "        total_number_of_events_for_character = reduction_1[0][\"events\"][\"available\"]\n",
    "    else:\n",
    "        total_number_of_events_for_character = get_data_of_1_marvel_character_base_on_ID_Events(API_KEY, API_KEY_PRIVATE, base_url,\n",
    "                                              marvel_character_ID_and_name)\n",
    "\n",
    "\n",
    "    return total_number_of_events_for_character\n",
    "\n",
    "def total_events_avaliable_for_30_marvel_characters(list_with_characters_IDs_and_names):\n",
    "\n",
    "    characters_list_ID_name_events = []\n",
    "\n",
    "    for ID, name in list_with_characters_IDs_and_names:\n",
    "        marvel_character_ID_and_name = (ID, name)\n",
    "\n",
    "        # function form above is called\n",
    "        num_events = get_data_of_1_marvel_character_base_on_ID_Events(API_KEY, API_KEY_PRIVATE, base_url,\n",
    "                                              marvel_character_ID_and_name)\n",
    "\n",
    "        # Information is added to the list\n",
    "        characters_list_ID_name_events.append((ID,name,num_events))\n",
    "\n",
    "    return characters_list_ID_name_events\n",
    "\n",
    "list_ID_name_events_of_characters = total_events_avaliable_for_30_marvel_characters(list_with_30_marvel_characters_IDs_and_names)\n",
    "\n",
    "# we receive a list with the names of all the 30 characters, their IDs, and with their total number of events available\n",
    "# For each character we have in this list a tuple contaning the characters ID, name, and total of events available\n",
    "print(list_ID_name_events_of_characters)\n",
    "\n",
    "# We create a list only contaning the total number of events available for each character\n",
    "# In order to create this list we use list comprehension\n",
    "\n",
    "print(f\"\\n\\n\")\n",
    "list_events = [id_name_events[2] for id_name_events in list_ID_name_events_of_characters]\n",
    "print(len(list_events))\n",
    "print(list_events)\n",
    "\n",
    "### This code block above needs some seconds to get executed because it accesses the Marvel API multuiple times to retrieve data ###"
   ]
  },
  {
   "cell_type": "code",
   "execution_count": 75,
   "id": "984abffb",
   "metadata": {
    "id": "984abffb",
    "outputId": "6ecc2b20-7974-4696-f2f9-180091d2e554"
   },
   "outputs": [
    {
     "name": "stdout",
     "output_type": "stream",
     "text": [
      "the total number of events available for 3-D Man is 1\n",
      "the datatype of total number of events availalble is <class 'int'> \n"
     ]
    }
   ],
   "source": [
    "# example regarding the results we get\n",
    "print(f\"\"\"the total number of events available for {list_ID_name_events_of_characters[0][1]} is {list_ID_name_events_of_characters[0][2]}\n",
    "the datatype of total number of events availalble is {type(list_ID_name_events_of_characters[0][2])} \"\"\")"
   ]
  },
  {
   "cell_type": "code",
   "execution_count": 76,
   "id": "0fea359b",
   "metadata": {
    "id": "0fea359b",
    "outputId": "742291dd-b067-4375-94a4-70080f5b8745"
   },
   "outputs": [
    {
     "name": "stdout",
     "output_type": "stream",
     "text": [
      "30\n",
      "[1, 0, 0, 0, 1, 0, 5, 1, 1, 0, 8, 0, 0, 0, 0, 0, 0, 1, 0, 1, 1, 0, 0, 0, 0, 0, 0, 0, 0, 0]\n"
     ]
    }
   ],
   "source": [
    "# We create a list only contaning the total number of events available for each character\n",
    "# In order to create this list we use list comprehension\n",
    "\n",
    "list_events_1 = [id_name_events[2] for id_name_events in list_ID_name_events_of_characters]\n",
    "print(len(list_events_1))\n",
    "print(list_events_1)"
   ]
  },
  {
   "cell_type": "markdown",
   "id": "0fdba77c",
   "metadata": {
    "id": "0fdba77c"
   },
   "source": [
    "### 4. Step - Retrieve the total number of Series available for all the characters in your list (in integer form)"
   ]
  },
  {
   "cell_type": "markdown",
   "id": "0532162f",
   "metadata": {
    "id": "0532162f"
   },
   "source": [
    "#### 1. Approach\n",
    "\n",
    "***The 1. Approach to solve 4.Step is similar to the 1.Approach in 3.Step:***\n",
    "\n",
    "We use the IDs of the Marvel characters, we have retrived before, in order to send get requests to the Marvel API and get the needed information for each of these characters. In this case the information needed is the **total number of Series available** for each character.\n",
    "\n",
    "- In order to only receive the information of one character at the time, we use the ID of a respective character to specify of which character we would like to receive the information. That is what is done in the first function below.\n",
    "- In the second function below, we put the received information about the total number of Series available for each Marvel character together into one list."
   ]
  },
  {
   "cell_type": "code",
   "execution_count": 77,
   "id": "7f0b514e",
   "metadata": {
    "id": "7f0b514e",
    "outputId": "35ffe7ed-1903-4f0e-ce82-083d124e789d"
   },
   "outputs": [
    {
     "name": "stdout",
     "output_type": "stream",
     "text": [
      "[(1011334, '3-D Man', 3), (1017100, 'A-Bomb (HAS)', 2), (1009144, 'A.I.M.', 36), (1010699, 'Aaron Stack', 3), (1009146, 'Abomination (Emil Blonsky)', 28), (1016823, 'Abomination (Ultimate)', 2), (1009148, 'Absorbing Man', 50), (1009149, 'Abyss', 3), (1010903, 'Abyss (Age of Apocalypse)', 3), (1011266, 'Adam Destine', 0), (1010354, 'Adam Warlock', 88), (1010846, 'Aegis (Trey Rollins)', 0), (1017851, 'Aero (Aero)', 5), (1012717, 'Agatha Harkness', 12), (1011297, 'Agent Brand', 7), (1011031, 'Agent X (Nijo)', 3), (1009150, 'Agent Zero', 10), (1011198, 'Agents of Atlas', 13), (1011175, 'Aginar', 0), (1011136, 'Air-Walker (Gabriel Lan)', 3), (1011176, 'Ajak', 1), (1010870, 'Ajaxis', 0), (1011194, 'Akemi', 0), (1011170, 'Alain', 0), (1009240, 'Albert Cleary', 0), (1011120, 'Albion', 1), (1010836, 'Alex Power', 6), (1010755, 'Alex Wilder', 4), (1011214, 'Alexa Mendez', 0), (1009497, 'Alexander Pierce', 1)]\n",
      "\n",
      "\n",
      "\n",
      "[3, 2, 36, 3, 28, 2, 50, 3, 3, 0, 88, 0, 5, 12, 7, 3, 10, 13, 0, 3, 1, 0, 0, 0, 0, 1, 6, 4, 0, 1]\n"
     ]
    }
   ],
   "source": [
    "### This code block below needs some seconds to get executed because it accesses the Marvel API multuiple times to retrieve data ###\n",
    "\n",
    "def get_data_of_1_marvel_character_base_on_ID_Series(api_key, api_key_private, base_url,\n",
    "                                              marvel_character_ID_and_name):\n",
    "\n",
    "    # ts stores the current time (the current timestamp) in seconds\n",
    "    ts = time.time()\n",
    "    ts_string = str(ts)\n",
    "\n",
    "    result_hash = str((hashlib.md5((ts_string+api_key_private+api_key).encode())).hexdigest())\n",
    "\n",
    "    params = {}\n",
    "    params[\"apikey\"] = api_key\n",
    "    params[\"ts\"] = str(time.time())\n",
    "    params[\"hash\"] = result_hash\n",
    "\n",
    "    # We use the IDs of the Marvel characters to retrive data about the characters with these respective\n",
    "    # IDs assigned from the Marvel API\n",
    "    params[\"id\"] = int(marvel_character_ID_and_name[0])\n",
    "\n",
    "    info_one_character = requests.get(base_url + \"characters\", params = params)\n",
    "    dict_info_one_character_2 = info_one_character.json()\n",
    "\n",
    "    # we want to get the total number of series available back for the respective character\n",
    "    # So, we filter this information out\n",
    "    # But we only filter the information out when there was also the code 200 transmitted\n",
    "    # meaning the connection between our client and the server is just fine and data transmission worked well.\n",
    "    # That is what we are testing for in the if-else statment structure\n",
    "    # If we do not receive the code 200, there is a server-sided error and we just call the data once again from the API.\n",
    "    # --> the else-part\n",
    "    # --> So, we are basically catching potential server-sided errors without using the try: except: structure\n",
    "    # or the \"raise\" keyword\n",
    "\n",
    "    if dict_info_one_character_2[\"code\"] == 200:\n",
    "        reduction_1 = dict_info_one_character_2[\"data\"][\"results\"]\n",
    "        total_number_of_series_for_character = reduction_1[0][\"series\"][\"available\"]\n",
    "    else:\n",
    "        total_number_of_series_for_character = get_data_of_1_marvel_character_base_on_ID_Series(API_KEY, API_KEY_PRIVATE, base_url,\n",
    "                                              marvel_character_ID_and_name)\n",
    "\n",
    "\n",
    "    return total_number_of_series_for_character\n",
    "\n",
    "def total_series_avaliable_for_30_marvel_characters(list_with_characters_IDs_and_names):\n",
    "\n",
    "    characters_list_ID_name_series = []\n",
    "\n",
    "    for ID, name in list_with_characters_IDs_and_names:\n",
    "        marvel_character_ID_and_name = (ID, name)\n",
    "\n",
    "        # function form above is called\n",
    "        num_events = get_data_of_1_marvel_character_base_on_ID_Series(API_KEY, API_KEY_PRIVATE, base_url,\n",
    "                                              marvel_character_ID_and_name)\n",
    "\n",
    "        # Information is added to the list\n",
    "        characters_list_ID_name_series.append((ID,name,num_events))\n",
    "\n",
    "    return characters_list_ID_name_series\n",
    "\n",
    "list_ID_name_series_of_characters = total_series_avaliable_for_30_marvel_characters(list_with_30_marvel_characters_IDs_and_names)\n",
    "\n",
    "# we receive a list with the names of all the 30 characters, their IDs, and with their total number of series available\n",
    "# For each character we have in this list a tuple contaning the characters ID, name, and total of number of series available\n",
    "print(list_ID_name_series_of_characters)\n",
    "\n",
    "# We create a list only contaning the total number of series available for each of the 30 selected characters\n",
    "# In order to create this list we use list comprehension\n",
    "\n",
    "print(f\"\\n\\n\")\n",
    "list_series = [id_name_series[2] for id_name_series in list_ID_name_series_of_characters]\n",
    "print(list_series)\n",
    "\n",
    "### This code block above needs some seconds to get executed because it accesses the Marvel API multuiple times to retrieve data ###"
   ]
  },
  {
   "cell_type": "code",
   "execution_count": 78,
   "id": "01339bfd",
   "metadata": {
    "id": "01339bfd",
    "outputId": "84339977-432b-45e8-9f4f-54345b9c7795"
   },
   "outputs": [
    {
     "name": "stdout",
     "output_type": "stream",
     "text": [
      "the total number of series available for 3-D Man is 3\n",
      "the datatype of the total number of series available is <class 'int'> \n"
     ]
    }
   ],
   "source": [
    "# example regarding the results we get\n",
    "print(f\"\"\"the total number of series available for {list_ID_name_series_of_characters[0][1]} is {list_ID_name_series_of_characters[0][2]}\n",
    "the datatype of the total number of series available is {type(list_ID_name_series_of_characters[0][2])} \"\"\")"
   ]
  },
  {
   "cell_type": "code",
   "execution_count": 79,
   "id": "b881321b",
   "metadata": {
    "id": "b881321b",
    "outputId": "416dc33d-63cc-4852-e0d4-aef49606c93d"
   },
   "outputs": [
    {
     "name": "stdout",
     "output_type": "stream",
     "text": [
      "[3, 2, 36, 3, 28, 2, 50, 3, 3, 0, 88, 0, 5, 12, 7, 3, 10, 13, 0, 3, 1, 0, 0, 0, 0, 1, 6, 4, 0, 1]\n"
     ]
    }
   ],
   "source": [
    "# We create a list only containing the total number of series available for each of the 30 selected characters\n",
    "# In order to create this list we use list comprehension\n",
    "\n",
    "list_series_1 = [id_name_series[2] for id_name_series in list_ID_name_series_of_characters]\n",
    "print(list_series_1)"
   ]
  },
  {
   "cell_type": "markdown",
   "id": "9d3110d8",
   "metadata": {
    "id": "9d3110d8"
   },
   "source": [
    "### 5. Step - Retrieve the total number of Comics available for all the characters in your list (in integer form)"
   ]
  },
  {
   "cell_type": "markdown",
   "id": "2a75da7d",
   "metadata": {
    "id": "2a75da7d"
   },
   "source": [
    "#### 1. Approach\n",
    "\n",
    "***The 1. Approach to solve 5.Step is similar to the 1. Approach in 4.Step:***\n",
    "\n",
    "We use the IDs of the Marvel characters, we have retrived before, in order to send get requests to the Marvel API and get the needed information for each of these characters. In this case the information needed is the **total number of Comics available** for each character.\n",
    "\n",
    "- In order to only receive the information of one character at the time, we use the ID of a respective character to specify of which character we would like to receive the information. That is what is done in the first function below.\n",
    "- In the second function below, we put the received information about the total number of Comics available for each Marvel character together into one list."
   ]
  },
  {
   "cell_type": "code",
   "execution_count": 80,
   "id": "9be27f0b",
   "metadata": {
    "id": "9be27f0b",
    "outputId": "b68146fb-d526-4ced-b8c9-c3f00baea0d3"
   },
   "outputs": [
    {
     "name": "stdout",
     "output_type": "stream",
     "text": [
      "[(1011334, '3-D Man', 12), (1017100, 'A-Bomb (HAS)', 4), (1009144, 'A.I.M.', 53), (1010699, 'Aaron Stack', 14), (1009146, 'Abomination (Emil Blonsky)', 58), (1016823, 'Abomination (Ultimate)', 2), (1009148, 'Absorbing Man', 99), (1009149, 'Abyss', 8), (1010903, 'Abyss (Age of Apocalypse)', 3), (1011266, 'Adam Destine', 0), (1010354, 'Adam Warlock', 200), (1010846, 'Aegis (Trey Rollins)', 0), (1017851, 'Aero (Aero)', 29), (1012717, 'Agatha Harkness', 23), (1011297, 'Agent Brand', 30), (1011031, 'Agent X (Nijo)', 18), (1009150, 'Agent Zero', 29), (1011198, 'Agents of Atlas', 45), (1011175, 'Aginar', 0), (1011136, 'Air-Walker (Gabriel Lan)', 4), (1011176, 'Ajak', 4), (1010870, 'Ajaxis', 0), (1011194, 'Akemi', 0), (1011170, 'Alain', 0), (1009240, 'Albert Cleary', 0), (1011120, 'Albion', 1), (1010836, 'Alex Power', 18), (1010755, 'Alex Wilder', 9), (1011214, 'Alexa Mendez', 0), (1009497, 'Alexander Pierce', 1)]\n",
      "\n",
      "\n",
      "\n",
      "[12, 4, 53, 14, 58, 2, 99, 8, 3, 0, 200, 0, 29, 23, 30, 18, 29, 45, 0, 4, 4, 0, 0, 0, 0, 1, 18, 9, 0, 1]\n"
     ]
    }
   ],
   "source": [
    "## This code block below needs some seconds to get executed because it accesses the Marvel API multuiple times to retrieve data ###\n",
    "\n",
    "def get_data_of_1_marvel_character_base_on_ID_Comics(api_key, api_key_private, base_url,\n",
    "                                              marvel_character_ID_and_name):\n",
    "\n",
    "    # ts stores the current time (the current timestamp) in seconds\n",
    "    ts = time.time()\n",
    "    ts_string = str(ts)\n",
    "\n",
    "    result_hash = str((hashlib.md5((ts_string+api_key_private+api_key).encode())).hexdigest())\n",
    "\n",
    "    params = {}\n",
    "    params[\"apikey\"] = api_key\n",
    "    params[\"ts\"] = str(time.time())\n",
    "    params[\"hash\"] = result_hash\n",
    "\n",
    "    # We use the IDs of the Marvel characters to retrive data about the characters with these respective\n",
    "    # IDs assigned from the Marvel API\n",
    "    params[\"id\"] = int(marvel_character_ID_and_name[0])\n",
    "\n",
    "    info_one_character = requests.get(base_url + \"characters\", params = params)\n",
    "    dict_info_one_character_3 = info_one_character.json()\n",
    "\n",
    "    # we want to get the total number of comics available back for the respective character in which he/she was featured\n",
    "    # So, we filter this information out\n",
    "    # But we only filter the information out when there was also the code 200 transmitted\n",
    "    # meaning the connection between our client and the server is just fine and transmission of data worked well.\n",
    "    # That is what we are testing for in the if-else statment structure\n",
    "    # If we do not receive the code 200, there is a server-sided error and we just call the data once again from the API.\n",
    "    # --> the else-part\n",
    "    # --> So, we are basically catching potential server-sided errors without using the try: except: structure\n",
    "    # or the \"raise\" keyword\n",
    "\n",
    "    if dict_info_one_character_3[\"code\"] == 200:\n",
    "        reduction_1 = dict_info_one_character_3[\"data\"][\"results\"]\n",
    "        total_number_of_comics_for_character = reduction_1[0][\"comics\"][\"available\"]\n",
    "    else:\n",
    "        total_number_of_comics_for_character = get_data_of_1_marvel_character_base_on_ID_Comics(API_KEY, API_KEY_PRIVATE, base_url,\n",
    "                                              marvel_character_ID_and_name)\n",
    "\n",
    "\n",
    "    return total_number_of_comics_for_character\n",
    "\n",
    "def total_comics_avaliable_for_30_marvel_characters(list_with_characters_IDs_and_names):\n",
    "\n",
    "    characters_list_ID_name_comics = []\n",
    "\n",
    "    for ID, name in list_with_characters_IDs_and_names:\n",
    "        marvel_character_ID_and_name = (ID, name)\n",
    "\n",
    "        # function form above is called\n",
    "        num_events = get_data_of_1_marvel_character_base_on_ID_Comics(API_KEY, API_KEY_PRIVATE, base_url,\n",
    "                                              marvel_character_ID_and_name)\n",
    "\n",
    "        # Information is added to the list\n",
    "        characters_list_ID_name_comics.append((ID,name,num_events))\n",
    "\n",
    "    return characters_list_ID_name_comics\n",
    "\n",
    "list_ID_name_comics_of_characters = total_comics_avaliable_for_30_marvel_characters(list_with_30_marvel_characters_IDs_and_names)\n",
    "\n",
    "# we receive a list with the names of all the 30 characters, their IDs, and with their total number of comics available\n",
    "# For each character we have in this list a tuple contaning the characters ID, name, and the total number of comics available\n",
    "print(list_ID_name_comics_of_characters)\n",
    "\n",
    "# We create a list only contaning the total number of comics available for each of the 30 selected characters\n",
    "# In order to create this list we use list comprehension\n",
    "\n",
    "print(f\"\\n\\n\")\n",
    "list_comics = [id_name_comics[2] for id_name_comics in list_ID_name_comics_of_characters]\n",
    "print(list_comics)\n",
    "\n",
    "### This code block above needs some seconds to get executed because it accesses the Marvel API multuiple times to retrieve data ###"
   ]
  },
  {
   "cell_type": "code",
   "execution_count": 81,
   "id": "db650440",
   "metadata": {
    "id": "db650440",
    "outputId": "81a2b47b-36bf-473f-bdec-31f4f43f7956"
   },
   "outputs": [
    {
     "name": "stdout",
     "output_type": "stream",
     "text": [
      "the total number of series available for 3-D Man is 12\n",
      "the datatype of the total number of series available is <class 'int'> \n"
     ]
    }
   ],
   "source": [
    "# example regarding the results we get\n",
    "print(f\"\"\"the total number of series available for {list_ID_name_comics_of_characters[0][1]} is {list_ID_name_comics_of_characters[0][2]}\n",
    "the datatype of the total number of series available is {type(list_ID_name_comics_of_characters[0][2])} \"\"\")"
   ]
  },
  {
   "cell_type": "code",
   "execution_count": 82,
   "id": "a4075329",
   "metadata": {
    "id": "a4075329",
    "outputId": "fc1d6862-acb9-4e7c-d440-ef1ff2dbc6eb"
   },
   "outputs": [
    {
     "name": "stdout",
     "output_type": "stream",
     "text": [
      "[12, 4, 53, 14, 58, 2, 99, 8, 3, 0, 200, 0, 29, 23, 30, 18, 29, 45, 0, 4, 4, 0, 0, 0, 0, 1, 18, 9, 0, 1]\n"
     ]
    }
   ],
   "source": [
    "# We create a list only containing the total number of comics available for each of the 30 selected characters\n",
    "# In order to create this list we use list comprehension\n",
    "\n",
    "list_comics_1 = [id_name_comics[2] for id_name_comics in list_ID_name_comics_of_characters]\n",
    "print(list_comics_1)"
   ]
  },
  {
   "cell_type": "markdown",
   "id": "17bd241a",
   "metadata": {
    "id": "17bd241a"
   },
   "source": [
    "### 6. Step - Retrieve the Price of the most expensive comic that the character was featured in or all the characters in your list (in float form and USD)"
   ]
  },
  {
   "cell_type": "markdown",
   "id": "2f58630e",
   "metadata": {
    "id": "2f58630e"
   },
   "source": [
    "#### 6.1. Step\n",
    "\n",
    "- We write a function that gives back the most expensive comic back a certain character was featured in.\n",
    "\n",
    "    - The solution is based on the character IDs we use to access the relevant information.\n",
    "    - The function does take into account that the Marvel API only returns 100 comics per call.\n",
    "    - In order that we receive all comics (potentially more than 100 per character) and can correctly find the one with the highest price, we have to do potentially multiple calls per character.\n",
    "    - Therefore, an offset needs to be introduced as well as a limit\n",
    "    - Furthermore, we also improved the error handling compared to the function above. So far (above), error handling just meant, recursively calling the function making the get-request until it works and 200 is returned. This might end up in an infinite loop which of course, is not ideal. So, we adjusted that in this function, too.\n",
    "    - If for some charcters is no price information about comics available, None is added to the list."
   ]
  },
  {
   "cell_type": "code",
   "execution_count": 83,
   "id": "f86fa3d6",
   "metadata": {},
   "outputs": [
    {
     "name": "stdout",
     "output_type": "stream",
     "text": [
      "Character ID 1011334 - Most expensive comic: Avengers: The Initiative (2007) #19 at $2.99\n",
      "Character ID 1017100 - Most expensive comic: Hulk (2008) #55 at $2.99\n",
      "Character ID 1009144 - Most expensive comic: Captain America by Mark Waid, Ron Garney & Andy Kubert (Hardcover) at $125\n",
      "Character ID 1010699 - Most expensive comic: Dark Avengers (2012) #183 at $2.99\n",
      "Character ID 1009146 - Most expensive comic: MARVEL MASTERWORKS: THE INCREDIBLE HULK VOL. 11 HC (Trade Paperback) at $75\n",
      "Character ID 1016823 - Most expensive comic: Hulk (2008) #50 at $3.99\n",
      "Character ID 1009148 - Most expensive comic: Thor by Walter Simonson (Hardcover) at $99.99\n",
      "Character ID 1009149 - Most expensive comic: X-Men: The Complete Age of Apocalypse Epic Book 2 (Trade Paperback) at $9.99\n",
      "Character ID 1010903 - Most expensive comic: X-Men: The Complete Age of Apocalypse Epic Book 2 (Trade Paperback) at $9.99\n",
      "No comics found for character ID 1011266 or no prices available.\n",
      "Character ID 1010354 - Most expensive comic: Adam Warlock Omnibus (Trade Paperback) at $125\n",
      "No comics found for character ID 1010846 or no prices available.\n",
      "Character ID 1017851 - Most expensive comic: King In Black: Black Knight (2021) #1 at $4.99\n",
      "Character ID 1012717 - Most expensive comic: Avengers Annual [CHAOS] (2023) #1 at $4.99\n",
      "Character ID 1011297 - Most expensive comic: Heralds (Trade Paperback) at $15.99\n",
      "Character ID 1011031 - Most expensive comic: Cable & Deadpool Vol. 2: The Burnt Offering (Trade Paperback) at $9.99\n",
      "Character ID 1009150 - Most expensive comic: X-Men Unlimited (1993) #3 at $3.95\n",
      "Character ID 1011198 - Most expensive comic: Agents of Atlas: The Complete Collection Vol. 1 (Trade Paperback) at $39.99\n",
      "No comics found for character ID 1011175 or no prices available.\n",
      "Character ID 1011136 - Most expensive comic: Heroes Reborn: Iron Man (Trade Paperback) at $9.99\n",
      "Character ID 1011176 - Most expensive comic: Incredible Hercules (2008) #120 at $2.99\n",
      "No comics found for character ID 1010870 or no prices available.\n",
      "No comics found for character ID 1011194 or no prices available.\n",
      "No comics found for character ID 1011170 or no prices available.\n",
      "No comics found for character ID 1009240 or no prices available.\n",
      "Character ID 1011120 - Most expensive comic: New Excalibur (2005) #23 at $2.99\n",
      "Character ID 1010836 - Most expensive comic: X-Men and Power Pack: The Power of X (Trade Paperback) at $6.99\n",
      "Character ID 1010755 - Most expensive comic: Runaways (2017) #17 at $3.99\n",
      "No comics found for character ID 1011214 or no prices available.\n",
      "Character ID 1009497 - Most expensive comic: Secret Warriors (2009) #12 at $2.99\n",
      "\n",
      "\n",
      "[{'character_id': '1011334', 'comic_title': 'Avengers: The Initiative (2007) #19', 'price': 2.99}, {'character_id': '1017100', 'comic_title': 'Hulk (2008) #55', 'price': 2.99}, {'character_id': '1009144', 'comic_title': 'Captain America by Mark Waid, Ron Garney & Andy Kubert (Hardcover)', 'price': 125}, {'character_id': '1010699', 'comic_title': 'Dark Avengers (2012) #183', 'price': 2.99}, {'character_id': '1009146', 'comic_title': 'MARVEL MASTERWORKS: THE INCREDIBLE HULK VOL. 11 HC (Trade Paperback)', 'price': 75}, {'character_id': '1016823', 'comic_title': 'Hulk (2008) #50', 'price': 3.99}, {'character_id': '1009148', 'comic_title': 'Thor by Walter Simonson (Hardcover)', 'price': 99.99}, {'character_id': '1009149', 'comic_title': 'X-Men: The Complete Age of Apocalypse Epic Book 2 (Trade Paperback)', 'price': 9.99}, {'character_id': '1010903', 'comic_title': 'X-Men: The Complete Age of Apocalypse Epic Book 2 (Trade Paperback)', 'price': 9.99}, {'character_id': '1011266', 'comic_title': None, 'price': None}, {'character_id': '1010354', 'comic_title': 'Adam Warlock Omnibus (Trade Paperback)', 'price': 125}, {'character_id': '1010846', 'comic_title': None, 'price': None}, {'character_id': '1017851', 'comic_title': 'King In Black: Black Knight (2021) #1', 'price': 4.99}, {'character_id': '1012717', 'comic_title': 'Avengers Annual [CHAOS] (2023) #1', 'price': 4.99}, {'character_id': '1011297', 'comic_title': 'Heralds (Trade Paperback)', 'price': 15.99}, {'character_id': '1011031', 'comic_title': 'Cable & Deadpool Vol. 2: The Burnt Offering (Trade Paperback)', 'price': 9.99}, {'character_id': '1009150', 'comic_title': 'X-Men Unlimited (1993) #3', 'price': 3.95}, {'character_id': '1011198', 'comic_title': 'Agents of Atlas: The Complete Collection Vol. 1 (Trade Paperback)', 'price': 39.99}, {'character_id': '1011175', 'comic_title': None, 'price': None}, {'character_id': '1011136', 'comic_title': 'Heroes Reborn: Iron Man (Trade Paperback)', 'price': 9.99}, {'character_id': '1011176', 'comic_title': 'Incredible Hercules (2008) #120', 'price': 2.99}, {'character_id': '1010870', 'comic_title': None, 'price': None}, {'character_id': '1011194', 'comic_title': None, 'price': None}, {'character_id': '1011170', 'comic_title': None, 'price': None}, {'character_id': '1009240', 'comic_title': None, 'price': None}, {'character_id': '1011120', 'comic_title': 'New Excalibur (2005) #23', 'price': 2.99}, {'character_id': '1010836', 'comic_title': 'X-Men and Power Pack: The Power of X (Trade Paperback)', 'price': 6.99}, {'character_id': '1010755', 'comic_title': 'Runaways (2017) #17', 'price': 3.99}, {'character_id': '1011214', 'comic_title': None, 'price': None}, {'character_id': '1009497', 'comic_title': 'Secret Warriors (2009) #12', 'price': 2.99}]\n",
      "\n",
      "\n",
      "[2.99, 2.99, 125, 2.99, 75, 3.99, 99.99, 9.99, 9.99, None, 125, None, 4.99, 4.99, 15.99, 9.99, 3.95, 39.99, None, 9.99, 2.99, None, None, None, None, 2.99, 6.99, 3.99, None, 2.99]\n",
      "\n",
      "\n",
      " 30\n"
     ]
    }
   ],
   "source": [
    "### This code block needs some seconds to get executed because it accesses the Marvel API multuiple times to retrieve data ###\n",
    "\n",
    "def get_all_comics_for_character(api_key, api_key_private, base_url, character_id):\n",
    "    comics = []\n",
    "    limit = 100  # Maximum allowed by the API\n",
    "    offset = 0   # Starting point for current batch\n",
    "    total_comics = None  # We'll learn this from the first response\n",
    "\n",
    "    while total_comics is None or offset < total_comics:\n",
    "        ts_string = str(time.time())\n",
    "        hash_value = hashlib.md5((ts_string + api_key_private + api_key).encode()).hexdigest()\n",
    "\n",
    "        params = {\n",
    "            \"apikey\": api_key,\n",
    "            \"ts\": ts_string,\n",
    "            \"hash\": hash_value,\n",
    "            \"limit\": limit,\n",
    "            \"offset\": offset\n",
    "        }\n",
    "\n",
    "        response = requests.get(f\"{base_url}characters/{character_id}/comics\", params=params)\n",
    "        data = response.json()\n",
    "\n",
    "        if response.status_code == 200 and \"data\" in data:\n",
    "            if total_comics is None:\n",
    "                total_comics = data[\"data\"][\"total\"]  # Total number of comics available\n",
    "\n",
    "            comics.extend(data[\"data\"][\"results\"])\n",
    "            offset += limit  # Move the starting point for the next batch\n",
    "        else:\n",
    "            break\n",
    "\n",
    "    return comics\n",
    "\n",
    "def find_most_expensive_comic(comics):\n",
    "    most_expensive_comic = None\n",
    "    highest_price = 0\n",
    "\n",
    "    for comic in comics:\n",
    "        for price_info in comic.get(\"prices\", []):\n",
    "            if price_info[\"price\"] > highest_price:\n",
    "                highest_price = price_info[\"price\"]\n",
    "                most_expensive_comic = comic\n",
    "\n",
    "    return most_expensive_comic\n",
    "\n",
    "def preparing_retrieved_data_for_output(character_ids, api_key, api_key_private, base_url):\n",
    "    most_expensive_comics = []\n",
    "\n",
    "    for character_id in character_ids:\n",
    "        comics = get_all_comics_for_character(api_key, api_key_private, base_url, character_id)\n",
    "        most_expensive_comic = find_most_expensive_comic(comics)\n",
    "\n",
    "        if most_expensive_comic:\n",
    "            highest_price = max([price['price'] for price in most_expensive_comic['prices']], default=0)\n",
    "            comic_info = {\n",
    "                \"character_id\": character_id,\n",
    "                \"comic_title\": most_expensive_comic['title'],\n",
    "                \"price\": highest_price\n",
    "            }\n",
    "            most_expensive_comics.append(comic_info)\n",
    "            print(f\"Character ID {character_id} - Most expensive comic: {comic_info['comic_title']} at ${comic_info['price']}\")\n",
    "        else:\n",
    "            print(f\"No comics found for character ID {character_id} or no prices available.\")\n",
    "            most_expensive_comics.append({\"character_id\": character_id, \"comic_title\": None, \"price\": None})\n",
    "\n",
    "    return most_expensive_comics\n",
    "            \n",
    "\n",
    "most_expensive_comics_list = preparing_retrieved_data_for_output(list_30_IDs_str_format, API_KEY, API_KEY_PRIVATE, base_url)\n",
    "print(f\"\\n\\n{most_expensive_comics_list}\")\n",
    "# Extracting only the prices of the most expensive comics\n",
    "most_expensive_prices_per_character_for_comic = [comic['price'] for comic in most_expensive_comics_list]\n",
    "      \n",
    "print(f\"\\n\\n{most_expensive_prices_per_character_for_comic}\")\n",
    "print(f\"\\n\\n {len(most_expensive_prices_per_character_for_comic)}\")\n",
    "\n",
    "### This code block needs some seconds to get executed because it accesses the Marvel API multuiple times to retrieve data ###"
   ]
  },
  {
   "cell_type": "markdown",
   "id": "6ce5df23",
   "metadata": {
    "id": "6ce5df23"
   },
   "source": [
    "### 6.2. Step\n",
    "\n",
    "- We write functions that give back the most expensive comic over all 30 Marvel characters, we have retrieved from the Marvel API.\n",
    "- This is again based on the characters IDs.\n",
    "- The approach is very similar to Step 6.1.\n",
    "- This time we just do not give back the price of the most expensive Comic per character (multiple results in a list) but the price of the most expensive comic over all 30 characters we have retrieved from the Marvel API in the beginning.\n",
    "- We do not need this result later on.\n",
    "- Currently, the functions do not get called in order to reduce the run time of the whole notebook.\n",
    "- If you would like to try out the functions below, please remove the respective \"#\" (Hashtags) at the end of the cell below in order to enable calling the functions."
   ]
  },
  {
   "cell_type": "code",
   "execution_count": 84,
   "id": "5cf5e782",
   "metadata": {},
   "outputs": [],
   "source": [
    "### This code block above needs some seconds to get executed because it accesses the Marvel API multuiple times to retrieve data ##\n",
    "def get_info_about_comics_for_one_character(api_key, api_key_private, base_url, character_id):\n",
    "    \n",
    "    ts_string = str(time.time())\n",
    "    hash_value = hashlib.md5((ts_string + api_key_private + api_key).encode()).hexdigest()\n",
    "\n",
    "    params = {\n",
    "        \"apikey\": api_key,\n",
    "        \"ts\": ts_string,\n",
    "        \"hash\": hash_value\n",
    "    }\n",
    "\n",
    "    response = requests.get(f\"{base_url}characters/{character_id}/comics\", params=params)\n",
    "    data = response.json()\n",
    "\n",
    "    if response.status_code == 200:\n",
    "        return data\n",
    "    else:\n",
    "        return None\n",
    "\n",
    "def most_expensive_comic_over_all_characters(api_key, api_key_private, base_url, character_ids):\n",
    "    character_and_most_expensive_comic = []\n",
    "\n",
    "    for character_id in character_ids:\n",
    "        character_comics = get_info_about_comics_for_one_character(api_key, api_key_private, base_url, character_id)\n",
    "\n",
    "        if character_comics is not None:\n",
    "            comic_prices = [comic[\"prices\"][0][\"price\"] for comic in character_comics[\"data\"][\"results\"]]\n",
    "            if comic_prices:\n",
    "                highest_price = max(comic_prices)\n",
    "                character_and_most_expensive_comic.append((character_id, highest_price))\n",
    "\n",
    "    # Find the character with the most expensive comic\n",
    "    if character_and_most_expensive_comic:\n",
    "        most_expensive_overall = max(character_and_most_expensive_comic, key=lambda x: x[1])\n",
    "        return most_expensive_overall\n",
    "    else:\n",
    "        return None\n",
    "\n",
    "def preparing_retrieved_data_for_most_expensive_comic_overall(list_30_IDs_str_format, api_key, api_key_private, base_url):\n",
    "\n",
    "    character_ids = list_30_IDs_str_format\n",
    "\n",
    "    most_expensive_comic = most_expensive_comic_over_all_characters(api_key, api_key_private, base_url, character_ids)\n",
    "\n",
    "    return most_expensive_comic\n",
    "\n",
    "#most_expensive_comic_over_all_characters = preparing_retrieved_data_for_most_expensive_comic_overall(list_30_IDs_str_format, API_KEY, API_KEY_PRIVATE, base_url)\n",
    "\n",
    "#if most_expensive_comic_over_all_characters:\n",
    "#    print(f\"Character ID with the most expensive comic: {most_expensive_comic_over_all_characters[0]}, Price: ${most_expensive_comic_over_all_characters[1]}\")\n",
    "#else:\n",
    "#    print(\"No comics found or an error occurred while retrieving the data.\")\n",
    "    \n",
    "### This code block above needs some seconds to get executed because it accesses the Marvel API multuiple times to retrieve data ##"
   ]
  },
  {
   "cell_type": "markdown",
   "id": "deacd9ae",
   "metadata": {
    "id": "deacd9ae"
   },
   "source": [
    "### 7. Step - Store the data above in a pandas DataFrame called df\n",
    "\n",
    "- We created a dataframe based on the instructions\n",
    "- We used a common way, how pandas dataframes are created.\n",
    "    - First we put all the needed data in a dictionary and then we transformed this dictionary into a pandas dataframe."
   ]
  },
  {
   "cell_type": "code",
   "execution_count": 85,
   "id": "b17d49de",
   "metadata": {
    "id": "b17d49de",
    "outputId": "954b3301-e65f-4e47-8958-8ff72dd47278"
   },
   "outputs": [
    {
     "data": {
      "text/html": [
       "<div>\n",
       "<style scoped>\n",
       "    .dataframe tbody tr th:only-of-type {\n",
       "        vertical-align: middle;\n",
       "    }\n",
       "\n",
       "    .dataframe tbody tr th {\n",
       "        vertical-align: top;\n",
       "    }\n",
       "\n",
       "    .dataframe thead th {\n",
       "        text-align: right;\n",
       "    }\n",
       "</style>\n",
       "<table border=\"1\" class=\"dataframe\">\n",
       "  <thead>\n",
       "    <tr style=\"text-align: right;\">\n",
       "      <th></th>\n",
       "      <th>Character Name</th>\n",
       "      <th>Character ID</th>\n",
       "      <th>Total Available Events</th>\n",
       "      <th>Total Available Series</th>\n",
       "      <th>Total Available Comics</th>\n",
       "      <th>Price of the Most Expensive Comic</th>\n",
       "    </tr>\n",
       "  </thead>\n",
       "  <tbody>\n",
       "    <tr>\n",
       "      <th>0</th>\n",
       "      <td>3-D Man</td>\n",
       "      <td>1011334</td>\n",
       "      <td>1</td>\n",
       "      <td>3</td>\n",
       "      <td>12</td>\n",
       "      <td>2.99</td>\n",
       "    </tr>\n",
       "    <tr>\n",
       "      <th>1</th>\n",
       "      <td>A-Bomb (HAS)</td>\n",
       "      <td>1017100</td>\n",
       "      <td>0</td>\n",
       "      <td>2</td>\n",
       "      <td>4</td>\n",
       "      <td>2.99</td>\n",
       "    </tr>\n",
       "    <tr>\n",
       "      <th>2</th>\n",
       "      <td>A.I.M.</td>\n",
       "      <td>1009144</td>\n",
       "      <td>0</td>\n",
       "      <td>36</td>\n",
       "      <td>53</td>\n",
       "      <td>125.00</td>\n",
       "    </tr>\n",
       "    <tr>\n",
       "      <th>3</th>\n",
       "      <td>Aaron Stack</td>\n",
       "      <td>1010699</td>\n",
       "      <td>0</td>\n",
       "      <td>3</td>\n",
       "      <td>14</td>\n",
       "      <td>2.99</td>\n",
       "    </tr>\n",
       "    <tr>\n",
       "      <th>4</th>\n",
       "      <td>Abomination (Emil Blonsky)</td>\n",
       "      <td>1009146</td>\n",
       "      <td>1</td>\n",
       "      <td>28</td>\n",
       "      <td>58</td>\n",
       "      <td>75.00</td>\n",
       "    </tr>\n",
       "    <tr>\n",
       "      <th>5</th>\n",
       "      <td>Abomination (Ultimate)</td>\n",
       "      <td>1016823</td>\n",
       "      <td>0</td>\n",
       "      <td>2</td>\n",
       "      <td>2</td>\n",
       "      <td>3.99</td>\n",
       "    </tr>\n",
       "    <tr>\n",
       "      <th>6</th>\n",
       "      <td>Absorbing Man</td>\n",
       "      <td>1009148</td>\n",
       "      <td>5</td>\n",
       "      <td>50</td>\n",
       "      <td>99</td>\n",
       "      <td>99.99</td>\n",
       "    </tr>\n",
       "    <tr>\n",
       "      <th>7</th>\n",
       "      <td>Abyss</td>\n",
       "      <td>1009149</td>\n",
       "      <td>1</td>\n",
       "      <td>3</td>\n",
       "      <td>8</td>\n",
       "      <td>9.99</td>\n",
       "    </tr>\n",
       "    <tr>\n",
       "      <th>8</th>\n",
       "      <td>Abyss (Age of Apocalypse)</td>\n",
       "      <td>1010903</td>\n",
       "      <td>1</td>\n",
       "      <td>3</td>\n",
       "      <td>3</td>\n",
       "      <td>9.99</td>\n",
       "    </tr>\n",
       "    <tr>\n",
       "      <th>9</th>\n",
       "      <td>Adam Destine</td>\n",
       "      <td>1011266</td>\n",
       "      <td>0</td>\n",
       "      <td>0</td>\n",
       "      <td>0</td>\n",
       "      <td>NaN</td>\n",
       "    </tr>\n",
       "    <tr>\n",
       "      <th>10</th>\n",
       "      <td>Adam Warlock</td>\n",
       "      <td>1010354</td>\n",
       "      <td>8</td>\n",
       "      <td>88</td>\n",
       "      <td>200</td>\n",
       "      <td>125.00</td>\n",
       "    </tr>\n",
       "    <tr>\n",
       "      <th>11</th>\n",
       "      <td>Aegis (Trey Rollins)</td>\n",
       "      <td>1010846</td>\n",
       "      <td>0</td>\n",
       "      <td>0</td>\n",
       "      <td>0</td>\n",
       "      <td>NaN</td>\n",
       "    </tr>\n",
       "    <tr>\n",
       "      <th>12</th>\n",
       "      <td>Aero (Aero)</td>\n",
       "      <td>1017851</td>\n",
       "      <td>0</td>\n",
       "      <td>5</td>\n",
       "      <td>29</td>\n",
       "      <td>4.99</td>\n",
       "    </tr>\n",
       "    <tr>\n",
       "      <th>13</th>\n",
       "      <td>Agatha Harkness</td>\n",
       "      <td>1012717</td>\n",
       "      <td>0</td>\n",
       "      <td>12</td>\n",
       "      <td>23</td>\n",
       "      <td>4.99</td>\n",
       "    </tr>\n",
       "    <tr>\n",
       "      <th>14</th>\n",
       "      <td>Agent Brand</td>\n",
       "      <td>1011297</td>\n",
       "      <td>0</td>\n",
       "      <td>7</td>\n",
       "      <td>30</td>\n",
       "      <td>15.99</td>\n",
       "    </tr>\n",
       "    <tr>\n",
       "      <th>15</th>\n",
       "      <td>Agent X (Nijo)</td>\n",
       "      <td>1011031</td>\n",
       "      <td>0</td>\n",
       "      <td>3</td>\n",
       "      <td>18</td>\n",
       "      <td>9.99</td>\n",
       "    </tr>\n",
       "    <tr>\n",
       "      <th>16</th>\n",
       "      <td>Agent Zero</td>\n",
       "      <td>1009150</td>\n",
       "      <td>0</td>\n",
       "      <td>10</td>\n",
       "      <td>29</td>\n",
       "      <td>3.95</td>\n",
       "    </tr>\n",
       "    <tr>\n",
       "      <th>17</th>\n",
       "      <td>Agents of Atlas</td>\n",
       "      <td>1011198</td>\n",
       "      <td>1</td>\n",
       "      <td>13</td>\n",
       "      <td>45</td>\n",
       "      <td>39.99</td>\n",
       "    </tr>\n",
       "    <tr>\n",
       "      <th>18</th>\n",
       "      <td>Aginar</td>\n",
       "      <td>1011175</td>\n",
       "      <td>0</td>\n",
       "      <td>0</td>\n",
       "      <td>0</td>\n",
       "      <td>NaN</td>\n",
       "    </tr>\n",
       "    <tr>\n",
       "      <th>19</th>\n",
       "      <td>Air-Walker (Gabriel Lan)</td>\n",
       "      <td>1011136</td>\n",
       "      <td>1</td>\n",
       "      <td>3</td>\n",
       "      <td>4</td>\n",
       "      <td>9.99</td>\n",
       "    </tr>\n",
       "    <tr>\n",
       "      <th>20</th>\n",
       "      <td>Ajak</td>\n",
       "      <td>1011176</td>\n",
       "      <td>1</td>\n",
       "      <td>1</td>\n",
       "      <td>4</td>\n",
       "      <td>2.99</td>\n",
       "    </tr>\n",
       "    <tr>\n",
       "      <th>21</th>\n",
       "      <td>Ajaxis</td>\n",
       "      <td>1010870</td>\n",
       "      <td>0</td>\n",
       "      <td>0</td>\n",
       "      <td>0</td>\n",
       "      <td>NaN</td>\n",
       "    </tr>\n",
       "    <tr>\n",
       "      <th>22</th>\n",
       "      <td>Akemi</td>\n",
       "      <td>1011194</td>\n",
       "      <td>0</td>\n",
       "      <td>0</td>\n",
       "      <td>0</td>\n",
       "      <td>NaN</td>\n",
       "    </tr>\n",
       "    <tr>\n",
       "      <th>23</th>\n",
       "      <td>Alain</td>\n",
       "      <td>1011170</td>\n",
       "      <td>0</td>\n",
       "      <td>0</td>\n",
       "      <td>0</td>\n",
       "      <td>NaN</td>\n",
       "    </tr>\n",
       "    <tr>\n",
       "      <th>24</th>\n",
       "      <td>Albert Cleary</td>\n",
       "      <td>1009240</td>\n",
       "      <td>0</td>\n",
       "      <td>0</td>\n",
       "      <td>0</td>\n",
       "      <td>NaN</td>\n",
       "    </tr>\n",
       "    <tr>\n",
       "      <th>25</th>\n",
       "      <td>Albion</td>\n",
       "      <td>1011120</td>\n",
       "      <td>0</td>\n",
       "      <td>1</td>\n",
       "      <td>1</td>\n",
       "      <td>2.99</td>\n",
       "    </tr>\n",
       "    <tr>\n",
       "      <th>26</th>\n",
       "      <td>Alex Power</td>\n",
       "      <td>1010836</td>\n",
       "      <td>0</td>\n",
       "      <td>6</td>\n",
       "      <td>18</td>\n",
       "      <td>6.99</td>\n",
       "    </tr>\n",
       "    <tr>\n",
       "      <th>27</th>\n",
       "      <td>Alex Wilder</td>\n",
       "      <td>1010755</td>\n",
       "      <td>0</td>\n",
       "      <td>4</td>\n",
       "      <td>9</td>\n",
       "      <td>3.99</td>\n",
       "    </tr>\n",
       "    <tr>\n",
       "      <th>28</th>\n",
       "      <td>Alexa Mendez</td>\n",
       "      <td>1011214</td>\n",
       "      <td>0</td>\n",
       "      <td>0</td>\n",
       "      <td>0</td>\n",
       "      <td>NaN</td>\n",
       "    </tr>\n",
       "    <tr>\n",
       "      <th>29</th>\n",
       "      <td>Alexander Pierce</td>\n",
       "      <td>1009497</td>\n",
       "      <td>0</td>\n",
       "      <td>1</td>\n",
       "      <td>1</td>\n",
       "      <td>2.99</td>\n",
       "    </tr>\n",
       "  </tbody>\n",
       "</table>\n",
       "</div>"
      ],
      "text/plain": [
       "                Character Name Character ID  Total Available Events  \\\n",
       "0                      3-D Man      1011334                       1   \n",
       "1                 A-Bomb (HAS)      1017100                       0   \n",
       "2                       A.I.M.      1009144                       0   \n",
       "3                  Aaron Stack      1010699                       0   \n",
       "4   Abomination (Emil Blonsky)      1009146                       1   \n",
       "5       Abomination (Ultimate)      1016823                       0   \n",
       "6                Absorbing Man      1009148                       5   \n",
       "7                        Abyss      1009149                       1   \n",
       "8    Abyss (Age of Apocalypse)      1010903                       1   \n",
       "9                 Adam Destine      1011266                       0   \n",
       "10                Adam Warlock      1010354                       8   \n",
       "11        Aegis (Trey Rollins)      1010846                       0   \n",
       "12                 Aero (Aero)      1017851                       0   \n",
       "13             Agatha Harkness      1012717                       0   \n",
       "14                 Agent Brand      1011297                       0   \n",
       "15              Agent X (Nijo)      1011031                       0   \n",
       "16                  Agent Zero      1009150                       0   \n",
       "17             Agents of Atlas      1011198                       1   \n",
       "18                      Aginar      1011175                       0   \n",
       "19    Air-Walker (Gabriel Lan)      1011136                       1   \n",
       "20                        Ajak      1011176                       1   \n",
       "21                      Ajaxis      1010870                       0   \n",
       "22                       Akemi      1011194                       0   \n",
       "23                       Alain      1011170                       0   \n",
       "24               Albert Cleary      1009240                       0   \n",
       "25                      Albion      1011120                       0   \n",
       "26                  Alex Power      1010836                       0   \n",
       "27                 Alex Wilder      1010755                       0   \n",
       "28                Alexa Mendez      1011214                       0   \n",
       "29            Alexander Pierce      1009497                       0   \n",
       "\n",
       "    Total Available Series  Total Available Comics  \\\n",
       "0                        3                      12   \n",
       "1                        2                       4   \n",
       "2                       36                      53   \n",
       "3                        3                      14   \n",
       "4                       28                      58   \n",
       "5                        2                       2   \n",
       "6                       50                      99   \n",
       "7                        3                       8   \n",
       "8                        3                       3   \n",
       "9                        0                       0   \n",
       "10                      88                     200   \n",
       "11                       0                       0   \n",
       "12                       5                      29   \n",
       "13                      12                      23   \n",
       "14                       7                      30   \n",
       "15                       3                      18   \n",
       "16                      10                      29   \n",
       "17                      13                      45   \n",
       "18                       0                       0   \n",
       "19                       3                       4   \n",
       "20                       1                       4   \n",
       "21                       0                       0   \n",
       "22                       0                       0   \n",
       "23                       0                       0   \n",
       "24                       0                       0   \n",
       "25                       1                       1   \n",
       "26                       6                      18   \n",
       "27                       4                       9   \n",
       "28                       0                       0   \n",
       "29                       1                       1   \n",
       "\n",
       "    Price of the Most Expensive Comic  \n",
       "0                                2.99  \n",
       "1                                2.99  \n",
       "2                              125.00  \n",
       "3                                2.99  \n",
       "4                               75.00  \n",
       "5                                3.99  \n",
       "6                               99.99  \n",
       "7                                9.99  \n",
       "8                                9.99  \n",
       "9                                 NaN  \n",
       "10                             125.00  \n",
       "11                                NaN  \n",
       "12                               4.99  \n",
       "13                               4.99  \n",
       "14                              15.99  \n",
       "15                               9.99  \n",
       "16                               3.95  \n",
       "17                              39.99  \n",
       "18                                NaN  \n",
       "19                               9.99  \n",
       "20                               2.99  \n",
       "21                                NaN  \n",
       "22                                NaN  \n",
       "23                                NaN  \n",
       "24                                NaN  \n",
       "25                               2.99  \n",
       "26                               6.99  \n",
       "27                               3.99  \n",
       "28                                NaN  \n",
       "29                               2.99  "
      ]
     },
     "execution_count": 85,
     "metadata": {},
     "output_type": "execute_result"
    }
   ],
   "source": [
    "import pandas as pd\n",
    "\n",
    "# dictionary with the data is created\n",
    "data = {\n",
    "\n",
    "    \"Character Name\" : list_names,\n",
    "    \"Character ID\" : list_30_IDs_str_format,\n",
    "    \"Total Available Events\" : list_events,\n",
    "    \"Total Available Series\" : list_series,\n",
    "    \"Total Available Comics\" : list_comics,\n",
    "    \"Price of the Most Expensive Comic\" : most_expensive_prices_per_character_for_comic\n",
    "}\n",
    "\n",
    "# based on the dictionary created above we create a dataframe, respectievly the dictionary is transformed into a dataframe\n",
    "df = pd.DataFrame(data)\n",
    "\n",
    "# Missing values shall be replaced by None. This is done below.\n",
    "df = df.replace(\"\", None)\n",
    "\n",
    "df\n",
    "\n"
   ]
  },
  {
   "cell_type": "markdown",
   "id": "455a244d",
   "metadata": {
    "id": "455a244d"
   },
   "source": [
    "### 8. Step - Save df to a file called data.csv\n",
    "\n",
    "- The created dataframe called df is saved in a file with the name data.csv.\n",
    "- In order to save the dataframe we use the pandas method .to_csv().\n",
    "- **We use \"index = False\" because we only want to have the columns we are asked for and no index.**"
   ]
  },
  {
   "cell_type": "code",
   "execution_count": 86,
   "id": "d0eab5b8",
   "metadata": {
    "id": "d0eab5b8"
   },
   "outputs": [],
   "source": [
    "df.to_csv(\"data.csv\", index = False)"
   ]
  },
  {
   "cell_type": "markdown",
   "id": "66c554d3",
   "metadata": {
    "id": "66c554d3"
   },
   "source": [
    "# Part 1. - 2. Approach\n",
    "\n",
    "- As already mentioned above for the 2. Approach we created a class with different methods.\n",
    "- Each method takes care of one step that is required as part of Part 1.\n",
    "- In this class the 30 marvel characters are chosen randomly, while above the code is implemented in a way that always the same characters and their respective IDs are chosen. This is probably the biggest difference comparing the functions above with the methods in the class.\n",
    "- In order to keep the run time of the Notebook at a managable level, no methods are actually called.\n",
    "- At the moment the method calls are commented out with \"#\". But if you remove the \"#\" in fron of the method calls, you can try the class out."
   ]
  },
  {
   "cell_type": "code",
   "execution_count": 87,
   "id": "694053a9",
   "metadata": {
    "id": "694053a9"
   },
   "outputs": [],
   "source": [
    "import requests\n",
    "import hashlib\n",
    "import time\n",
    "import random\n",
    "import pandas as pd\n",
    "\n",
    "class MarvelCharacterInfo:\n",
    "    def __init__(self, public_key, private_key):\n",
    "        self.public_key = public_key\n",
    "        self.private_key = private_key\n",
    "        self.timestamp = str(int(time.time()))\n",
    "        self.hash_str = hashlib.md5((self.timestamp + self.private_key + self.public_key).encode('utf-8')).hexdigest()\n",
    "        self.url = 'https://gateway.marvel.com/v1/public/characters'\n",
    "        self.params = {\n",
    "            'ts': self.timestamp,\n",
    "            'apikey': self.public_key,\n",
    "            'hash': self.hash_str,\n",
    "        }\n",
    "\n",
    "    def get_random_characters(self, limit=30):\n",
    "        offset = random.randint(0, 1490)  # Adjust the range based on the total number of characters\n",
    "        self.params['limit'] = limit\n",
    "        self.params['offset'] = offset\n",
    "\n",
    "        response = requests.get(self.url, params=self.params)\n",
    "\n",
    "        if response.status_code == 200:\n",
    "            data = response.json()\n",
    "            characters = data['data']['results']\n",
    "            return [character['name'] for character in characters]\n",
    "        else:\n",
    "            return []\n",
    "\n",
    "    def get_character_ids(self, limit=30):\n",
    "        self.params['limit'] = limit\n",
    "\n",
    "        response = requests.get(self.url, params=self.params)\n",
    "\n",
    "        if response.status_code == 200:\n",
    "            data = response.json()\n",
    "            characters = data['data']['results']\n",
    "            return [str(character['id']) for character in characters]\n",
    "        else:\n",
    "            return []\n",
    "\n",
    "    def get_total_events_count(self, character_ids_list):\n",
    "        total_event_counts = {}\n",
    "\n",
    "        for character_id in character_ids_list:\n",
    "            params = self.params.copy()\n",
    "            response = requests.get(f'{self.url}/{character_id}/events', params=params)\n",
    "\n",
    "            if response.status_code == 200:\n",
    "                events_data = response.json()\n",
    "                event_count = events_data['data']['total']\n",
    "                total_event_counts[character_id] = event_count\n",
    "            else:\n",
    "                print(f\"Failed to retrieve events for character with ID: {character_id}\")\n",
    "                total_event_counts[character_id] = None\n",
    "\n",
    "        return total_event_counts\n",
    "\n",
    "    def get_total_series_count(self, character_ids_list):\n",
    "        total_series_counts = {}\n",
    "\n",
    "        for character_id in character_ids_list:\n",
    "            params = self.params.copy()\n",
    "            response = requests.get(f'{self.url}/{character_id}/series', params=params)\n",
    "\n",
    "            if response.status_code == 200:\n",
    "                series_data = response.json()\n",
    "                series_count = series_data['data']['count']\n",
    "                total_series_counts[character_id] = series_count\n",
    "            else:\n",
    "                print(f'Failed to retrieve series for character with ID: {character_id}')\n",
    "                total_series_counts[character_id] = None\n",
    "\n",
    "        return total_series_counts\n",
    "\n",
    "    def get_total_comics_count(self, character_ids_list):\n",
    "        total_comics_counts = {}\n",
    "\n",
    "        for character_id in character_ids_list:\n",
    "            params = self.params.copy()\n",
    "            response = requests.get(f'{self.url}/{character_id}/comics', params=params)\n",
    "\n",
    "            if response.status_code == 200:\n",
    "                comics_data = response.json()\n",
    "                comics_count = comics_data['data']['total']\n",
    "                total_comics_counts[character_id] = comics_count\n",
    "            else:\n",
    "                print(f'Failed to retrieve comics for character with ID: {character_id}')\n",
    "                total_comics_counts[character_id] = None\n",
    "\n",
    "        return total_comics_counts\n",
    "\n",
    "\n",
    "    def get_most_expensive_comic_price(self, character_ids_list):\n",
    "        most_expensive_price = 0.0  # Initialize with a low price\n",
    "\n",
    "        for character_id in character_ids_list:\n",
    "            params = self.params.copy()\n",
    "            response = requests.get(f'{self.url}/{character_id}/comics', params=params)\n",
    "\n",
    "            if response.status_code == 200:\n",
    "                comics_data = response.json()\n",
    "                comics = comics_data['data']['results']\n",
    "\n",
    "                for comic in comics:\n",
    "                    prices = comic.get('prices', [])\n",
    "                    for price in prices:\n",
    "                        if price['type'] == 'printPrice' and float(price['price']) > most_expensive_price:\n",
    "                            most_expensive_price = float(price['price'])\n",
    "\n",
    "            else:\n",
    "                print(f'Failed to retrieve comics for character with ID: {character_id}')\n",
    "\n",
    "        return most_expensive_price\n",
    "\n",
    "\n",
    "    def create_character_data_dataframe(self, character_ids_list):\n",
    "        # Initialize lists to store data\n",
    "        character_names = []\n",
    "        character_ids = []\n",
    "        event_counts = []\n",
    "        series_counts = []\n",
    "        comics_counts = []\n",
    "        most_expensive_comic_prices = []\n",
    "\n",
    "        for character_id in character_ids_list:\n",
    "            params = self.params.copy()\n",
    "            response = requests.get(f'{self.url}/{character_id}', params=params)\n",
    "\n",
    "            if response.status_code == 200:\n",
    "                data = response.json()\n",
    "                character = data['data']['results'][0]  # Assuming there is only one character with the given ID\n",
    "\n",
    "                # Retrieve character information\n",
    "                character_names.append(character['name'])\n",
    "                character_ids.append(str(character['id']))\n",
    "\n",
    "                # Retrieve event count\n",
    "                events_response = requests.get(f'{self.url}/{character_id}/events', params=params)\n",
    "                if events_response.status_code == 200:\n",
    "                    events_data = events_response.json()\n",
    "                    event_counts.append(events_data['data']['total'])\n",
    "                else:\n",
    "                    event_counts.append(None)\n",
    "\n",
    "                # Retrieve series count\n",
    "                series_response = requests.get(f'{self.url}/{character_id}/series', params=params)\n",
    "                if series_response.status_code == 200:\n",
    "                    series_data = series_response.json()\n",
    "                    series_counts.append(series_data['data']['count'])\n",
    "                else:\n",
    "                    series_counts.append(None)\n",
    "\n",
    "                # Retrieve comics count\n",
    "                comics_response = requests.get(f'{self.url}/{character_id}/comics', params=params)\n",
    "                if comics_response.status_code == 200:\n",
    "                    comics_data = comics_response.json()\n",
    "                    comics_counts.append(comics_data['data']['total'])\n",
    "                else:\n",
    "                    comics_counts.append(None)\n",
    "\n",
    "                # Retrieve the price of the most expensive comic\n",
    "                most_expensive_comic_price = self.get_most_expensive_comic_price([character_id])\n",
    "                most_expensive_comic_prices.append(most_expensive_comic_price)\n",
    "\n",
    "            else:\n",
    "                print(f'Failed to retrieve data for character with ID: {character_id}')\n",
    "\n",
    "        # Create a pandas DataFrame\n",
    "        data = {\n",
    "            'Character Name': character_names,\n",
    "            'Character ID': character_ids,\n",
    "            'Total Available Events': event_counts,\n",
    "            'Total Available Series': series_counts,\n",
    "            'Total Available Comics': comics_counts,\n",
    "            'Price of the Most Expensive Comic': most_expensive_comic_prices\n",
    "        }\n",
    "\n",
    "        df = pd.DataFrame(data)\n",
    "\n",
    "        return df\n",
    "\n",
    "    def save_to_csv(self, df, filename='data.csv'):\n",
    "        df.to_csv(filename, index=False)"
   ]
  },
  {
   "cell_type": "markdown",
   "id": "3e31d0fc",
   "metadata": {
    "id": "3e31d0fc"
   },
   "source": [
    "### Basic information that need to be provided for the methods"
   ]
  },
  {
   "cell_type": "code",
   "execution_count": 88,
   "id": "3220d46f",
   "metadata": {
    "id": "3220d46f"
   },
   "outputs": [],
   "source": [
    "public_key = '0dac0e59d82b901a48f09e33bff392c0'\n",
    "private_key = 'd3ba0a9a7c1c06c3ceeb97e02bf1b786c2be6bce'\n",
    "marvel_info = MarvelCharacterInfo(public_key, private_key)"
   ]
  },
  {
   "cell_type": "markdown",
   "id": "9edb9ace",
   "metadata": {
    "id": "9edb9ace"
   },
   "source": [
    "### 1. Provide a list of 30 Marvel characters"
   ]
  },
  {
   "cell_type": "code",
   "execution_count": 89,
   "id": "96420825",
   "metadata": {
    "id": "96420825",
    "outputId": "5a0c8b7e-3a8c-48e3-bfa4-35b07e092979"
   },
   "outputs": [],
   "source": [
    "#random_character_names = marvel_info.get_random_characters(limit=30)\n",
    "#print(\"Random Character Names:\")\n",
    "#print(random_character_names)"
   ]
  },
  {
   "cell_type": "markdown",
   "id": "0ed2e0e9",
   "metadata": {
    "id": "0ed2e0e9"
   },
   "source": [
    "### 2. Retrieve the Ids for all the characters in your list (in str form)"
   ]
  },
  {
   "cell_type": "code",
   "execution_count": 90,
   "id": "78aeb584",
   "metadata": {
    "id": "78aeb584",
    "outputId": "0b0ae5a0-6bd6-4447-a979-4ec79aa4b73b"
   },
   "outputs": [],
   "source": [
    "#character_ids = marvel_info.get_character_ids(limit=30)\n",
    "#print(\"Character IDs:\")\n",
    "#print(character_ids)\n"
   ]
  },
  {
   "cell_type": "markdown",
   "id": "d3af55ba",
   "metadata": {
    "id": "d3af55ba"
   },
   "source": [
    "### 3. Retrieve the total number of Events available for all the characters in your list (in integer form)"
   ]
  },
  {
   "cell_type": "code",
   "execution_count": 91,
   "id": "56193ed9",
   "metadata": {
    "id": "56193ed9",
    "outputId": "80aac80b-8456-4371-e5d1-f4bbe5c02df0"
   },
   "outputs": [],
   "source": [
    "#total_events = marvel_info.get_total_events_count(character_ids)\n",
    "#print(f'Total number of events for selected characters: {total_events}')"
   ]
  },
  {
   "cell_type": "markdown",
   "id": "520b2a18",
   "metadata": {
    "id": "520b2a18"
   },
   "source": [
    "### 4. Retrieve the total number of Series available for all the characters in your list  (in integer form)"
   ]
  },
  {
   "cell_type": "code",
   "execution_count": 92,
   "id": "b30e21e7",
   "metadata": {
    "id": "b30e21e7",
    "outputId": "58445523-71d5-42e0-f74b-b0fde4248753"
   },
   "outputs": [],
   "source": [
    "#total_series = marvel_info.get_total_series_count(character_ids)\n",
    "#print(f'Total number of series for selected characters: {total_series}')"
   ]
  },
  {
   "cell_type": "markdown",
   "id": "dd9d8f5c",
   "metadata": {
    "id": "dd9d8f5c"
   },
   "source": [
    "### 5. Retrieve the total number of Comics available for all the characters in your list (in integer form)"
   ]
  },
  {
   "cell_type": "code",
   "execution_count": 93,
   "id": "85580704",
   "metadata": {
    "id": "85580704",
    "outputId": "4d29eefb-3125-47bd-88cd-0d1ff690d1bb"
   },
   "outputs": [],
   "source": [
    "#total_comics = marvel_info.get_total_comics_count(character_ids)\n",
    "#print(f'Total number of comics for selected characters: {total_comics}')"
   ]
  },
  {
   "cell_type": "markdown",
   "id": "06a1b69a",
   "metadata": {
    "id": "06a1b69a"
   },
   "source": [
    "### 6. Retrieve the Price of the most expensive comic that the character was featured in or all the characters in your list (in float form and USD)"
   ]
  },
  {
   "cell_type": "code",
   "execution_count": 94,
   "id": "21fd4da8",
   "metadata": {
    "id": "21fd4da8",
    "outputId": "94425104-6445-4f64-a419-8d49d15abddb"
   },
   "outputs": [],
   "source": [
    "#most_expensive_price = marvel_info.get_most_expensive_comic_price(character_ids)\n",
    "#print(f'Most expensive comic price for selected characters: ${most_expensive_price:.2f}')"
   ]
  },
  {
   "cell_type": "markdown",
   "id": "bc96b04d",
   "metadata": {
    "id": "bc96b04d"
   },
   "source": [
    "### 7. Store the data above in a pandas DataFrame called df containing exactly in the following columns: Character Name, Character ID, Total Available Events, Total Available Series, Total Available Comics, Price of the Most Expensive Comic. If a character is not featured in Events, Series or Comics the corresponding entry should be filled in with a None (of NoneType). If a character does not have a Price the corresponding entry should be filled in with a None (of NoneType)."
   ]
  },
  {
   "cell_type": "code",
   "execution_count": 95,
   "id": "0582be0c",
   "metadata": {
    "id": "0582be0c",
    "outputId": "b82c611e-1353-499f-c41f-814271b3c91e"
   },
   "outputs": [],
   "source": [
    "# Create the DataFrame\n",
    "#df = marvel_info.create_character_data_dataframe(character_ids)\n",
    "\n",
    "# Print the DataFrame\n",
    "#df"
   ]
  },
  {
   "cell_type": "markdown",
   "id": "fd148545",
   "metadata": {
    "id": "fd148545"
   },
   "source": [
    "### 8.Save df to a file called data.csv"
   ]
  },
  {
   "cell_type": "code",
   "execution_count": 96,
   "id": "40e49c84",
   "metadata": {
    "id": "40e49c84"
   },
   "outputs": [],
   "source": [
    "# marvel_info.save_to_csv(df, 'data.csv')"
   ]
  },
  {
   "cell_type": "markdown",
   "id": "4XLQ9sRigyuU",
   "metadata": {
    "id": "4XLQ9sRigyuU"
   },
   "source": [
    "# Part 2. API Server Documentation\n",
    "\n",
    "### Introduction\n",
    "**api_server.py** is a Python script that creates a local API server. The API server allows users to interact with the data.csv file generated in Part 1 of the assignment. The base data.csv file contains a list of 30 marvel characters with their character name, their character ID, the total number of available events per character ,the total number of available series per character, the total number of available comics per character, and the price of the most expensive comic per character. The **client_enhanced.py** Python script contains multiple example requests to the API, showcasing all features of the API.\n",
    "\n",
    "### Basic functions\n",
    "The API contains some basic functions:\n",
    "- Character Information Retrieval (via GET request)\n",
    "- Adding new Characters to the database with full user input (via POST request)\n",
    "- Adding new Characters to the database with missing information retrieved from the Marvel API (via POST request)\n",
    "- Deleting Characters (via DELETE request)\n",
    "- Modifying the price of the most expensive comic of a character with integrated exchange rate implementer (via PUT request)\n",
    "- ***NOT IMPLEMENTED YET*** The SignUP, Login and OAuthentication have yet to be implemented. Related code has been commented out\n",
    "\n",
    "### Requirements\n",
    "To run the API server, you need to have the following installed:\n",
    "\n",
    "- Python 3.x\n",
    "- flask\n",
    "- pandas\n",
    "- requests\n",
    "- from flask_restful -> Resource, Api, reqparse\n",
    "\n",
    "**To start the API server:**\n",
    "1. Open **api_server.py** and edit \"os.chdir(r'your path here')\" on line 55 to define the working directory which must contain the other related files (data.csv)\n",
    "2. In your command console move to the working directory (i.e. cd \"your path here'')\n",
    "3. Use \"Python api_server.py\" to start the server. This will start the server on http://localhost:5000/.\n",
    "4. In order to test the server you can afterward let run the code of the client in another command console with \"Python client_enhanced.py\". But of course, before you can let run the client in the other command console, you have to adjust the directory, using the following cd \"your path here\".\n",
    "\n",
    "\n",
    "### Using the API\n",
    "\n",
    "Endpoints: **The API server only has one endpoint**\n",
    "\n",
    "\n",
    "**/characters** -->\n",
    "This endpoint allows users to interact with the data.csv file. The following methods are available:\n",
    "\n",
    "\n",
    "- GET /characters: Retrieves the whole DataFrame in JSON format.\n",
    "- GET /characters/\"id_or_name\": Retrieves information for a single entry or for a list of entries identified by either the Character Name or the Character ID.\n",
    "\n",
    "- POST /characters: Adds a new character to the existing DataFrame by specifying all its characteristics (Character Name, Character ID, Available Events, Available Series, Available Comics, and Price of Comic). The API restricts addition of characters with pre-existing Character IDs.\n",
    "\n",
    "- POST /characters/\"id\": Adds a new character to the existing DataFrame by specifying only the Character ID. The API fills in the remaining information by extracting it from Marvel's API and appending to the DataFrame. The API returns an error if the provided character ID is not found in the Marvel database connecting with the Marvel API because remaining information cannot be retrieved.\n",
    "\n",
    "- DELETE /characters/\"id_or_name\": Deletes a character or a list of characters by providing either the Character ID or the Character Name. The API returns an error if the character you are trying to delete does not exist in the DataFrame.\n",
    "    \n",
    "- PUT /characters/\"id_or_name\": We also created a method to solve the bonus task. We created a method that is performing a PUT-request. With this method we can adjust the price of the most expensive comic per character. This adjustment is either done based on the character ID or on the character's name. The price for the most expensive comic can also be adjusted for multiple characters at the same time providing a list of character ids or character names.\n",
    "\n",
    "\n",
    "The **api_server.py** file itself contains comments and annotations to allow the inner workings of the API to be better understood.\n",
    "\n",
    "### Warnings!\n",
    "When using a POST request without all information specified, the API will request information from the Marvel API. The Marvel API, however, is still in beta and, at points, returns unexpected errors."
   ]
  },
  {
   "cell_type": "code",
   "execution_count": null,
   "id": "f8893894",
   "metadata": {},
   "outputs": [],
   "source": []
  }
 ],
 "metadata": {
  "colab": {
   "provenance": []
  },
  "kernelspec": {
   "display_name": "Python 3 (ipykernel)",
   "language": "python",
   "name": "python3"
  },
  "language_info": {
   "codemirror_mode": {
    "name": "ipython",
    "version": 3
   },
   "file_extension": ".py",
   "mimetype": "text/x-python",
   "name": "python",
   "nbconvert_exporter": "python",
   "pygments_lexer": "ipython3",
   "version": "3.9.6"
  }
 },
 "nbformat": 4,
 "nbformat_minor": 5
}
